{
  "nbformat": 4,
  "nbformat_minor": 0,
  "metadata": {
    "colab": {
      "name": "Text_Processing.ipynb",
      "provenance": [],
      "collapsed_sections": [],
      "authorship_tag": "ABX9TyOV8mNHBU8Qv05HmzDPMeRq",
      "include_colab_link": true
    },
    "kernelspec": {
      "name": "python3",
      "display_name": "Python 3"
    },
    "language_info": {
      "name": "python"
    }
  },
  "cells": [
    {
      "cell_type": "markdown",
      "metadata": {
        "id": "view-in-github",
        "colab_type": "text"
      },
      "source": [
        "<a href=\"https://colab.research.google.com/github/hemasphere/CS381/blob/main/Text_Processing.ipynb\" target=\"_parent\"><img src=\"https://colab.research.google.com/assets/colab-badge.svg\" alt=\"Open In Colab\"/></a>"
      ]
    },
    {
      "cell_type": "markdown",
      "source": [
        "Hema Muni\n",
        "\n",
        "CS 381\n",
        "\n",
        "Homework 3"
      ],
      "metadata": {
        "id": "gK0PIDt0wrkv"
      }
    },
    {
      "cell_type": "markdown",
      "source": [
        "For the first 5 problems use the following data\n",
        " \n",
        "\"555-1239Dr. Bernard Lander(636) 555-0113Hollingdorp, Donnatella555-6542Fitzgerald, F. Sco\\\n",
        "tt555 8904Rev. Martin Luther King636-555-3226Snodgrass, Theodore5553642Carlamina Scarfoni\"\n",
        "\n",
        "\n",
        "\n"
      ],
      "metadata": {
        "id": "jARUqSfEw_8p"
      }
    },
    {
      "cell_type": "markdown",
      "source": [
        "1) Extract the Numbers"
      ],
      "metadata": {
        "id": "K1LjJffYxDDL"
      }
    },
    {
      "cell_type": "code",
      "source": [
        "text = \"555-1239Dr. Bernard Lander(636) 555-0113Hollingdorp, Donnatella555-6542Fitzgerald, F. Sco\\\n",
        "        tt555 8904Rev. Martin Luther King636-555-3226Snodgrass, Theodore5553642Carlamina Scarfoni\""
      ],
      "metadata": {
        "id": "nAmsC1aMxKTP"
      },
      "execution_count": null,
      "outputs": []
    },
    {
      "cell_type": "code",
      "source": [
        "nums = \"\"\n",
        "for i in text:\n",
        "  if i.isdigit():\n",
        "    nums+=i\n",
        "\n",
        "print(nums)"
      ],
      "metadata": {
        "colab": {
          "base_uri": "https://localhost:8080/"
        },
        "id": "T-pCamiB1m9d",
        "outputId": "4d1b6825-3c6e-457d-ac5d-337575eb2ad4"
      },
      "execution_count": null,
      "outputs": [
        {
          "output_type": "stream",
          "name": "stdout",
          "text": [
            "555123963655501135556542555890463655532265553642\n"
          ]
        }
      ]
    },
    {
      "cell_type": "markdown",
      "source": [
        "2) Extract the names"
      ],
      "metadata": {
        "id": "OKwnN0FgxG_1"
      }
    },
    {
      "cell_type": "code",
      "source": [
        "import re\n",
        "\n",
        "name_list = re.findall(r\"[A-Z][a-z]+,?\\s+(?:[A-Z][a-z]*\\.?\\s*)?[A-Z][a-z]+\", text)\n",
        "\n",
        "print(name_list)\n",
        "\n",
        "#https://stackoverflow.com/questions/55194224/extract-names-from-string-with-python-regex"
      ],
      "metadata": {
        "colab": {
          "base_uri": "https://localhost:8080/"
        },
        "id": "1kkabWt2PquP",
        "outputId": "52c1e10f-2816-4ef2-baf0-0945778e06c8"
      },
      "execution_count": null,
      "outputs": [
        {
          "output_type": "stream",
          "name": "stdout",
          "text": [
            "['Bernard Lander', 'Hollingdorp, Donnatella', 'Fitzgerald, F. Sco', 'Martin Luther King', 'Snodgrass, Theodore', 'Carlamina Scarfoni']\n"
          ]
        }
      ]
    },
    {
      "cell_type": "markdown",
      "source": [
        "3) Rearrange the vector so that all elements conform to the standard “firstname lastname”, preserving any titles (e.g., “Rev.”, “Dr.”, etc) or middle/second names."
      ],
      "metadata": {
        "id": "ak43nWFuxHC0"
      }
    },
    {
      "cell_type": "code",
      "source": [
        "fullName = re.findall(r\"[^()0-9-]+\", text)\n",
        "print(fullName)"
      ],
      "metadata": {
        "colab": {
          "base_uri": "https://localhost:8080/"
        },
        "id": "VtXYVgHFFeGs",
        "outputId": "c8a4643d-e431-40eb-8a33-cf8cd038510b"
      },
      "execution_count": null,
      "outputs": [
        {
          "output_type": "stream",
          "name": "stdout",
          "text": [
            "['Dr. Bernard Lander', ' ', 'Hollingdorp, Donnatella', 'Fitzgerald, F. Sco        tt', ' ', 'Rev. Martin Luther King', 'Snodgrass, Theodore', 'Carlamina Scarfoni']\n"
          ]
        }
      ]
    },
    {
      "cell_type": "markdown",
      "source": [
        "4) Construct a logical vector indicating whether a character has a title (i.e., Rev. and Dr.)"
      ],
      "metadata": {
        "id": "6338taCAxHGc"
      }
    },
    {
      "cell_type": "code",
      "source": [
        "character_REV = \"Rev. \"\n",
        "character_DR = \"Dr. \"\n",
        "character_vector = []\n",
        "\n",
        "for i in fullName:\n",
        "  if character_REV in fullName or character_DR in fullName:\n",
        "    character_vector.append(True)\n",
        "  else:\n",
        "    character_vector.append(False)\n",
        "\n",
        "print(character_vector)\n"
      ],
      "metadata": {
        "id": "hFxuNYD8xRhD",
        "colab": {
          "base_uri": "https://localhost:8080/"
        },
        "outputId": "cb0b456d-38dc-4e67-cc5b-bcf6acd749ba"
      },
      "execution_count": null,
      "outputs": [
        {
          "output_type": "stream",
          "name": "stdout",
          "text": [
            "[False, False, False, False, False, False, False, False]\n"
          ]
        }
      ]
    },
    {
      "cell_type": "markdown",
      "source": [
        "5) Construct a logical vector indicating whether a character has a middle/second name."
      ],
      "metadata": {
        "id": "4IQt2F4WxHJW"
      }
    },
    {
      "cell_type": "code",
      "source": [
        ""
      ],
      "metadata": {
        "id": "ZOTopDrtxVba"
      },
      "execution_count": null,
      "outputs": []
    },
    {
      "cell_type": "markdown",
      "source": [
        "6) Consider the HTML string \n",
        "\"<title>BREAKING NEWS<title>\". \n",
        "We would like to extract the first HTML tag (i.e., “<title>”). To do so we write the regular expression “<.+>”. Explain why this fails and correct the expression."
      ],
      "metadata": {
        "id": "N9Hxs7MlxSAx"
      }
    },
    {
      "cell_type": "code",
      "source": [
        "html_string = \"<title>BREAKING NEWS</title>\"\n",
        "title_tag = re.findall(r'<[^>]+>', html_string)\n",
        "\n",
        "for i in title_tag:\n",
        "  print(i)"
      ],
      "metadata": {
        "id": "KzP9Jfc0xWsT",
        "colab": {
          "base_uri": "https://localhost:8080/"
        },
        "outputId": "e40d0c02-03a2-489d-81bb-12c1dd6cf865"
      },
      "execution_count": null,
      "outputs": [
        {
          "output_type": "stream",
          "name": "stdout",
          "text": [
            "<title>\n",
            "</title>\n"
          ]
        }
      ]
    },
    {
      "cell_type": "markdown",
      "source": [
        "7) Consider the string “(5-3)^2=5^2-2*5*3+3^2”. We would like to extract the equation in its entirety from the string. To do so we write the regular expression “[^0-9=+*()]+”. Explain why this fails and correct the expression."
      ],
      "metadata": {
        "id": "BS9lgsIpxSDg"
      }
    },
    {
      "cell_type": "markdown",
      "source": [
        "If we do [^0-9=+*()] then the ^ symbol means any non-digit character which is what we don't want.  "
      ],
      "metadata": {
        "id": "wugsMmSnkNuz"
      }
    },
    {
      "cell_type": "code",
      "source": [
        "\"\\(5-3\\)\\^2=5\\^2-2\\*5\\*3\\+3\\^2\""
      ],
      "metadata": {
        "id": "UattUGUuxXGR"
      },
      "execution_count": null,
      "outputs": []
    }
  ]
}
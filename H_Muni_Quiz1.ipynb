{
  "cells": [
    {
      "cell_type": "markdown",
      "metadata": {
        "id": "view-in-github",
        "colab_type": "text"
      },
      "source": [
        "<a href=\"https://colab.research.google.com/github/hemasphere/CS381/blob/main/H_Muni_Quiz1.ipynb\" target=\"_parent\"><img src=\"https://colab.research.google.com/assets/colab-badge.svg\" alt=\"Open In Colab\"/></a>"
      ]
    },
    {
      "cell_type": "markdown",
      "metadata": {
        "id": "HX6XTgyEw3d3"
      },
      "source": [
        "Hema Muni\n",
        "\n",
        "CS 381\n",
        "\n",
        "Quiz 1"
      ]
    },
    {
      "cell_type": "markdown",
      "metadata": {
        "id": "PGGCGqhVvTT8"
      },
      "source": [
        "#**Part 1: Data Summary**"
      ]
    },
    {
      "cell_type": "markdown",
      "source": [
        "## **Use Cases:**"
      ],
      "metadata": {
        "id": "ew9gDMMXUpeu"
      }
    },
    {
      "cell_type": "markdown",
      "source": [
        "You would need to know the importance of these attributes if:\n",
        "\n",
        "\n",
        "1.   You work the diamond buisness\n",
        "2.   Want to buy diamonds\n",
        "3.   Want to sell your diamonds\n",
        "\n"
      ],
      "metadata": {
        "id": "ycxBugRJmGKk"
      }
    },
    {
      "cell_type": "markdown",
      "source": [
        "##**Attributes**:"
      ],
      "metadata": {
        "id": "2577OEJM1C-l"
      }
    },
    {
      "cell_type": "markdown",
      "source": [
        "Price: \n",
        "*   price in US dollars (\\$326--\\$18,823)\n",
        "\n",
        "Carat: \n",
        "*   weight of the diamond (0.2--5.01)\n",
        "\n",
        "Cut: \n",
        "*   quality of the cut (Fair, Good, Very Good, Premium, Ideal)\n",
        "\n",
        "Color: \n",
        "*   diamond colour, from D (best) to J (worst)\n",
        "\n",
        "Clarity: \n",
        "*   a measurement of how clear the diamond is (I1 (worst), SI2, SI1, VS2, VS1, VVS2, VVS1, IF (best))\n",
        "\n",
        "x: \n",
        "*   length in mm (0--10.74)\n",
        "\n",
        "y: \n",
        "*   width in mm (0--58.9)\n",
        "\n",
        "z: \n",
        "*   depth in mm (0--31.8)\n",
        "\n",
        "Depth: \n",
        "*   total depth percentage = z / mean(x, y) = 2 * z / (x + y) (43--79)\n",
        "\n",
        "Table: \n",
        "*   width of top of diamond relative to widest point (43--95)\n"
      ],
      "metadata": {
        "id": "MrsnL4H11DLJ"
      }
    },
    {
      "cell_type": "markdown",
      "source": [
        "##**Importance**"
      ],
      "metadata": {
        "id": "hbaCTfHu5svj"
      }
    },
    {
      "cell_type": "markdown",
      "source": [
        "###**Price:**\n",
        "The shape of price is (53940,) which means there are 53,940 rows in that column. To get the shape we can do:\n",
        "\n",
        "```\n",
        "df[\"price\"].shape\n",
        "```\n",
        "Depending of the carat weight, color, cut, clarity, that's what the price would be. There are the 4C's and they are very important\n",
        "\n"
      ],
      "metadata": {
        "id": "HgyMD8KI59we"
      }
    },
    {
      "cell_type": "markdown",
      "source": [
        "### **Carat:**\n",
        "The shape of carat is (53940,) which means there are 53,940 rows in that column. To get the shape we can do:\n",
        "\n",
        "```\n",
        "df[\"carat\"].shape\n",
        "```\n",
        "\n",
        "When calculating the carats, the way to do it is weight (in grams) the diamond and divide that number by .2. \n"
      ],
      "metadata": {
        "id": "D6D_oOYxJN52"
      }
    },
    {
      "cell_type": "markdown",
      "source": [
        "### **Cut:**\n",
        "The shape of cut is (53940,) which means there are 53,940 rows in that column. To get the shape we can do:\n",
        "\n",
        "```\n",
        "df[\"cut\"].shape\n",
        "```\n",
        "\n",
        "The cut is how the diamond is cut and polished, including the depth and symmetry. A well cut diamond reflects white back into your eyes. A poorly cut diamond is rather dull. It's the most important of the 4Cs. "
      ],
      "metadata": {
        "id": "PpGP3kyXJOCQ"
      }
    },
    {
      "cell_type": "markdown",
      "source": [
        "### **Color:**\n",
        "The shape of color is (53940,) which means there are 53,940 rows in that column. To get the shape we can do:\n",
        "\n",
        "```\n",
        "df[\"color\"].shape\n",
        "```\n",
        "There are many different colors in diamonds and each one represents something and is it a category. If a diamond is colorless with an icy look, it means it rare and the heighest quality and it falls into the D-F color category. If it is near-colorless, it means that there's a great value for the quality and it falls into the G-H, I-J color category. If there's a faint color, it means it's budget-friendly and pairs well with yellow gold and it falls into the K color category.\n",
        "\n"
      ],
      "metadata": {
        "id": "ZnzlYFK5JOFo"
      }
    },
    {
      "cell_type": "markdown",
      "source": [
        "### **Clarity:**\n",
        "The shape of clarity is (53940,) which means there are 53,940 rows in that column. To get the shape we can do:\n",
        "\n",
        "```\n",
        "df[\"clarity\"].shape\n",
        "```\n",
        "There are many catergories when looking at the clarity. There are Included Diamonds which are labeled as: I1, I2, I3. They are likely to be visible and have an impact of beauty. There are Slightly Included which are labeled as: SI1, SI2. SI diamonds can be the best value, and SI2 can be decetable, \"especially when viewed from the side\". There are Very Slightly Included Diamonds which are labeled as: VS1, VS2. They range from being difficult to see, to somewhat easy and have great value. There are Very, Very Slightly Included Diamonds that are labeled as: VVS1, VVS2. They are difficult to see even under trained eyes, and the clarity is rare. There are Internally Flawless Diamonds that are labeled as: IF. IF diamonds have only surface characteristics and can be visually eye clean. Lastly there are Flawless Diamonds that are labeled as: FL. There are no internal or external characteristics and less than 1% of all diamonds have FL clarity. It's extremely rare to find these because it's almost impossible to find a diamond that is 100% inclusion free. "
      ],
      "metadata": {
        "id": "R3OCcjBuJOIt"
      }
    },
    {
      "cell_type": "markdown",
      "source": [
        "### **x:**\n",
        "The shape of x is (53940,) which means there are 53,940 rows in that column. To get the shape we can do:\n",
        "\n",
        "```\n",
        "df[\"x\"].shape\n",
        "```\n",
        "The range cannot start at 0 because we can't have 0 as a length in mm"
      ],
      "metadata": {
        "id": "tCDOY8QuJOLx"
      }
    },
    {
      "cell_type": "markdown",
      "source": [
        "### **y:**\n",
        "The shape of y is (53940,) which means there are 53,940 rows in that column. To get the shape we can do:\n",
        "```\n",
        "df[\"y\"].shape\n",
        "```\n",
        "The range cannot start at 0 because we can't have 0 as a width in mm\n"
      ],
      "metadata": {
        "id": "8u2G6k85JOOC"
      }
    },
    {
      "cell_type": "markdown",
      "source": [
        "### **z:**\n",
        "The shape of z is (53940,) which means there are 53,940 rows in that column. To get the shape we can do:\n",
        "```\n",
        "df[\"z\"].shape\n",
        "```\n",
        "The range cannot start at 0 because we can't have 0 as a height in mm"
      ],
      "metadata": {
        "id": "77ciEQqDJhso"
      }
    },
    {
      "cell_type": "markdown",
      "source": [
        "### **Depth:**\n",
        "The shape of depth is (53940,) which means there are 53,940 rows in that column. To get the shape we can do:\n",
        "\n",
        "```\n",
        "df[\"depth\"].shape\n",
        "```\n",
        "The depth can also be called the height which is the distance from a table to the pointed tip. To find the depth we can do total depth/total width. Using this formula, one can find the overall proportions of the diamond and see how light reflects off of the stone. The depth very much impacts the sparkle. If the cut is shallow, light will pass through and leave the lower half with no refelction. If the cut is deep, there will be a poor sparkle and the stone would look smaller. \n"
      ],
      "metadata": {
        "id": "CV8ANC0lJhw4"
      }
    },
    {
      "cell_type": "markdown",
      "source": [
        "### **Table:**\n",
        "The shape of table is (53940,) which means there are 53,940 rows in that column. To get the shape we can do:\n",
        "\n",
        "```\n",
        "df[\"table\"].shape\n",
        "```\n",
        "\n",
        "This flat part of the diamond on the top is called the table, and it plays an important role in a diamond’s appearance. It refracts rays of light as they pass, directing them so it can look sparkly. If the table on a diamond is large, the crown doesn't have room to disperse light. If the table is small, there won’t be much light getting into the stone.\n",
        "\n",
        "To find the size of the table, the formula is table = table width/total width. The size of the table is extremely important in a diamonds appearance because it will either look dull, or sparkle. \n"
      ],
      "metadata": {
        "id": "mmwIsXE_Jh1A"
      }
    },
    {
      "cell_type": "markdown",
      "metadata": {
        "id": "FkxzXc3zvTaF"
      },
      "source": [
        "# **Part 2: Exploratory Data Analysis (EDA)**"
      ]
    },
    {
      "cell_type": "code",
      "execution_count": 9,
      "metadata": {
        "id": "DMWVRuRtw1Kb"
      },
      "outputs": [],
      "source": [
        "import pandas as pd\n",
        "import numpy as np\n",
        "import seaborn as sns\n",
        "import matplotlib.pyplot as plt\n"
      ]
    },
    {
      "cell_type": "code",
      "execution_count": 10,
      "metadata": {
        "colab": {
          "base_uri": "https://localhost:8080/",
          "height": 424
        },
        "id": "PMBLzR1RnTFX",
        "outputId": "aa99a1d2-a7fd-4885-b0a1-76fa27144ab9"
      },
      "outputs": [
        {
          "output_type": "execute_result",
          "data": {
            "text/plain": [
              "       carat        cut color clarity  depth  table  price     x     y     z\n",
              "1       0.23      Ideal     E     SI2   61.5   55.0    326  3.95  3.98  2.43\n",
              "2       0.21    Premium     E     SI1   59.8   61.0    326  3.89  3.84  2.31\n",
              "3       0.23       Good     E     VS1   56.9   65.0    327  4.05  4.07  2.31\n",
              "4       0.29    Premium     I     VS2   62.4   58.0    334  4.20  4.23  2.63\n",
              "5       0.31       Good     J     SI2   63.3   58.0    335  4.34  4.35  2.75\n",
              "...      ...        ...   ...     ...    ...    ...    ...   ...   ...   ...\n",
              "53936   0.72      Ideal     D     SI1   60.8   57.0   2757  5.75  5.76  3.50\n",
              "53937   0.72       Good     D     SI1   63.1   55.0   2757  5.69  5.75  3.61\n",
              "53938   0.70  Very Good     D     SI1   62.8   60.0   2757  5.66  5.68  3.56\n",
              "53939   0.86    Premium     H     SI2   61.0   58.0   2757  6.15  6.12  3.74\n",
              "53940   0.75      Ideal     D     SI2   62.2   55.0   2757  5.83  5.87  3.64\n",
              "\n",
              "[53940 rows x 10 columns]"
            ],
            "text/html": [
              "\n",
              "  <div id=\"df-21124947-7ef5-4804-b1a2-d619bbe0cbac\">\n",
              "    <div class=\"colab-df-container\">\n",
              "      <div>\n",
              "<style scoped>\n",
              "    .dataframe tbody tr th:only-of-type {\n",
              "        vertical-align: middle;\n",
              "    }\n",
              "\n",
              "    .dataframe tbody tr th {\n",
              "        vertical-align: top;\n",
              "    }\n",
              "\n",
              "    .dataframe thead th {\n",
              "        text-align: right;\n",
              "    }\n",
              "</style>\n",
              "<table border=\"1\" class=\"dataframe\">\n",
              "  <thead>\n",
              "    <tr style=\"text-align: right;\">\n",
              "      <th></th>\n",
              "      <th>carat</th>\n",
              "      <th>cut</th>\n",
              "      <th>color</th>\n",
              "      <th>clarity</th>\n",
              "      <th>depth</th>\n",
              "      <th>table</th>\n",
              "      <th>price</th>\n",
              "      <th>x</th>\n",
              "      <th>y</th>\n",
              "      <th>z</th>\n",
              "    </tr>\n",
              "  </thead>\n",
              "  <tbody>\n",
              "    <tr>\n",
              "      <th>1</th>\n",
              "      <td>0.23</td>\n",
              "      <td>Ideal</td>\n",
              "      <td>E</td>\n",
              "      <td>SI2</td>\n",
              "      <td>61.5</td>\n",
              "      <td>55.0</td>\n",
              "      <td>326</td>\n",
              "      <td>3.95</td>\n",
              "      <td>3.98</td>\n",
              "      <td>2.43</td>\n",
              "    </tr>\n",
              "    <tr>\n",
              "      <th>2</th>\n",
              "      <td>0.21</td>\n",
              "      <td>Premium</td>\n",
              "      <td>E</td>\n",
              "      <td>SI1</td>\n",
              "      <td>59.8</td>\n",
              "      <td>61.0</td>\n",
              "      <td>326</td>\n",
              "      <td>3.89</td>\n",
              "      <td>3.84</td>\n",
              "      <td>2.31</td>\n",
              "    </tr>\n",
              "    <tr>\n",
              "      <th>3</th>\n",
              "      <td>0.23</td>\n",
              "      <td>Good</td>\n",
              "      <td>E</td>\n",
              "      <td>VS1</td>\n",
              "      <td>56.9</td>\n",
              "      <td>65.0</td>\n",
              "      <td>327</td>\n",
              "      <td>4.05</td>\n",
              "      <td>4.07</td>\n",
              "      <td>2.31</td>\n",
              "    </tr>\n",
              "    <tr>\n",
              "      <th>4</th>\n",
              "      <td>0.29</td>\n",
              "      <td>Premium</td>\n",
              "      <td>I</td>\n",
              "      <td>VS2</td>\n",
              "      <td>62.4</td>\n",
              "      <td>58.0</td>\n",
              "      <td>334</td>\n",
              "      <td>4.20</td>\n",
              "      <td>4.23</td>\n",
              "      <td>2.63</td>\n",
              "    </tr>\n",
              "    <tr>\n",
              "      <th>5</th>\n",
              "      <td>0.31</td>\n",
              "      <td>Good</td>\n",
              "      <td>J</td>\n",
              "      <td>SI2</td>\n",
              "      <td>63.3</td>\n",
              "      <td>58.0</td>\n",
              "      <td>335</td>\n",
              "      <td>4.34</td>\n",
              "      <td>4.35</td>\n",
              "      <td>2.75</td>\n",
              "    </tr>\n",
              "    <tr>\n",
              "      <th>...</th>\n",
              "      <td>...</td>\n",
              "      <td>...</td>\n",
              "      <td>...</td>\n",
              "      <td>...</td>\n",
              "      <td>...</td>\n",
              "      <td>...</td>\n",
              "      <td>...</td>\n",
              "      <td>...</td>\n",
              "      <td>...</td>\n",
              "      <td>...</td>\n",
              "    </tr>\n",
              "    <tr>\n",
              "      <th>53936</th>\n",
              "      <td>0.72</td>\n",
              "      <td>Ideal</td>\n",
              "      <td>D</td>\n",
              "      <td>SI1</td>\n",
              "      <td>60.8</td>\n",
              "      <td>57.0</td>\n",
              "      <td>2757</td>\n",
              "      <td>5.75</td>\n",
              "      <td>5.76</td>\n",
              "      <td>3.50</td>\n",
              "    </tr>\n",
              "    <tr>\n",
              "      <th>53937</th>\n",
              "      <td>0.72</td>\n",
              "      <td>Good</td>\n",
              "      <td>D</td>\n",
              "      <td>SI1</td>\n",
              "      <td>63.1</td>\n",
              "      <td>55.0</td>\n",
              "      <td>2757</td>\n",
              "      <td>5.69</td>\n",
              "      <td>5.75</td>\n",
              "      <td>3.61</td>\n",
              "    </tr>\n",
              "    <tr>\n",
              "      <th>53938</th>\n",
              "      <td>0.70</td>\n",
              "      <td>Very Good</td>\n",
              "      <td>D</td>\n",
              "      <td>SI1</td>\n",
              "      <td>62.8</td>\n",
              "      <td>60.0</td>\n",
              "      <td>2757</td>\n",
              "      <td>5.66</td>\n",
              "      <td>5.68</td>\n",
              "      <td>3.56</td>\n",
              "    </tr>\n",
              "    <tr>\n",
              "      <th>53939</th>\n",
              "      <td>0.86</td>\n",
              "      <td>Premium</td>\n",
              "      <td>H</td>\n",
              "      <td>SI2</td>\n",
              "      <td>61.0</td>\n",
              "      <td>58.0</td>\n",
              "      <td>2757</td>\n",
              "      <td>6.15</td>\n",
              "      <td>6.12</td>\n",
              "      <td>3.74</td>\n",
              "    </tr>\n",
              "    <tr>\n",
              "      <th>53940</th>\n",
              "      <td>0.75</td>\n",
              "      <td>Ideal</td>\n",
              "      <td>D</td>\n",
              "      <td>SI2</td>\n",
              "      <td>62.2</td>\n",
              "      <td>55.0</td>\n",
              "      <td>2757</td>\n",
              "      <td>5.83</td>\n",
              "      <td>5.87</td>\n",
              "      <td>3.64</td>\n",
              "    </tr>\n",
              "  </tbody>\n",
              "</table>\n",
              "<p>53940 rows × 10 columns</p>\n",
              "</div>\n",
              "      <button class=\"colab-df-convert\" onclick=\"convertToInteractive('df-21124947-7ef5-4804-b1a2-d619bbe0cbac')\"\n",
              "              title=\"Convert this dataframe to an interactive table.\"\n",
              "              style=\"display:none;\">\n",
              "        \n",
              "  <svg xmlns=\"http://www.w3.org/2000/svg\" height=\"24px\"viewBox=\"0 0 24 24\"\n",
              "       width=\"24px\">\n",
              "    <path d=\"M0 0h24v24H0V0z\" fill=\"none\"/>\n",
              "    <path d=\"M18.56 5.44l.94 2.06.94-2.06 2.06-.94-2.06-.94-.94-2.06-.94 2.06-2.06.94zm-11 1L8.5 8.5l.94-2.06 2.06-.94-2.06-.94L8.5 2.5l-.94 2.06-2.06.94zm10 10l.94 2.06.94-2.06 2.06-.94-2.06-.94-.94-2.06-.94 2.06-2.06.94z\"/><path d=\"M17.41 7.96l-1.37-1.37c-.4-.4-.92-.59-1.43-.59-.52 0-1.04.2-1.43.59L10.3 9.45l-7.72 7.72c-.78.78-.78 2.05 0 2.83L4 21.41c.39.39.9.59 1.41.59.51 0 1.02-.2 1.41-.59l7.78-7.78 2.81-2.81c.8-.78.8-2.07 0-2.86zM5.41 20L4 18.59l7.72-7.72 1.47 1.35L5.41 20z\"/>\n",
              "  </svg>\n",
              "      </button>\n",
              "      \n",
              "  <style>\n",
              "    .colab-df-container {\n",
              "      display:flex;\n",
              "      flex-wrap:wrap;\n",
              "      gap: 12px;\n",
              "    }\n",
              "\n",
              "    .colab-df-convert {\n",
              "      background-color: #E8F0FE;\n",
              "      border: none;\n",
              "      border-radius: 50%;\n",
              "      cursor: pointer;\n",
              "      display: none;\n",
              "      fill: #1967D2;\n",
              "      height: 32px;\n",
              "      padding: 0 0 0 0;\n",
              "      width: 32px;\n",
              "    }\n",
              "\n",
              "    .colab-df-convert:hover {\n",
              "      background-color: #E2EBFA;\n",
              "      box-shadow: 0px 1px 2px rgba(60, 64, 67, 0.3), 0px 1px 3px 1px rgba(60, 64, 67, 0.15);\n",
              "      fill: #174EA6;\n",
              "    }\n",
              "\n",
              "    [theme=dark] .colab-df-convert {\n",
              "      background-color: #3B4455;\n",
              "      fill: #D2E3FC;\n",
              "    }\n",
              "\n",
              "    [theme=dark] .colab-df-convert:hover {\n",
              "      background-color: #434B5C;\n",
              "      box-shadow: 0px 1px 3px 1px rgba(0, 0, 0, 0.15);\n",
              "      filter: drop-shadow(0px 1px 2px rgba(0, 0, 0, 0.3));\n",
              "      fill: #FFFFFF;\n",
              "    }\n",
              "  </style>\n",
              "\n",
              "      <script>\n",
              "        const buttonEl =\n",
              "          document.querySelector('#df-21124947-7ef5-4804-b1a2-d619bbe0cbac button.colab-df-convert');\n",
              "        buttonEl.style.display =\n",
              "          google.colab.kernel.accessAllowed ? 'block' : 'none';\n",
              "\n",
              "        async function convertToInteractive(key) {\n",
              "          const element = document.querySelector('#df-21124947-7ef5-4804-b1a2-d619bbe0cbac');\n",
              "          const dataTable =\n",
              "            await google.colab.kernel.invokeFunction('convertToInteractive',\n",
              "                                                     [key], {});\n",
              "          if (!dataTable) return;\n",
              "\n",
              "          const docLinkHtml = 'Like what you see? Visit the ' +\n",
              "            '<a target=\"_blank\" href=https://colab.research.google.com/notebooks/data_table.ipynb>data table notebook</a>'\n",
              "            + ' to learn more about interactive tables.';\n",
              "          element.innerHTML = '';\n",
              "          dataTable['output_type'] = 'display_data';\n",
              "          await google.colab.output.renderOutput(dataTable, element);\n",
              "          const docLink = document.createElement('div');\n",
              "          docLink.innerHTML = docLinkHtml;\n",
              "          element.appendChild(docLink);\n",
              "        }\n",
              "      </script>\n",
              "    </div>\n",
              "  </div>\n",
              "  "
            ]
          },
          "metadata": {},
          "execution_count": 10
        }
      ],
      "source": [
        "df = pd.read_csv(\"https://raw.githubusercontent.com/hemasphere/CS381/main/diamonds.csv\")\n",
        "\n",
        "df = df.iloc[: , 1:]\n",
        "\n",
        "df.index = df.index + 1\n",
        "\n",
        "df"
      ]
    },
    {
      "cell_type": "code",
      "source": [
        "df.describe()"
      ],
      "metadata": {
        "colab": {
          "base_uri": "https://localhost:8080/",
          "height": 300
        },
        "id": "oDgoZ8ciXREg",
        "outputId": "acaa13a8-c699-4e84-adb3-9e4ee73354cf"
      },
      "execution_count": 11,
      "outputs": [
        {
          "output_type": "execute_result",
          "data": {
            "text/plain": [
              "              carat         depth         table         price             x  \\\n",
              "count  53940.000000  53940.000000  53940.000000  53940.000000  53940.000000   \n",
              "mean       0.797940     61.749405     57.457184   3932.799722      5.731157   \n",
              "std        0.474011      1.432621      2.234491   3989.439738      1.121761   \n",
              "min        0.200000     43.000000     43.000000    326.000000      0.000000   \n",
              "25%        0.400000     61.000000     56.000000    950.000000      4.710000   \n",
              "50%        0.700000     61.800000     57.000000   2401.000000      5.700000   \n",
              "75%        1.040000     62.500000     59.000000   5324.250000      6.540000   \n",
              "max        5.010000     79.000000     95.000000  18823.000000     10.740000   \n",
              "\n",
              "                  y             z  \n",
              "count  53940.000000  53940.000000  \n",
              "mean       5.734526      3.538734  \n",
              "std        1.142135      0.705699  \n",
              "min        0.000000      0.000000  \n",
              "25%        4.720000      2.910000  \n",
              "50%        5.710000      3.530000  \n",
              "75%        6.540000      4.040000  \n",
              "max       58.900000     31.800000  "
            ],
            "text/html": [
              "\n",
              "  <div id=\"df-c39e6656-dbf4-41da-a835-7db3b1cecc1c\">\n",
              "    <div class=\"colab-df-container\">\n",
              "      <div>\n",
              "<style scoped>\n",
              "    .dataframe tbody tr th:only-of-type {\n",
              "        vertical-align: middle;\n",
              "    }\n",
              "\n",
              "    .dataframe tbody tr th {\n",
              "        vertical-align: top;\n",
              "    }\n",
              "\n",
              "    .dataframe thead th {\n",
              "        text-align: right;\n",
              "    }\n",
              "</style>\n",
              "<table border=\"1\" class=\"dataframe\">\n",
              "  <thead>\n",
              "    <tr style=\"text-align: right;\">\n",
              "      <th></th>\n",
              "      <th>carat</th>\n",
              "      <th>depth</th>\n",
              "      <th>table</th>\n",
              "      <th>price</th>\n",
              "      <th>x</th>\n",
              "      <th>y</th>\n",
              "      <th>z</th>\n",
              "    </tr>\n",
              "  </thead>\n",
              "  <tbody>\n",
              "    <tr>\n",
              "      <th>count</th>\n",
              "      <td>53940.000000</td>\n",
              "      <td>53940.000000</td>\n",
              "      <td>53940.000000</td>\n",
              "      <td>53940.000000</td>\n",
              "      <td>53940.000000</td>\n",
              "      <td>53940.000000</td>\n",
              "      <td>53940.000000</td>\n",
              "    </tr>\n",
              "    <tr>\n",
              "      <th>mean</th>\n",
              "      <td>0.797940</td>\n",
              "      <td>61.749405</td>\n",
              "      <td>57.457184</td>\n",
              "      <td>3932.799722</td>\n",
              "      <td>5.731157</td>\n",
              "      <td>5.734526</td>\n",
              "      <td>3.538734</td>\n",
              "    </tr>\n",
              "    <tr>\n",
              "      <th>std</th>\n",
              "      <td>0.474011</td>\n",
              "      <td>1.432621</td>\n",
              "      <td>2.234491</td>\n",
              "      <td>3989.439738</td>\n",
              "      <td>1.121761</td>\n",
              "      <td>1.142135</td>\n",
              "      <td>0.705699</td>\n",
              "    </tr>\n",
              "    <tr>\n",
              "      <th>min</th>\n",
              "      <td>0.200000</td>\n",
              "      <td>43.000000</td>\n",
              "      <td>43.000000</td>\n",
              "      <td>326.000000</td>\n",
              "      <td>0.000000</td>\n",
              "      <td>0.000000</td>\n",
              "      <td>0.000000</td>\n",
              "    </tr>\n",
              "    <tr>\n",
              "      <th>25%</th>\n",
              "      <td>0.400000</td>\n",
              "      <td>61.000000</td>\n",
              "      <td>56.000000</td>\n",
              "      <td>950.000000</td>\n",
              "      <td>4.710000</td>\n",
              "      <td>4.720000</td>\n",
              "      <td>2.910000</td>\n",
              "    </tr>\n",
              "    <tr>\n",
              "      <th>50%</th>\n",
              "      <td>0.700000</td>\n",
              "      <td>61.800000</td>\n",
              "      <td>57.000000</td>\n",
              "      <td>2401.000000</td>\n",
              "      <td>5.700000</td>\n",
              "      <td>5.710000</td>\n",
              "      <td>3.530000</td>\n",
              "    </tr>\n",
              "    <tr>\n",
              "      <th>75%</th>\n",
              "      <td>1.040000</td>\n",
              "      <td>62.500000</td>\n",
              "      <td>59.000000</td>\n",
              "      <td>5324.250000</td>\n",
              "      <td>6.540000</td>\n",
              "      <td>6.540000</td>\n",
              "      <td>4.040000</td>\n",
              "    </tr>\n",
              "    <tr>\n",
              "      <th>max</th>\n",
              "      <td>5.010000</td>\n",
              "      <td>79.000000</td>\n",
              "      <td>95.000000</td>\n",
              "      <td>18823.000000</td>\n",
              "      <td>10.740000</td>\n",
              "      <td>58.900000</td>\n",
              "      <td>31.800000</td>\n",
              "    </tr>\n",
              "  </tbody>\n",
              "</table>\n",
              "</div>\n",
              "      <button class=\"colab-df-convert\" onclick=\"convertToInteractive('df-c39e6656-dbf4-41da-a835-7db3b1cecc1c')\"\n",
              "              title=\"Convert this dataframe to an interactive table.\"\n",
              "              style=\"display:none;\">\n",
              "        \n",
              "  <svg xmlns=\"http://www.w3.org/2000/svg\" height=\"24px\"viewBox=\"0 0 24 24\"\n",
              "       width=\"24px\">\n",
              "    <path d=\"M0 0h24v24H0V0z\" fill=\"none\"/>\n",
              "    <path d=\"M18.56 5.44l.94 2.06.94-2.06 2.06-.94-2.06-.94-.94-2.06-.94 2.06-2.06.94zm-11 1L8.5 8.5l.94-2.06 2.06-.94-2.06-.94L8.5 2.5l-.94 2.06-2.06.94zm10 10l.94 2.06.94-2.06 2.06-.94-2.06-.94-.94-2.06-.94 2.06-2.06.94z\"/><path d=\"M17.41 7.96l-1.37-1.37c-.4-.4-.92-.59-1.43-.59-.52 0-1.04.2-1.43.59L10.3 9.45l-7.72 7.72c-.78.78-.78 2.05 0 2.83L4 21.41c.39.39.9.59 1.41.59.51 0 1.02-.2 1.41-.59l7.78-7.78 2.81-2.81c.8-.78.8-2.07 0-2.86zM5.41 20L4 18.59l7.72-7.72 1.47 1.35L5.41 20z\"/>\n",
              "  </svg>\n",
              "      </button>\n",
              "      \n",
              "  <style>\n",
              "    .colab-df-container {\n",
              "      display:flex;\n",
              "      flex-wrap:wrap;\n",
              "      gap: 12px;\n",
              "    }\n",
              "\n",
              "    .colab-df-convert {\n",
              "      background-color: #E8F0FE;\n",
              "      border: none;\n",
              "      border-radius: 50%;\n",
              "      cursor: pointer;\n",
              "      display: none;\n",
              "      fill: #1967D2;\n",
              "      height: 32px;\n",
              "      padding: 0 0 0 0;\n",
              "      width: 32px;\n",
              "    }\n",
              "\n",
              "    .colab-df-convert:hover {\n",
              "      background-color: #E2EBFA;\n",
              "      box-shadow: 0px 1px 2px rgba(60, 64, 67, 0.3), 0px 1px 3px 1px rgba(60, 64, 67, 0.15);\n",
              "      fill: #174EA6;\n",
              "    }\n",
              "\n",
              "    [theme=dark] .colab-df-convert {\n",
              "      background-color: #3B4455;\n",
              "      fill: #D2E3FC;\n",
              "    }\n",
              "\n",
              "    [theme=dark] .colab-df-convert:hover {\n",
              "      background-color: #434B5C;\n",
              "      box-shadow: 0px 1px 3px 1px rgba(0, 0, 0, 0.15);\n",
              "      filter: drop-shadow(0px 1px 2px rgba(0, 0, 0, 0.3));\n",
              "      fill: #FFFFFF;\n",
              "    }\n",
              "  </style>\n",
              "\n",
              "      <script>\n",
              "        const buttonEl =\n",
              "          document.querySelector('#df-c39e6656-dbf4-41da-a835-7db3b1cecc1c button.colab-df-convert');\n",
              "        buttonEl.style.display =\n",
              "          google.colab.kernel.accessAllowed ? 'block' : 'none';\n",
              "\n",
              "        async function convertToInteractive(key) {\n",
              "          const element = document.querySelector('#df-c39e6656-dbf4-41da-a835-7db3b1cecc1c');\n",
              "          const dataTable =\n",
              "            await google.colab.kernel.invokeFunction('convertToInteractive',\n",
              "                                                     [key], {});\n",
              "          if (!dataTable) return;\n",
              "\n",
              "          const docLinkHtml = 'Like what you see? Visit the ' +\n",
              "            '<a target=\"_blank\" href=https://colab.research.google.com/notebooks/data_table.ipynb>data table notebook</a>'\n",
              "            + ' to learn more about interactive tables.';\n",
              "          element.innerHTML = '';\n",
              "          dataTable['output_type'] = 'display_data';\n",
              "          await google.colab.output.renderOutput(dataTable, element);\n",
              "          const docLink = document.createElement('div');\n",
              "          docLink.innerHTML = docLinkHtml;\n",
              "          element.appendChild(docLink);\n",
              "        }\n",
              "      </script>\n",
              "    </div>\n",
              "  </div>\n",
              "  "
            ]
          },
          "metadata": {},
          "execution_count": 11
        }
      ]
    },
    {
      "cell_type": "code",
      "source": [
        "df.corr()"
      ],
      "metadata": {
        "colab": {
          "base_uri": "https://localhost:8080/",
          "height": 269
        },
        "id": "me8iGMNpCG-7",
        "outputId": "037d1ab2-0e6e-44a4-a4d3-92f2fb812414"
      },
      "execution_count": 12,
      "outputs": [
        {
          "output_type": "execute_result",
          "data": {
            "text/plain": [
              "          carat     depth     table     price         x         y         z\n",
              "carat  1.000000  0.028224  0.181618  0.921591  0.975094  0.951722  0.953387\n",
              "depth  0.028224  1.000000 -0.295779 -0.010647 -0.025289 -0.029341  0.094924\n",
              "table  0.181618 -0.295779  1.000000  0.127134  0.195344  0.183760  0.150929\n",
              "price  0.921591 -0.010647  0.127134  1.000000  0.884435  0.865421  0.861249\n",
              "x      0.975094 -0.025289  0.195344  0.884435  1.000000  0.974701  0.970772\n",
              "y      0.951722 -0.029341  0.183760  0.865421  0.974701  1.000000  0.952006\n",
              "z      0.953387  0.094924  0.150929  0.861249  0.970772  0.952006  1.000000"
            ],
            "text/html": [
              "\n",
              "  <div id=\"df-de6d42d3-cfb8-4eb9-8b6b-7523b679b14d\">\n",
              "    <div class=\"colab-df-container\">\n",
              "      <div>\n",
              "<style scoped>\n",
              "    .dataframe tbody tr th:only-of-type {\n",
              "        vertical-align: middle;\n",
              "    }\n",
              "\n",
              "    .dataframe tbody tr th {\n",
              "        vertical-align: top;\n",
              "    }\n",
              "\n",
              "    .dataframe thead th {\n",
              "        text-align: right;\n",
              "    }\n",
              "</style>\n",
              "<table border=\"1\" class=\"dataframe\">\n",
              "  <thead>\n",
              "    <tr style=\"text-align: right;\">\n",
              "      <th></th>\n",
              "      <th>carat</th>\n",
              "      <th>depth</th>\n",
              "      <th>table</th>\n",
              "      <th>price</th>\n",
              "      <th>x</th>\n",
              "      <th>y</th>\n",
              "      <th>z</th>\n",
              "    </tr>\n",
              "  </thead>\n",
              "  <tbody>\n",
              "    <tr>\n",
              "      <th>carat</th>\n",
              "      <td>1.000000</td>\n",
              "      <td>0.028224</td>\n",
              "      <td>0.181618</td>\n",
              "      <td>0.921591</td>\n",
              "      <td>0.975094</td>\n",
              "      <td>0.951722</td>\n",
              "      <td>0.953387</td>\n",
              "    </tr>\n",
              "    <tr>\n",
              "      <th>depth</th>\n",
              "      <td>0.028224</td>\n",
              "      <td>1.000000</td>\n",
              "      <td>-0.295779</td>\n",
              "      <td>-0.010647</td>\n",
              "      <td>-0.025289</td>\n",
              "      <td>-0.029341</td>\n",
              "      <td>0.094924</td>\n",
              "    </tr>\n",
              "    <tr>\n",
              "      <th>table</th>\n",
              "      <td>0.181618</td>\n",
              "      <td>-0.295779</td>\n",
              "      <td>1.000000</td>\n",
              "      <td>0.127134</td>\n",
              "      <td>0.195344</td>\n",
              "      <td>0.183760</td>\n",
              "      <td>0.150929</td>\n",
              "    </tr>\n",
              "    <tr>\n",
              "      <th>price</th>\n",
              "      <td>0.921591</td>\n",
              "      <td>-0.010647</td>\n",
              "      <td>0.127134</td>\n",
              "      <td>1.000000</td>\n",
              "      <td>0.884435</td>\n",
              "      <td>0.865421</td>\n",
              "      <td>0.861249</td>\n",
              "    </tr>\n",
              "    <tr>\n",
              "      <th>x</th>\n",
              "      <td>0.975094</td>\n",
              "      <td>-0.025289</td>\n",
              "      <td>0.195344</td>\n",
              "      <td>0.884435</td>\n",
              "      <td>1.000000</td>\n",
              "      <td>0.974701</td>\n",
              "      <td>0.970772</td>\n",
              "    </tr>\n",
              "    <tr>\n",
              "      <th>y</th>\n",
              "      <td>0.951722</td>\n",
              "      <td>-0.029341</td>\n",
              "      <td>0.183760</td>\n",
              "      <td>0.865421</td>\n",
              "      <td>0.974701</td>\n",
              "      <td>1.000000</td>\n",
              "      <td>0.952006</td>\n",
              "    </tr>\n",
              "    <tr>\n",
              "      <th>z</th>\n",
              "      <td>0.953387</td>\n",
              "      <td>0.094924</td>\n",
              "      <td>0.150929</td>\n",
              "      <td>0.861249</td>\n",
              "      <td>0.970772</td>\n",
              "      <td>0.952006</td>\n",
              "      <td>1.000000</td>\n",
              "    </tr>\n",
              "  </tbody>\n",
              "</table>\n",
              "</div>\n",
              "      <button class=\"colab-df-convert\" onclick=\"convertToInteractive('df-de6d42d3-cfb8-4eb9-8b6b-7523b679b14d')\"\n",
              "              title=\"Convert this dataframe to an interactive table.\"\n",
              "              style=\"display:none;\">\n",
              "        \n",
              "  <svg xmlns=\"http://www.w3.org/2000/svg\" height=\"24px\"viewBox=\"0 0 24 24\"\n",
              "       width=\"24px\">\n",
              "    <path d=\"M0 0h24v24H0V0z\" fill=\"none\"/>\n",
              "    <path d=\"M18.56 5.44l.94 2.06.94-2.06 2.06-.94-2.06-.94-.94-2.06-.94 2.06-2.06.94zm-11 1L8.5 8.5l.94-2.06 2.06-.94-2.06-.94L8.5 2.5l-.94 2.06-2.06.94zm10 10l.94 2.06.94-2.06 2.06-.94-2.06-.94-.94-2.06-.94 2.06-2.06.94z\"/><path d=\"M17.41 7.96l-1.37-1.37c-.4-.4-.92-.59-1.43-.59-.52 0-1.04.2-1.43.59L10.3 9.45l-7.72 7.72c-.78.78-.78 2.05 0 2.83L4 21.41c.39.39.9.59 1.41.59.51 0 1.02-.2 1.41-.59l7.78-7.78 2.81-2.81c.8-.78.8-2.07 0-2.86zM5.41 20L4 18.59l7.72-7.72 1.47 1.35L5.41 20z\"/>\n",
              "  </svg>\n",
              "      </button>\n",
              "      \n",
              "  <style>\n",
              "    .colab-df-container {\n",
              "      display:flex;\n",
              "      flex-wrap:wrap;\n",
              "      gap: 12px;\n",
              "    }\n",
              "\n",
              "    .colab-df-convert {\n",
              "      background-color: #E8F0FE;\n",
              "      border: none;\n",
              "      border-radius: 50%;\n",
              "      cursor: pointer;\n",
              "      display: none;\n",
              "      fill: #1967D2;\n",
              "      height: 32px;\n",
              "      padding: 0 0 0 0;\n",
              "      width: 32px;\n",
              "    }\n",
              "\n",
              "    .colab-df-convert:hover {\n",
              "      background-color: #E2EBFA;\n",
              "      box-shadow: 0px 1px 2px rgba(60, 64, 67, 0.3), 0px 1px 3px 1px rgba(60, 64, 67, 0.15);\n",
              "      fill: #174EA6;\n",
              "    }\n",
              "\n",
              "    [theme=dark] .colab-df-convert {\n",
              "      background-color: #3B4455;\n",
              "      fill: #D2E3FC;\n",
              "    }\n",
              "\n",
              "    [theme=dark] .colab-df-convert:hover {\n",
              "      background-color: #434B5C;\n",
              "      box-shadow: 0px 1px 3px 1px rgba(0, 0, 0, 0.15);\n",
              "      filter: drop-shadow(0px 1px 2px rgba(0, 0, 0, 0.3));\n",
              "      fill: #FFFFFF;\n",
              "    }\n",
              "  </style>\n",
              "\n",
              "      <script>\n",
              "        const buttonEl =\n",
              "          document.querySelector('#df-de6d42d3-cfb8-4eb9-8b6b-7523b679b14d button.colab-df-convert');\n",
              "        buttonEl.style.display =\n",
              "          google.colab.kernel.accessAllowed ? 'block' : 'none';\n",
              "\n",
              "        async function convertToInteractive(key) {\n",
              "          const element = document.querySelector('#df-de6d42d3-cfb8-4eb9-8b6b-7523b679b14d');\n",
              "          const dataTable =\n",
              "            await google.colab.kernel.invokeFunction('convertToInteractive',\n",
              "                                                     [key], {});\n",
              "          if (!dataTable) return;\n",
              "\n",
              "          const docLinkHtml = 'Like what you see? Visit the ' +\n",
              "            '<a target=\"_blank\" href=https://colab.research.google.com/notebooks/data_table.ipynb>data table notebook</a>'\n",
              "            + ' to learn more about interactive tables.';\n",
              "          element.innerHTML = '';\n",
              "          dataTable['output_type'] = 'display_data';\n",
              "          await google.colab.output.renderOutput(dataTable, element);\n",
              "          const docLink = document.createElement('div');\n",
              "          docLink.innerHTML = docLinkHtml;\n",
              "          element.appendChild(docLink);\n",
              "        }\n",
              "      </script>\n",
              "    </div>\n",
              "  </div>\n",
              "  "
            ]
          },
          "metadata": {},
          "execution_count": 12
        }
      ]
    },
    {
      "cell_type": "markdown",
      "source": [
        "The closer the number is to 1, the higher they correlate. For instance, price and carat both highly correlate with each other. On the other hand, if the number is closer to 0, they do not correlate. For example, depth and price do not correlate with each other. "
      ],
      "metadata": {
        "id": "zL-fhVu5mev1"
      }
    },
    {
      "cell_type": "markdown",
      "source": [
        "## Carat Statistics "
      ],
      "metadata": {
        "id": "FIDInahZWfvI"
      }
    },
    {
      "cell_type": "code",
      "execution_count": 7,
      "metadata": {
        "id": "4kPh1XAVnTKf",
        "colab": {
          "base_uri": "https://localhost:8080/"
        },
        "outputId": "1c731258-e79d-4f22-a474-7c7ce713e364"
      },
      "outputs": [
        {
          "output_type": "execute_result",
          "data": {
            "text/plain": [
              "0.30    2604\n",
              "0.31    2249\n",
              "1.01    2242\n",
              "0.70    1981\n",
              "0.32    1840\n",
              "        ... \n",
              "3.02       1\n",
              "3.65       1\n",
              "3.50       1\n",
              "3.22       1\n",
              "3.11       1\n",
              "Name: carat, Length: 273, dtype: int64"
            ]
          },
          "metadata": {},
          "execution_count": 7
        }
      ],
      "source": [
        "carat_value = df[\"carat\"].value_counts()\n",
        "carat_value"
      ]
    },
    {
      "cell_type": "code",
      "source": [
        "#MATPLOTLIB\n",
        "plt.plot(carat_value)"
      ],
      "metadata": {
        "id": "5wru56ObtNIn",
        "colab": {
          "base_uri": "https://localhost:8080/",
          "height": 285
        },
        "outputId": "03c94538-91cb-4fa5-ed61-6c8dba9060b5"
      },
      "execution_count": 172,
      "outputs": [
        {
          "output_type": "execute_result",
          "data": {
            "text/plain": [
              "[<matplotlib.lines.Line2D at 0x7fea78071f50>]"
            ]
          },
          "metadata": {},
          "execution_count": 172
        },
        {
          "output_type": "display_data",
          "data": {
            "text/plain": [
              "<Figure size 432x288 with 1 Axes>"
            ],
            "image/png": "[encoded data removed]"
          },
          "metadata": {}
        }
      ]
    },
    {
      "cell_type": "code",
      "source": [
        "#SEABORN\n",
        "line_carat_data = sns.lineplot(data=carat_value)"
      ],
      "metadata": {
        "id": "JnykRHd3djC1",
        "colab": {
          "base_uri": "https://localhost:8080/",
          "height": 265
        },
        "outputId": "03b086cb-e088-440d-f3e9-95350d281d05"
      },
      "execution_count": null,
      "outputs": [
        {
          "output_type": "display_data",
          "data": {
            "text/plain": [
              "<Figure size 432x288 with 1 Axes>"
            ],
            "image/png": "[encoded data removed]"
          },
          "metadata": {
            "needs_background": "light"
          }
        }
      ]
    },
    {
      "cell_type": "markdown",
      "source": [
        "I used a line graph because this is numerical data and when using numerical data, we can use histograms, box plots, scatter plots or line plots. A line plot seemed like the easiest to use in this case. \n",
        "\n",
        "It seems as if the biggest seller here is a diamond with .3 carats. We know that based on the carat weight, the price can be determined. Based off the carat chart, the most poular carat weight is .3, and that would be around 600 dollars (or a little more). It seems that not a lot of diamonds were selling after about 2.5 carats, where the carat get's bigger. "
      ],
      "metadata": {
        "id": "_xqPX38Wm1g7"
      }
    },
    {
      "cell_type": "markdown",
      "source": [
        "## Cut Statistics"
      ],
      "metadata": {
        "id": "vvJftc_AWmjw"
      }
    },
    {
      "cell_type": "code",
      "source": [
        "cut_value = df[\"cut\"].value_counts()\n",
        "cut_value"
      ],
      "metadata": {
        "id": "9JGEMyv1tNQX",
        "colab": {
          "base_uri": "https://localhost:8080/"
        },
        "outputId": "4b4d499f-f784-4ec4-8ab8-5b91f3218cc4"
      },
      "execution_count": null,
      "outputs": [
        {
          "output_type": "execute_result",
          "data": {
            "text/plain": [
              "Ideal        21551\n",
              "Premium      13791\n",
              "Very Good    12082\n",
              "Good          4906\n",
              "Fair          1610\n",
              "Name: cut, dtype: int64"
            ]
          },
          "metadata": {},
          "execution_count": 92
        }
      ]
    },
    {
      "cell_type": "code",
      "source": [
        "#MATPLOTLIB\n",
        "cut_value.plot(kind=\"bar\")\n",
        "plt.show()"
      ],
      "metadata": {
        "id": "APrq0ghytNWj",
        "colab": {
          "base_uri": "https://localhost:8080/",
          "height": 315
        },
        "outputId": "4c4fc67a-c932-4868-8c77-b927c0e872e5"
      },
      "execution_count": null,
      "outputs": [
        {
          "output_type": "display_data",
          "data": {
            "text/plain": [
              "<Figure size 432x288 with 1 Axes>"
            ],
            "image/png": "[encoded data removed]"
          },
          "metadata": {}
        }
      ]
    },
    {
      "cell_type": "code",
      "source": [
        "#SEABORN\n",
        "cut_bar = sns.barplot(x=cut_value.index, y=cut_value)\n",
        "cut_bar;"
      ],
      "metadata": {
        "id": "QJh22fS6eXg2",
        "colab": {
          "base_uri": "https://localhost:8080/",
          "height": 268
        },
        "outputId": "8e8568db-87d1-41ab-f8cd-c1f7ccdce5f9"
      },
      "execution_count": null,
      "outputs": [
        {
          "output_type": "display_data",
          "data": {
            "text/plain": [
              "<Figure size 432x288 with 1 Axes>"
            ],
            "image/png": "[encoded data removed]"
          },
          "metadata": {}
        }
      ]
    },
    {
      "cell_type": "markdown",
      "source": [
        "I used a bar graph because this is categorical data and when using categorical data, we can use bar graphs to make it look neat. A bar plot seemed like the easiest to use in this case. \n",
        "\n",
        "The most popular one here is the Ideal cut, and it seems like the Fair cut is the least popular. Looking from all the graphs combined, the Fair cut seems to sell the least."
      ],
      "metadata": {
        "id": "rAANwwpom3bi"
      }
    },
    {
      "cell_type": "markdown",
      "source": [
        "## Color Statistics"
      ],
      "metadata": {
        "id": "uATiAf4BWpn-"
      }
    },
    {
      "cell_type": "code",
      "source": [
        "color_value = df[\"color\"].value_counts()\n",
        "color_value"
      ],
      "metadata": {
        "id": "DM1oYN6WtNcO",
        "colab": {
          "base_uri": "https://localhost:8080/"
        },
        "outputId": "d8085521-68f8-4f6a-859d-64c8089bc5c2"
      },
      "execution_count": null,
      "outputs": [
        {
          "output_type": "execute_result",
          "data": {
            "text/plain": [
              "G    11292\n",
              "E     9797\n",
              "F     9542\n",
              "H     8304\n",
              "D     6775\n",
              "I     5422\n",
              "J     2808\n",
              "Name: color, dtype: int64"
            ]
          },
          "metadata": {},
          "execution_count": 105
        }
      ]
    },
    {
      "cell_type": "code",
      "source": [
        "#MATPLOTLIB\n",
        "color_value.plot(kind=\"bar\")\n",
        "plt.show()"
      ],
      "metadata": {
        "id": "VQp2Ky3ltNgd",
        "colab": {
          "base_uri": "https://localhost:8080/",
          "height": 266
        },
        "outputId": "bb934284-e581-466a-bd7f-f0dfe703143e"
      },
      "execution_count": null,
      "outputs": [
        {
          "output_type": "display_data",
          "data": {
            "text/plain": [
              "<Figure size 432x288 with 1 Axes>"
            ],
            "image/png": "[encoded data removed]"
          },
          "metadata": {}
        }
      ]
    },
    {
      "cell_type": "code",
      "source": [
        "#SEABORN\n",
        "color_value = sns.barplot(x=color_value.index, y=color_value)\n",
        "color_value;"
      ],
      "metadata": {
        "id": "L-I-7_j6ea62",
        "colab": {
          "base_uri": "https://localhost:8080/",
          "height": 268
        },
        "outputId": "732ab292-780b-4d8d-89ae-0cc2f634ac78"
      },
      "execution_count": null,
      "outputs": [
        {
          "output_type": "display_data",
          "data": {
            "text/plain": [
              "<Figure size 432x288 with 1 Axes>"
            ],
            "image/png": "[encoded data removed]"
          },
          "metadata": {}
        }
      ]
    },
    {
      "cell_type": "markdown",
      "source": [
        "I used a bar graph because we can see the values easily. \n",
        "G seems to be very popular and that falls into the cateory where it's a great value and J is the one that is the worst selling. "
      ],
      "metadata": {
        "id": "92vrQ687m4ya"
      }
    },
    {
      "cell_type": "markdown",
      "source": [
        "## Clarity Statistics"
      ],
      "metadata": {
        "id": "OrHmEjNRWri3"
      }
    },
    {
      "cell_type": "code",
      "source": [
        "clarity_value = df[\"clarity\"].value_counts()\n",
        "clarity_value"
      ],
      "metadata": {
        "id": "A7cie0gLtNkc",
        "colab": {
          "base_uri": "https://localhost:8080/"
        },
        "outputId": "8dd880fd-91ad-418a-c0ec-a9f3cb84cf9f"
      },
      "execution_count": 8,
      "outputs": [
        {
          "output_type": "execute_result",
          "data": {
            "text/plain": [
              "SI1     13065\n",
              "VS2     12258\n",
              "SI2      9194\n",
              "VS1      8171\n",
              "VVS2     5066\n",
              "VVS1     3655\n",
              "IF       1790\n",
              "I1        741\n",
              "Name: clarity, dtype: int64"
            ]
          },
          "metadata": {},
          "execution_count": 8
        }
      ]
    },
    {
      "cell_type": "code",
      "source": [
        "#MATPLOTLIB\n",
        "clarity_value.plot(kind=\"bar\")\n",
        "plt.show()"
      ],
      "metadata": {
        "id": "Q9yXM569tNoB",
        "colab": {
          "base_uri": "https://localhost:8080/",
          "height": 287
        },
        "outputId": "98709bac-eee2-4935-8876-a55e7e955461"
      },
      "execution_count": null,
      "outputs": [
        {
          "output_type": "display_data",
          "data": {
            "text/plain": [
              "<Figure size 432x288 with 1 Axes>"
            ],
            "image/png": "[encoded data removed]"
          },
          "metadata": {}
        }
      ]
    },
    {
      "cell_type": "code",
      "source": [
        "#SEABORN\n",
        "clarity_value = sns.barplot(x=clarity_value.index, y=clarity_value)\n",
        "clarity_value;"
      ],
      "metadata": {
        "id": "v4X78YwqegMX",
        "colab": {
          "base_uri": "https://localhost:8080/",
          "height": 268
        },
        "outputId": "c87cbcc2-865a-4afe-bb78-9559b6ac147c"
      },
      "execution_count": null,
      "outputs": [
        {
          "output_type": "display_data",
          "data": {
            "text/plain": [
              "<Figure size 432x288 with 1 Axes>"
            ],
            "image/png": "[encoded data removed]"
          },
          "metadata": {}
        }
      ]
    },
    {
      "cell_type": "markdown",
      "source": [
        "I used a bar graph because it's easy and pleasing to see the data. \n",
        "\n",
        "Sl1 is the most popular one and it seems as if l1 is not as popular than I would've thought since l1 can be seen and shown as beauty"
      ],
      "metadata": {
        "id": "CeqspM0_m6Ih"
      }
    },
    {
      "cell_type": "markdown",
      "source": [
        "## Depth Statistics"
      ],
      "metadata": {
        "id": "RW2ryYgMWtu8"
      }
    },
    {
      "cell_type": "code",
      "source": [
        "depth_value = df[\"depth\"].value_counts()\n",
        "depth_value"
      ],
      "metadata": {
        "id": "Ek7Au_8PtNum",
        "colab": {
          "base_uri": "https://localhost:8080/"
        },
        "outputId": "7d5ff77a-36c5-4b57-9bc7-4f6f61f75e0a"
      },
      "execution_count": null,
      "outputs": [
        {
          "output_type": "execute_result",
          "data": {
            "text/plain": [
              "62.0    2239\n",
              "61.9    2163\n",
              "61.8    2077\n",
              "62.2    2039\n",
              "62.1    2020\n",
              "        ... \n",
              "71.3       1\n",
              "44.0       1\n",
              "53.0       1\n",
              "53.1       1\n",
              "54.7       1\n",
              "Name: depth, Length: 184, dtype: int64"
            ]
          },
          "metadata": {},
          "execution_count": 50
        }
      ]
    },
    {
      "cell_type": "code",
      "source": [
        "#MATPLOTLIB\n",
        "plt.plot(depth_value)"
      ],
      "metadata": {
        "id": "XuOE5uOZtNyb",
        "colab": {
          "base_uri": "https://localhost:8080/",
          "height": 285
        },
        "outputId": "31611954-f3a7-44bb-9734-54ca9ca9ab79"
      },
      "execution_count": null,
      "outputs": [
        {
          "output_type": "execute_result",
          "data": {
            "text/plain": [
              "[<matplotlib.lines.Line2D at 0x7fea79f68310>]"
            ]
          },
          "metadata": {},
          "execution_count": 51
        },
        {
          "output_type": "display_data",
          "data": {
            "text/plain": [
              "<Figure size 432x288 with 1 Axes>"
            ],
            "image/png": "[encoded data removed]"
          },
          "metadata": {}
        }
      ]
    },
    {
      "cell_type": "code",
      "source": [
        "#SEABORN\n",
        "sns.lineplot(data=depth_value)"
      ],
      "metadata": {
        "id": "1tJ6AGEmej-k",
        "colab": {
          "base_uri": "https://localhost:8080/",
          "height": 285
        },
        "outputId": "d18b62cc-c72b-437f-f835-25ac79bf1ec9"
      },
      "execution_count": null,
      "outputs": [
        {
          "output_type": "execute_result",
          "data": {
            "text/plain": [
              "<matplotlib.axes._subplots.AxesSubplot at 0x7fea79ea9a50>"
            ]
          },
          "metadata": {},
          "execution_count": 53
        },
        {
          "output_type": "display_data",
          "data": {
            "text/plain": [
              "<Figure size 432x288 with 1 Axes>"
            ],
            "image/png": "[encoded data removed]"
          },
          "metadata": {}
        }
      ]
    },
    {
      "cell_type": "markdown",
      "source": [
        "A line plot seemed like the easiest to use in this case because we can see the point and highest value for the popular depth. \n",
        "\n",
        "The most popular value for depth is in between the 60s. "
      ],
      "metadata": {
        "id": "11BUzGRKm7Wh"
      }
    },
    {
      "cell_type": "markdown",
      "source": [
        "## Table Statistics"
      ],
      "metadata": {
        "id": "RoJ1thqZWvuI"
      }
    },
    {
      "cell_type": "code",
      "source": [
        "table_value = df[\"table\"].value_counts()\n",
        "table_value"
      ],
      "metadata": {
        "id": "KOdsiWKstN1o",
        "colab": {
          "base_uri": "https://localhost:8080/"
        },
        "outputId": "8b22bbf7-401a-46fa-e905-0936924e40ac"
      },
      "execution_count": null,
      "outputs": [
        {
          "output_type": "execute_result",
          "data": {
            "text/plain": [
              "56.0    9881\n",
              "57.0    9724\n",
              "58.0    8369\n",
              "59.0    6572\n",
              "55.0    6268\n",
              "        ... \n",
              "51.6       1\n",
              "63.5       1\n",
              "43.0       1\n",
              "62.4       1\n",
              "61.6       1\n",
              "Name: table, Length: 127, dtype: int64"
            ]
          },
          "metadata": {},
          "execution_count": 54
        }
      ]
    },
    {
      "cell_type": "code",
      "source": [
        "#MATPLOTLIB\n",
        "plt.plot(table_value)"
      ],
      "metadata": {
        "id": "_Ur9uOIOtN37",
        "colab": {
          "base_uri": "https://localhost:8080/",
          "height": 285
        },
        "outputId": "0bd6b71e-420f-4605-bc9c-54a5b6bf59f0"
      },
      "execution_count": null,
      "outputs": [
        {
          "output_type": "execute_result",
          "data": {
            "text/plain": [
              "[<matplotlib.lines.Line2D at 0x7fea79dd4c90>]"
            ]
          },
          "metadata": {},
          "execution_count": 55
        },
        {
          "output_type": "display_data",
          "data": {
            "text/plain": [
              "<Figure size 432x288 with 1 Axes>"
            ],
            "image/png": "[encoded data removed]"
          },
          "metadata": {}
        }
      ]
    },
    {
      "cell_type": "code",
      "source": [
        "#SEABORN\n",
        "line_carat_data = sns.lineplot(data=table_value)"
      ],
      "metadata": {
        "id": "ZqEsSyPdeoSK",
        "colab": {
          "base_uri": "https://localhost:8080/",
          "height": 268
        },
        "outputId": "1dfd3853-afca-426c-c14d-dce1b2d4c114"
      },
      "execution_count": null,
      "outputs": [
        {
          "output_type": "display_data",
          "data": {
            "text/plain": [
              "<Figure size 432x288 with 1 Axes>"
            ],
            "image/png": "[encoded data removed]"
          },
          "metadata": {}
        }
      ]
    },
    {
      "cell_type": "markdown",
      "source": [
        " A line plot seemed like the easiest to use in this case although it looks a little funky.\n",
        "\n",
        "The most popular value for table is in the high 900s. "
      ],
      "metadata": {
        "id": "rRBqF9A4m8co"
      }
    },
    {
      "cell_type": "markdown",
      "source": [
        "## Price Statistics"
      ],
      "metadata": {
        "id": "dKhYb46kWxW1"
      }
    },
    {
      "cell_type": "code",
      "source": [
        "price_value = df[\"price\"].value_counts()\n",
        "price_value"
      ],
      "metadata": {
        "id": "YTtlQ-BWtYcl",
        "colab": {
          "base_uri": "https://localhost:8080/"
        },
        "outputId": "bdcbf30d-86b4-4d34-935b-1f80911af704"
      },
      "execution_count": 169,
      "outputs": [
        {
          "output_type": "execute_result",
          "data": {
            "text/plain": [
              "605      132\n",
              "802      127\n",
              "625      126\n",
              "828      125\n",
              "776      124\n",
              "        ... \n",
              "8816       1\n",
              "14704      1\n",
              "14699      1\n",
              "14698      1\n",
              "9793       1\n",
              "Name: price, Length: 11602, dtype: int64"
            ]
          },
          "metadata": {},
          "execution_count": 169
        }
      ]
    },
    {
      "cell_type": "code",
      "source": [
        "#MATPLOTLIB\n",
        "plt.plot(price_value)"
      ],
      "metadata": {
        "id": "zVE_heqhtYgO",
        "colab": {
          "base_uri": "https://localhost:8080/",
          "height": 285
        },
        "outputId": "f3cc4ac0-0c43-4037-f9cf-2977b66384a0"
      },
      "execution_count": 170,
      "outputs": [
        {
          "output_type": "execute_result",
          "data": {
            "text/plain": [
              "[<matplotlib.lines.Line2D at 0x7fea78363650>]"
            ]
          },
          "metadata": {},
          "execution_count": 170
        },
        {
          "output_type": "display_data",
          "data": {
            "text/plain": [
              "<Figure size 432x288 with 1 Axes>"
            ],
            "image/png": "[encoded data removed]"
          },
          "metadata": {}
        }
      ]
    },
    {
      "cell_type": "code",
      "source": [
        "#SEABORN\n",
        "line_carat_data = sns.lineplot(data=price_value)"
      ],
      "metadata": {
        "id": "eqOKW75ceud9",
        "colab": {
          "base_uri": "https://localhost:8080/",
          "height": 268
        },
        "outputId": "1c40da2f-a7a5-4917-fa02-e5f6055f4762"
      },
      "execution_count": null,
      "outputs": [
        {
          "output_type": "display_data",
          "data": {
            "text/plain": [
              "<Figure size 432x288 with 1 Axes>"
            ],
            "image/png": "[encoded data removed]"
          },
          "metadata": {}
        }
      ]
    },
    {
      "cell_type": "markdown",
      "source": [
        "A line plot seemed like the easiest to use in this case. \n",
        "\n",
        "It seems as if the ideal range to buy diamonds would be between 600-850 dollars. When looking at the graph and the chart, we can see there are outliers and those prices are very expensive. They can range up to 18,000 dollars."
      ],
      "metadata": {
        "id": "SWecvJ5kmCYn"
      }
    },
    {
      "cell_type": "markdown",
      "source": [
        "## X Statistics"
      ],
      "metadata": {
        "id": "AyQ8jhD8Wzte"
      }
    },
    {
      "cell_type": "code",
      "source": [
        "x_value = df[\"x\"].value_counts()\n",
        "x_value"
      ],
      "metadata": {
        "id": "1eRzdU1VtYjn",
        "colab": {
          "base_uri": "https://localhost:8080/"
        },
        "outputId": "242f30c8-eb17-482c-8d07-44849bf739ac"
      },
      "execution_count": 15,
      "outputs": [
        {
          "output_type": "execute_result",
          "data": {
            "text/plain": [
              "4.37     448\n",
              "4.34     437\n",
              "4.33     429\n",
              "4.38     428\n",
              "4.32     425\n",
              "        ... \n",
              "10.74      1\n",
              "9.36       1\n",
              "8.89       1\n",
              "10.23      1\n",
              "10.00      1\n",
              "Name: x, Length: 554, dtype: int64"
            ]
          },
          "metadata": {},
          "execution_count": 15
        }
      ]
    },
    {
      "cell_type": "code",
      "source": [
        "#MATPLOTLIB\n",
        "plt.plot(x_value)"
      ],
      "metadata": {
        "id": "joOu4FNLtYmZ",
        "colab": {
          "base_uri": "https://localhost:8080/",
          "height": 282
        },
        "outputId": "6512d04f-6556-4014-8658-0d9f7fd3a4f6"
      },
      "execution_count": 16,
      "outputs": [
        {
          "output_type": "execute_result",
          "data": {
            "text/plain": [
              "[<matplotlib.lines.Line2D at 0x7f60c101ac10>]"
            ]
          },
          "metadata": {},
          "execution_count": 16
        },
        {
          "output_type": "display_data",
          "data": {
            "text/plain": [
              "<Figure size 432x288 with 1 Axes>"
            ],
            "image/png": "[encoded data removed]"
          },
          "metadata": {
            "needs_background": "light"
          }
        }
      ]
    },
    {
      "cell_type": "code",
      "source": [
        "#SEABORN\n",
        "line_carat_data = sns.lineplot(data=x_value)"
      ],
      "metadata": {
        "id": "K-prkAGXeya4",
        "colab": {
          "base_uri": "https://localhost:8080/",
          "height": 265
        },
        "outputId": "6f578649-7586-4b10-b7f1-023aac319765"
      },
      "execution_count": 17,
      "outputs": [
        {
          "output_type": "display_data",
          "data": {
            "text/plain": [
              "<Figure size 432x288 with 1 Axes>"
            ],
            "image/png": "[encoded data removed]"
          },
          "metadata": {
            "needs_background": "light"
          }
        }
      ]
    },
    {
      "cell_type": "markdown",
      "source": [
        "A line plot seemed to make sense for this case because we can see the graph fluctuate. \n",
        "\n",
        "\n"
      ],
      "metadata": {
        "id": "u2w2euIz169z"
      }
    },
    {
      "cell_type": "markdown",
      "source": [
        "## Y Statistics"
      ],
      "metadata": {
        "id": "zWWNO8h0W1jG"
      }
    },
    {
      "cell_type": "code",
      "source": [
        "y_value = df[\"y\"].value_counts()\n",
        "y_value"
      ],
      "metadata": {
        "id": "sKBvkupDtYpD",
        "colab": {
          "base_uri": "https://localhost:8080/"
        },
        "outputId": "6f735404-dacc-4790-bf4d-4efe45e0b997"
      },
      "execution_count": null,
      "outputs": [
        {
          "output_type": "execute_result",
          "data": {
            "text/plain": [
              "4.34     437\n",
              "4.37     435\n",
              "4.35     425\n",
              "4.33     421\n",
              "4.32     414\n",
              "        ... \n",
              "8.89       1\n",
              "10.16      1\n",
              "9.46       1\n",
              "9.63       1\n",
              "31.80      1\n",
              "Name: y, Length: 552, dtype: int64"
            ]
          },
          "metadata": {},
          "execution_count": 64
        }
      ]
    },
    {
      "cell_type": "code",
      "source": [
        "#MATPLOTLIB\n",
        "plt.plot(y_value)"
      ],
      "metadata": {
        "id": "syTYxDmmtYrU",
        "colab": {
          "base_uri": "https://localhost:8080/",
          "height": 285
        },
        "outputId": "625d4fa0-527f-486e-f907-20041ee22df2"
      },
      "execution_count": null,
      "outputs": [
        {
          "output_type": "execute_result",
          "data": {
            "text/plain": [
              "[<matplotlib.lines.Line2D at 0x7fea79fded50>]"
            ]
          },
          "metadata": {},
          "execution_count": 65
        },
        {
          "output_type": "display_data",
          "data": {
            "text/plain": [
              "<Figure size 432x288 with 1 Axes>"
            ],
            "image/png": "[encoded data removed]"
          },
          "metadata": {}
        }
      ]
    },
    {
      "cell_type": "code",
      "source": [
        "#SEABORN\n",
        "line_carat_data = sns.lineplot(data=y_value)"
      ],
      "metadata": {
        "id": "_vGsubiVe1yH",
        "colab": {
          "base_uri": "https://localhost:8080/",
          "height": 268
        },
        "outputId": "d8523213-de0b-46e2-fb4b-dc4b831795b3"
      },
      "execution_count": null,
      "outputs": [
        {
          "output_type": "display_data",
          "data": {
            "text/plain": [
              "<Figure size 432x288 with 1 Axes>"
            ],
            "image/png": "[encoded data removed]"
          },
          "metadata": {}
        }
      ]
    },
    {
      "cell_type": "markdown",
      "source": [
        "A line plot seemed to make sense for this case because we can see the graph fluctuate even though the graph looks funky. "
      ],
      "metadata": {
        "id": "W85Dy6Wq2ygK"
      }
    },
    {
      "cell_type": "markdown",
      "source": [
        "## Z Statistics"
      ],
      "metadata": {
        "id": "DiRaFFBTW2vz"
      }
    },
    {
      "cell_type": "code",
      "source": [
        "z_value = df[\"z\"].value_counts()\n",
        "z_value"
      ],
      "metadata": {
        "id": "VVH1JJmTtcfw",
        "colab": {
          "base_uri": "https://localhost:8080/"
        },
        "outputId": "e9b4f792-d3a8-4413-d151-4da5a4f92d8f"
      },
      "execution_count": null,
      "outputs": [
        {
          "output_type": "execute_result",
          "data": {
            "text/plain": [
              "2.70     767\n",
              "2.69     748\n",
              "2.71     738\n",
              "2.68     730\n",
              "2.72     697\n",
              "        ... \n",
              "5.79       1\n",
              "5.72       1\n",
              "5.91       1\n",
              "5.61       1\n",
              "31.80      1\n",
              "Name: z, Length: 375, dtype: int64"
            ]
          },
          "metadata": {},
          "execution_count": 67
        }
      ]
    },
    {
      "cell_type": "code",
      "source": [
        "#MATPLOTLIB\n",
        "plt.plot(z_value)"
      ],
      "metadata": {
        "id": "WFjzptl9tcmz",
        "colab": {
          "base_uri": "https://localhost:8080/",
          "height": 287
        },
        "outputId": "c27a66fa-102c-4290-e12c-dbf75baed7e6"
      },
      "execution_count": null,
      "outputs": [
        {
          "output_type": "execute_result",
          "data": {
            "text/plain": [
              "[<matplotlib.lines.Line2D at 0x7fea7a144ed0>]"
            ]
          },
          "metadata": {},
          "execution_count": 68
        },
        {
          "output_type": "display_data",
          "data": {
            "text/plain": [
              "<Figure size 432x288 with 1 Axes>"
            ],
            "image/png": "[encoded data removed]"
          },
          "metadata": {}
        }
      ]
    },
    {
      "cell_type": "code",
      "source": [
        "#SEABORN\n",
        "line_carat_data = sns.lineplot(data=z_value)"
      ],
      "metadata": {
        "id": "hxJBL4SCe5ZX",
        "colab": {
          "base_uri": "https://localhost:8080/",
          "height": 270
        },
        "outputId": "ffeaac68-2822-490b-b753-743e179ce559"
      },
      "execution_count": null,
      "outputs": [
        {
          "output_type": "display_data",
          "data": {
            "text/plain": [
              "<Figure size 432x288 with 1 Axes>"
            ],
            "image/png": "[encoded data removed]"
          },
          "metadata": {}
        }
      ]
    },
    {
      "cell_type": "markdown",
      "source": [
        "A line plot seemed to make sense for this case because we can see the graph fluctuate. "
      ],
      "metadata": {
        "id": "Ti9AWPf422bk"
      }
    },
    {
      "cell_type": "markdown",
      "source": [
        "##Findings"
      ],
      "metadata": {
        "id": "_nEt_zEsqTR6"
      }
    },
    {
      "cell_type": "markdown",
      "source": [
        "When graphing all of the attributes, I can see that the most popular and best selling diamonds were in the range of 600-850 dollars. Since the price really depends on the 4C's, I believe that the lower the color, whether its between G-H, I-J or K, the lower the value is. The higher the category in the color is, the more expensive it is because of the quality. The same can go for the clarity, cut and carat. "
      ],
      "metadata": {
        "id": "ph1ZHEUFqeap"
      }
    },
    {
      "cell_type": "markdown",
      "metadata": {
        "id": "SdBA9J-4vKnH"
      },
      "source": [
        "#**Part 3: Inferences**"
      ]
    },
    {
      "cell_type": "markdown",
      "metadata": {
        "id": "BPg5OYJQu7M9"
      },
      "source": [
        "1. What proportion of diamonds are between .30 and 1.08 carats?"
      ]
    },
    {
      "cell_type": "code",
      "execution_count": 19,
      "metadata": {
        "colab": {
          "base_uri": "https://localhost:8080/"
        },
        "id": "ZBGEj9syGwes",
        "outputId": "a326aa70-24f6-4598-870f-be90b0ea91ae"
      },
      "outputs": [
        {
          "output_type": "stream",
          "name": "stdout",
          "text": [
            "74.68298109010011 %\n"
          ]
        }
      ],
      "source": [
        "diamonds_carats = []\n",
        "carats = df[\"carat\"].tolist()\n",
        "\n",
        "for i in carats:\n",
        "  if i >= .30 and i <= 1.08:\n",
        "    diamonds_carats.append(i)\n",
        "\n",
        "print((len(diamonds_carats)/len(carats))*100, \"%\")\n"
      ]
    },
    {
      "cell_type": "markdown",
      "metadata": {
        "id": "AOG_cUQfu7Pz"
      },
      "source": [
        "2. How many of the diamonds have equal x and y dimensions?"
      ]
    },
    {
      "cell_type": "code",
      "execution_count": 44,
      "metadata": {
        "id": "msRnOo3nGxBw",
        "colab": {
          "base_uri": "https://localhost:8080/"
        },
        "outputId": "79d0bf12-baad-416e-e25b-53c2a773e3df"
      },
      "outputs": [
        {
          "output_type": "stream",
          "name": "stdout",
          "text": [
            "521\n"
          ]
        }
      ],
      "source": [
        "dimensions = []\n",
        "x = df[\"x\"].tolist()\n",
        "y = df[\"y\"].tolist()\n",
        "\n",
        "for i in x:\n",
        "  if i in y and i not in dimensions:\n",
        "    dimensions.append(i)\n",
        "\n",
        "print(len(dimensions))"
      ]
    },
    {
      "cell_type": "markdown",
      "metadata": {
        "id": "ZgT4Yz0Cu7St"
      },
      "source": [
        "3. How many of the diamonds have a carat value that is less than the mean carat value?"
      ]
    },
    {
      "cell_type": "code",
      "execution_count": 21,
      "metadata": {
        "id": "nBUqg_G1GxYy",
        "colab": {
          "base_uri": "https://localhost:8080/"
        },
        "outputId": "69b54eee-88f9-47b4-c50f-c22aefafa87a"
      },
      "outputs": [
        {
          "output_type": "stream",
          "name": "stdout",
          "text": [
            "31127\n"
          ]
        }
      ],
      "source": [
        "import statistics \n",
        "\n",
        "less = []\n",
        "mean = statistics.mean(carats)\n",
        "\n",
        "for i in carats:\n",
        "  if i < mean:\n",
        "    less.append(i)\n",
        "\n",
        "print(len(less))"
      ]
    },
    {
      "cell_type": "markdown",
      "metadata": {
        "id": "DTWQIuEDu7VV"
      },
      "source": [
        "4. How many diamonds have a Premium cut or better? Note that the possible values for the quality of a cut are ranked in ascending order as follows: Fair / Good / Very Good / Premium / Ideal"
      ]
    },
    {
      "cell_type": "code",
      "execution_count": 22,
      "metadata": {
        "id": "HywcMHCGGxxL",
        "colab": {
          "base_uri": "https://localhost:8080/"
        },
        "outputId": "cd82e9a7-e60c-418a-ac18-bc320a48fd75"
      },
      "outputs": [
        {
          "output_type": "stream",
          "name": "stdout",
          "text": [
            "35342\n"
          ]
        }
      ],
      "source": [
        "diamond_cut = df[\"cut\"].tolist()\n",
        "cut = []\n",
        "\n",
        "for i in diamond_cut:\n",
        "  if i == \"Premium\" or i == \"Ideal\":\n",
        "    cut.append(i)\n",
        "\n",
        "print(len(cut))"
      ]
    },
    {
      "cell_type": "markdown",
      "metadata": {
        "id": "yO-zwIQ9u7YD"
      },
      "source": [
        "5. Which diamond has the highest price per carat? What is its value?"
      ]
    },
    {
      "cell_type": "code",
      "execution_count": 23,
      "metadata": {
        "id": "dsR02zfKGyQi",
        "colab": {
          "base_uri": "https://localhost:8080/"
        },
        "outputId": "e680725b-affc-49ce-fbee-99f7a9f4063f"
      },
      "outputs": [
        {
          "output_type": "stream",
          "name": "stdout",
          "text": [
            "Diamond:  [27750]  has a value of: $ 18823\n"
          ]
        }
      ],
      "source": [
        "price = df[\"price\"].tolist()\n",
        "max = 0\n",
        "\n",
        "for i in price:\n",
        "  if i > max:\n",
        "    max = i\n",
        "\n",
        "print(\"Diamond: \", df[df[\"price\"]==max].index.values, \" has a value of: $\", max)\n"
      ]
    },
    {
      "cell_type": "markdown",
      "metadata": {
        "id": "bvbjS1Eju7at"
      },
      "source": [
        "6. Using both Matplolib and Seaborn, make boxplots of the diamond price for each distinct cut value and\n",
        "discuss any conclusions you can draw from the appearance of the boxplots."
      ]
    },
    {
      "cell_type": "code",
      "execution_count": 30,
      "metadata": {
        "id": "4SppmJ_fGyn3"
      },
      "outputs": [],
      "source": [
        "#MATPLOTLIB\n",
        "# cant figure out boxplot\n",
        "cut = df[\"cut\"]\n",
        "price = df[\"price\"]\n",
        "\n",
        "columns = [cut, price]\n",
        "\n",
        "fig, ax = plt.subplots()\n",
        "ax.boxplot(columns)\n",
        "plt.show()\n",
        "#https://stackabuse.com/matplotlib-box-plot-tutorial-and-examples/"
      ]
    },
    {
      "cell_type": "code",
      "source": [
        "#SEABORN\n",
        "sns.boxplot(x=\"cut\", y=\"price\", data = df)"
      ],
      "metadata": {
        "id": "5xoOkUsdTzm-",
        "colab": {
          "base_uri": "https://localhost:8080/",
          "height": 296
        },
        "outputId": "0b103acf-ceb0-4777-8a7f-32d18943e58c"
      },
      "execution_count": 31,
      "outputs": [
        {
          "output_type": "execute_result",
          "data": {
            "text/plain": [
              "<matplotlib.axes._subplots.AxesSubplot at 0x7f60bcb61990>"
            ]
          },
          "metadata": {},
          "execution_count": 31
        },
        {
          "output_type": "display_data",
          "data": {
            "text/plain": [
              "<Figure size 432x288 with 1 Axes>"
            ],
            "image/png": "[encoded data removed]"
          },
          "metadata": {
            "needs_background": "light"
          }
        }
      ]
    },
    {
      "cell_type": "markdown",
      "metadata": {
        "id": "EBFRNB3lu7dH"
      },
      "source": [
        "7. Using both Matplolib and Seaborn, make a scatter plot of price vs. carat. What can we say about the relationship between those two attributes?"
      ]
    },
    {
      "cell_type": "code",
      "execution_count": 25,
      "metadata": {
        "id": "c-5BObk-Gy_Q",
        "colab": {
          "base_uri": "https://localhost:8080/",
          "height": 282
        },
        "outputId": "4bb235da-1f67-4ffa-cf9c-1bb4478b275b"
      },
      "outputs": [
        {
          "output_type": "execute_result",
          "data": {
            "text/plain": [
              "<matplotlib.collections.PathCollection at 0x7f60c0796ed0>"
            ]
          },
          "metadata": {},
          "execution_count": 25
        },
        {
          "output_type": "display_data",
          "data": {
            "text/plain": [
              "<Figure size 432x288 with 1 Axes>"
            ],
            "image/png": "[encoded data removed]"
          },
          "metadata": {
            "needs_background": "light"
          }
        }
      ],
      "source": [
        "#MATPLOTLIB\n",
        "plt.scatter(df[\"carat\"], df[\"price\"])"
      ]
    },
    {
      "cell_type": "code",
      "source": [
        "#SEABORN\n",
        "scatter_data = sns.scatterplot(x=\"carat\", y=\"price\", data=df)"
      ],
      "metadata": {
        "id": "xBimt-yUVr6P",
        "colab": {
          "base_uri": "https://localhost:8080/",
          "height": 279
        },
        "outputId": "d0a18f72-de5d-4050-c7d8-537d7e1a1c22"
      },
      "execution_count": 26,
      "outputs": [
        {
          "output_type": "display_data",
          "data": {
            "text/plain": [
              "<Figure size 432x288 with 1 Axes>"
            ],
            "image/png": "[encoded data removed]"
          },
          "metadata": {
            "needs_background": "light"
          }
        }
      ]
    },
    {
      "cell_type": "markdown",
      "metadata": {
        "id": "1gbwk6AKva0K"
      },
      "source": [
        "#**Part 4: Conclusion**"
      ]
    },
    {
      "cell_type": "markdown",
      "source": [
        "In the last two questions, we were able to graph between cut and price as well as carat and price. We see that with cut, the most popular diamond is ideal and it's of good quality. With the carat graph, we can see that the higher the carat, there is a higher price. This isn't for all of the cases because we can see that even with a high carat value, the price would be about the same as a lower carat value. All in all it depends a lot of all 4 C's, the carat, cut, color, and clarity. With all 4 of these combined, there will be a set price for the diamond. If all 4 are pool quality, the price will be less, but if all 4 are high quality, then the price would be higher. There is a case where 2 out of the 4 can be lower quality than the other two, and that can impact the price that is being set. "
      ],
      "metadata": {
        "id": "_ICZWP9fUmXk"
      }
    },
    {
      "cell_type": "markdown",
      "metadata": {
        "id": "ZB6PTbbQvdqw"
      },
      "source": [
        "#**References**"
      ]
    },
    {
      "cell_type": "markdown",
      "source": [
        " Be sure to include proper citations for any references you may have relied on as part of your work.\n",
        "\n",
        "[WithClarity](https://www.withclarity.com/blog/2020/07/22/estimating-diamond-value:~:text=A%20diamond's%20value%20is%20determined,the%20quality%20of%20the%20band.)\n",
        "\n",
        "[Weight](https://www.jewelrynotes.com/how-to-calculate-a-diamonds-weight-in-carats/#:~:text=To%20calculate%20the%20carats%20of,carat%20weight%20of%20the%20diamond.)\n",
        "\n",
        "\n",
        "[Cut](https://www.diamonds.pro/education/cuts/)\n",
        "\n",
        "[Color](https://www.bluenile.com/education/diamonds/color)\n",
        "\n",
        "[Clarity](https://www.bluenile.com/education/diamonds/clarity)\n",
        "\n",
        "[Table and Depth](https://www.brilliance.com/education/diamonds/depth-table?utm_source=google&utm_medium=cpc&utm_campaign=184456664&utm_adgroup=41357951425&utm_term=%2Bdiamond%20%2Bdepth&utm_gclid=Cj0KCQjwwJuVBhCAARIsAOPwGARJlQU1b9E7H8PIxxoZm9TMjpCTkqAy3cYUIKHuXNPhhw7eqUUynEQaAteaEALw_wcB&gclid=Cj0KCQjwwJuVBhCAARIsAOPwGARJlQU1b9E7H8PIxxoZm9TMjpCTkqAy3cYUIKHuXNPhhw7eqUUynEQaAteaEALw_wcB)\n"
      ],
      "metadata": {
        "id": "xrK18pJIUGdB"
      }
    }
  ],
  "metadata": {
    "colab": {
      "collapsed_sections": [],
      "name": "H_Muni_Quiz1.ipynb",
      "provenance": [],
      "authorship_tag": "ABX9TyNUsZfM/1d+giKNYHRIBMsp",
      "include_colab_link": true
    },
    "kernelspec": {
      "display_name": "Python 3",
      "name": "python3"
    },
    "language_info": {
      "name": "python"
    }
  },
  "nbformat": 4,
  "nbformat_minor": 0
}
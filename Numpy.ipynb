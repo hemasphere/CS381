{
  "nbformat": 4,
  "nbformat_minor": 0,
  "metadata": {
    "colab": {
      "name": "Numpy.ipynb",
      "provenance": [],
      "collapsed_sections": [],
      "authorship_tag": "ABX9TyOE01nEU2XpWUJwud6zfQ0X",
      "include_colab_link": true
    },
    "kernelspec": {
      "name": "python3",
      "display_name": "Python 3"
    },
    "language_info": {
      "name": "python"
    }
  },
  "cells": [
    {
      "cell_type": "markdown",
      "metadata": {
        "id": "view-in-github",
        "colab_type": "text"
      },
      "source": [
        "<a href=\"https://colab.research.google.com/github/hemasphere/CS381/blob/main/Numpy.ipynb\" target=\"_parent\"><img src=\"https://colab.research.google.com/assets/colab-badge.svg\" alt=\"Open In Colab\"/></a>"
      ]
    },
    {
      "cell_type": "markdown",
      "source": [
        "Hema Muni\n",
        "\n",
        "CS 381\n",
        "\n",
        "Homework 4"
      ],
      "metadata": {
        "id": "DjgAxoMlwxxt"
      }
    },
    {
      "cell_type": "markdown",
      "source": [
        "Question One"
      ],
      "metadata": {
        "id": "EOwMUmYEc4n3"
      }
    },
    {
      "cell_type": "code",
      "execution_count": null,
      "metadata": {
        "id": "m5Llq-06wwdL"
      },
      "outputs": [],
      "source": [
        "import numpy as np"
      ]
    },
    {
      "cell_type": "code",
      "source": [
        "a = np.array([1, 2, 3, 2, 3, 4, 3, 4, 5, 6])\n",
        "b = np.array([7, 2, 10, 2, 7, 4, 9, 4, 9, 8])\n",
        "\n",
        "ls = []\n",
        "\n",
        "for i in a:\n",
        "  for j in b:\n",
        "    if i == j and i not in ls:\n",
        "      ls.append(i)\n",
        "\n",
        "print(ls)"
      ],
      "metadata": {
        "colab": {
          "base_uri": "https://localhost:8080/"
        },
        "id": "Hb3KU6NMdrQv",
        "outputId": "e13346e4-db00-4612-880a-eece002581e5"
      },
      "execution_count": null,
      "outputs": [
        {
          "output_type": "stream",
          "name": "stdout",
          "text": [
            "[2, 4]\n"
          ]
        }
      ]
    },
    {
      "cell_type": "markdown",
      "source": [
        "Question Two"
      ],
      "metadata": {
        "id": "C5IH4Rdwc9CD"
      }
    },
    {
      "cell_type": "code",
      "source": [
        "a = np.array([np.arange(1, 16, 5), np.arange(2, 17, 5), np.arange(3, 18, 5),\n",
        "          np.arange(4, 19, 5), np.arange(5, 20, 5)])\n",
        "\n",
        "a"
      ],
      "metadata": {
        "id": "DNdy5aTpwylG",
        "colab": {
          "base_uri": "https://localhost:8080/"
        },
        "outputId": "9d6d0f02-0ae7-479c-a19f-e62112eadb04"
      },
      "execution_count": null,
      "outputs": [
        {
          "output_type": "execute_result",
          "data": {
            "text/plain": [
              "array([[ 1,  6, 11],\n",
              "       [ 2,  7, 12],\n",
              "       [ 3,  8, 13],\n",
              "       [ 4,  9, 14],\n",
              "       [ 5, 10, 15]])"
            ]
          },
          "metadata": {},
          "execution_count": 34
        }
      ]
    },
    {
      "cell_type": "markdown",
      "source": [
        "Question Three"
      ],
      "metadata": {
        "id": "N2CbvCxIc9bi"
      }
    },
    {
      "cell_type": "code",
      "source": [
        "flat_array = a.flatten('F')\n",
        "\n",
        "flat_array"
      ],
      "metadata": {
        "colab": {
          "base_uri": "https://localhost:8080/"
        },
        "id": "gMY9YPiic9x2",
        "outputId": "df060dcf-a7f5-481a-9e3c-577fd16e3980"
      },
      "execution_count": null,
      "outputs": [
        {
          "output_type": "execute_result",
          "data": {
            "text/plain": [
              "array([ 1,  2,  3,  4,  5,  6,  7,  8,  9, 10, 11, 12, 13, 14, 15])"
            ]
          },
          "metadata": {},
          "execution_count": 42
        }
      ]
    },
    {
      "cell_type": "markdown",
      "source": [
        "Question Four"
      ],
      "metadata": {
        "id": "iq5px6SQc994"
      }
    },
    {
      "cell_type": "code",
      "source": [
        "a.T"
      ],
      "metadata": {
        "colab": {
          "base_uri": "https://localhost:8080/"
        },
        "id": "jsxvs-E2c-IZ",
        "outputId": "79076f86-55e2-4bd1-c31d-a1e66d711dd2"
      },
      "execution_count": null,
      "outputs": [
        {
          "output_type": "execute_result",
          "data": {
            "text/plain": [
              "array([[ 1,  2,  3,  4,  5],\n",
              "       [ 6,  7,  8,  9, 10],\n",
              "       [11, 12, 13, 14, 15]])"
            ]
          },
          "metadata": {},
          "execution_count": 43
        }
      ]
    },
    {
      "cell_type": "markdown",
      "source": [
        "Question Five"
      ],
      "metadata": {
        "id": "D1EzlE5Fc-SD"
      }
    },
    {
      "cell_type": "code",
      "source": [
        ""
      ],
      "metadata": {
        "colab": {
          "base_uri": "https://localhost:8080/"
        },
        "id": "6DreOx_gc-aW",
        "outputId": "b45d4172-39f9-42be-8f16-c16a8ddd4997"
      },
      "execution_count": null,
      "outputs": [
        {
          "output_type": "execute_result",
          "data": {
            "text/plain": [
              "(5, 3)"
            ]
          },
          "metadata": {},
          "execution_count": 45
        }
      ]
    },
    {
      "cell_type": "markdown",
      "source": [
        "Question Six"
      ],
      "metadata": {
        "id": "DqBgP9Gvc-hX"
      }
    },
    {
      "cell_type": "code",
      "source": [
        "a = np.array([12, 5, 7, 15, 3, 1, 8])\n",
        "b = np.array([14, 6, 3, 11, 19, 12, 5])\n",
        "\n",
        "a = [i for i in a if i not in b]\n",
        "\n",
        "#https://stackoverflow.com/questions/4211209/remove-all-the-elements-that-occur-in-one-list-from-another\n",
        "\n",
        "print(\"a:\", a)\n",
        "print(\"b:\", b)"
      ],
      "metadata": {
        "colab": {
          "base_uri": "https://localhost:8080/"
        },
        "id": "64hJl-3rc-op",
        "outputId": "737d7d97-d8e3-4446-8c86-b60cbde0577f"
      },
      "execution_count": null,
      "outputs": [
        {
          "output_type": "stream",
          "name": "stdout",
          "text": [
            "a: [7, 15, 1, 8]\n",
            "b: [14  6  3 11 19 12  5]\n"
          ]
        }
      ]
    },
    {
      "cell_type": "markdown",
      "source": [
        "Question Seven"
      ],
      "metadata": {
        "id": "1-eCymWLdE32"
      }
    },
    {
      "cell_type": "code",
      "source": [
        "import pandas as pd\n",
        "import numpy as np \n",
        "import statistics \n",
        "\n",
        "df = pd.read_excel(\"/content/Module6_Data.xlsx\")\n",
        "df"
      ],
      "metadata": {
        "id": "Pgc40W3MdE_X",
        "colab": {
          "base_uri": "https://localhost:8080/",
          "height": 1000
        },
        "outputId": "b2e692c3-f07f-47e5-846a-bc596bd18374"
      },
      "execution_count": 11,
      "outputs": [
        {
          "output_type": "execute_result",
          "data": {
            "text/plain": [
              "      Year  New York City Population  \\\n",
              "0   1979.0                 7102100.0   \n",
              "1   1980.0                 7071639.0   \n",
              "2   1981.0                 7089241.0   \n",
              "3   1982.0                 7109105.0   \n",
              "4   1983.0                 7181224.0   \n",
              "5   1984.0                 7234514.0   \n",
              "6   1985.0                 7274054.0   \n",
              "7   1986.0                 7319246.0   \n",
              "8   1987.0                 7342476.0   \n",
              "9   1988.0                 7353719.0   \n",
              "10  1989.0                 7344175.0   \n",
              "11  1990.0                 7335650.0   \n",
              "12  1991.0                 7374501.0   \n",
              "13  1992.0                 7428944.0   \n",
              "14  1993.0                 7506166.0   \n",
              "15  1994.0                 7570458.0   \n",
              "16  1995.0                 7633040.0   \n",
              "17  1996.0                 7697812.0   \n",
              "18  1997.0                 7773443.0   \n",
              "19  1998.0                 7858259.0   \n",
              "20  1999.0                 7947660.0   \n",
              "21  2000.0                 8008278.0   \n",
              "22  2001.0                 8024963.5   \n",
              "23  2002.0                 8041649.0   \n",
              "24  2003.0                 8058334.5   \n",
              "25  2004.0                 8075020.0   \n",
              "26  2005.0                 8091705.5   \n",
              "27  2006.0                 8108391.0   \n",
              "28  2007.0                 8125076.5   \n",
              "29  2008.0                 8141762.0   \n",
              "30  2009.0                 8158447.5   \n",
              "31  2010.0                 8175133.0   \n",
              "32  2011.0                 8284098.0   \n",
              "33  2012.0                 8361179.0   \n",
              "34  2013.0                 8422460.0   \n",
              "35  2014.0                 8471990.0   \n",
              "36  2015.0                 8516502.0   \n",
              "37  2016.0                 8537673.0   \n",
              "38  2017.0                 8622698.0   \n",
              "\n",
              "    NYC Consumption(Million gallons per day)  \\\n",
              "0                                     1512.0   \n",
              "1                                     1506.0   \n",
              "2                                     1309.0   \n",
              "3                                     1382.0   \n",
              "4                                     1424.0   \n",
              "5                                     1465.0   \n",
              "6                                     1326.0   \n",
              "7                                     1351.0   \n",
              "8                                     1447.0   \n",
              "9                                     1484.0   \n",
              "10                                    1402.0   \n",
              "11                                    1424.0   \n",
              "12                                    1469.0   \n",
              "13                                    1369.0   \n",
              "14                                    1368.5   \n",
              "15                                    1357.7   \n",
              "16                                    1325.7   \n",
              "17                                    1297.9   \n",
              "18                                    1205.5   \n",
              "19                                    1219.5   \n",
              "20                                    1237.2   \n",
              "21                                    1240.4   \n",
              "22                                    1184.0   \n",
              "23                                    1135.6   \n",
              "24                                    1093.7   \n",
              "25                                    1099.5   \n",
              "26                                    1138.0   \n",
              "27                                    1069.0   \n",
              "28                                    1114.0   \n",
              "29                                    1098.0   \n",
              "30                                    1007.5   \n",
              "31                                    1039.0   \n",
              "32                                    1021.0   \n",
              "33                                    1009.1   \n",
              "34                                    1006.1   \n",
              "35                                     996.0   \n",
              "36                                    1009.0   \n",
              "37                                    1002.0   \n",
              "38                                     990.2   \n",
              "\n",
              "    Per Capita(Gallons per person per day)  \n",
              "0                                    213.0  \n",
              "1                                    213.0  \n",
              "2                                    185.0  \n",
              "3                                    194.0  \n",
              "4                                    198.0  \n",
              "5                                    203.0  \n",
              "6                                    182.0  \n",
              "7                                    185.0  \n",
              "8                                    197.0  \n",
              "9                                    202.0  \n",
              "10                                   191.0  \n",
              "11                                   194.0  \n",
              "12                                   199.0  \n",
              "13                                   184.0  \n",
              "14                                   182.0  \n",
              "15                                   179.0  \n",
              "16                                   174.0  \n",
              "17                                   169.0  \n",
              "18                                   155.0  \n",
              "19                                   155.0  \n",
              "20                                   156.0  \n",
              "21                                   155.0  \n",
              "22                                   148.0  \n",
              "23                                   141.0  \n",
              "24                                   136.0  \n",
              "25                                   136.0  \n",
              "26                                   141.0  \n",
              "27                                   132.0  \n",
              "28                                   137.0  \n",
              "29                                   135.0  \n",
              "30                                   123.0  \n",
              "31                                   127.0  \n",
              "32                                   123.0  \n",
              "33                                   121.0  \n",
              "34                                   119.0  \n",
              "35                                   118.0  \n",
              "36                                   118.0  \n",
              "37                                   117.0  \n",
              "38                                   115.0  "
            ],
            "text/html": [
              "\n",
              "  <div id=\"df-bf370e4e-6625-4b6b-b37e-0c31adbbf0f0\">\n",
              "    <div class=\"colab-df-container\">\n",
              "      <div>\n",
              "<style scoped>\n",
              "    .dataframe tbody tr th:only-of-type {\n",
              "        vertical-align: middle;\n",
              "    }\n",
              "\n",
              "    .dataframe tbody tr th {\n",
              "        vertical-align: top;\n",
              "    }\n",
              "\n",
              "    .dataframe thead th {\n",
              "        text-align: right;\n",
              "    }\n",
              "</style>\n",
              "<table border=\"1\" class=\"dataframe\">\n",
              "  <thead>\n",
              "    <tr style=\"text-align: right;\">\n",
              "      <th></th>\n",
              "      <th>Year</th>\n",
              "      <th>New York City Population</th>\n",
              "      <th>NYC Consumption(Million gallons per day)</th>\n",
              "      <th>Per Capita(Gallons per person per day)</th>\n",
              "    </tr>\n",
              "  </thead>\n",
              "  <tbody>\n",
              "    <tr>\n",
              "      <th>0</th>\n",
              "      <td>1979.0</td>\n",
              "      <td>7102100.0</td>\n",
              "      <td>1512.0</td>\n",
              "      <td>213.0</td>\n",
              "    </tr>\n",
              "    <tr>\n",
              "      <th>1</th>\n",
              "      <td>1980.0</td>\n",
              "      <td>7071639.0</td>\n",
              "      <td>1506.0</td>\n",
              "      <td>213.0</td>\n",
              "    </tr>\n",
              "    <tr>\n",
              "      <th>2</th>\n",
              "      <td>1981.0</td>\n",
              "      <td>7089241.0</td>\n",
              "      <td>1309.0</td>\n",
              "      <td>185.0</td>\n",
              "    </tr>\n",
              "    <tr>\n",
              "      <th>3</th>\n",
              "      <td>1982.0</td>\n",
              "      <td>7109105.0</td>\n",
              "      <td>1382.0</td>\n",
              "      <td>194.0</td>\n",
              "    </tr>\n",
              "    <tr>\n",
              "      <th>4</th>\n",
              "      <td>1983.0</td>\n",
              "      <td>7181224.0</td>\n",
              "      <td>1424.0</td>\n",
              "      <td>198.0</td>\n",
              "    </tr>\n",
              "    <tr>\n",
              "      <th>5</th>\n",
              "      <td>1984.0</td>\n",
              "      <td>7234514.0</td>\n",
              "      <td>1465.0</td>\n",
              "      <td>203.0</td>\n",
              "    </tr>\n",
              "    <tr>\n",
              "      <th>6</th>\n",
              "      <td>1985.0</td>\n",
              "      <td>7274054.0</td>\n",
              "      <td>1326.0</td>\n",
              "      <td>182.0</td>\n",
              "    </tr>\n",
              "    <tr>\n",
              "      <th>7</th>\n",
              "      <td>1986.0</td>\n",
              "      <td>7319246.0</td>\n",
              "      <td>1351.0</td>\n",
              "      <td>185.0</td>\n",
              "    </tr>\n",
              "    <tr>\n",
              "      <th>8</th>\n",
              "      <td>1987.0</td>\n",
              "      <td>7342476.0</td>\n",
              "      <td>1447.0</td>\n",
              "      <td>197.0</td>\n",
              "    </tr>\n",
              "    <tr>\n",
              "      <th>9</th>\n",
              "      <td>1988.0</td>\n",
              "      <td>7353719.0</td>\n",
              "      <td>1484.0</td>\n",
              "      <td>202.0</td>\n",
              "    </tr>\n",
              "    <tr>\n",
              "      <th>10</th>\n",
              "      <td>1989.0</td>\n",
              "      <td>7344175.0</td>\n",
              "      <td>1402.0</td>\n",
              "      <td>191.0</td>\n",
              "    </tr>\n",
              "    <tr>\n",
              "      <th>11</th>\n",
              "      <td>1990.0</td>\n",
              "      <td>7335650.0</td>\n",
              "      <td>1424.0</td>\n",
              "      <td>194.0</td>\n",
              "    </tr>\n",
              "    <tr>\n",
              "      <th>12</th>\n",
              "      <td>1991.0</td>\n",
              "      <td>7374501.0</td>\n",
              "      <td>1469.0</td>\n",
              "      <td>199.0</td>\n",
              "    </tr>\n",
              "    <tr>\n",
              "      <th>13</th>\n",
              "      <td>1992.0</td>\n",
              "      <td>7428944.0</td>\n",
              "      <td>1369.0</td>\n",
              "      <td>184.0</td>\n",
              "    </tr>\n",
              "    <tr>\n",
              "      <th>14</th>\n",
              "      <td>1993.0</td>\n",
              "      <td>7506166.0</td>\n",
              "      <td>1368.5</td>\n",
              "      <td>182.0</td>\n",
              "    </tr>\n",
              "    <tr>\n",
              "      <th>15</th>\n",
              "      <td>1994.0</td>\n",
              "      <td>7570458.0</td>\n",
              "      <td>1357.7</td>\n",
              "      <td>179.0</td>\n",
              "    </tr>\n",
              "    <tr>\n",
              "      <th>16</th>\n",
              "      <td>1995.0</td>\n",
              "      <td>7633040.0</td>\n",
              "      <td>1325.7</td>\n",
              "      <td>174.0</td>\n",
              "    </tr>\n",
              "    <tr>\n",
              "      <th>17</th>\n",
              "      <td>1996.0</td>\n",
              "      <td>7697812.0</td>\n",
              "      <td>1297.9</td>\n",
              "      <td>169.0</td>\n",
              "    </tr>\n",
              "    <tr>\n",
              "      <th>18</th>\n",
              "      <td>1997.0</td>\n",
              "      <td>7773443.0</td>\n",
              "      <td>1205.5</td>\n",
              "      <td>155.0</td>\n",
              "    </tr>\n",
              "    <tr>\n",
              "      <th>19</th>\n",
              "      <td>1998.0</td>\n",
              "      <td>7858259.0</td>\n",
              "      <td>1219.5</td>\n",
              "      <td>155.0</td>\n",
              "    </tr>\n",
              "    <tr>\n",
              "      <th>20</th>\n",
              "      <td>1999.0</td>\n",
              "      <td>7947660.0</td>\n",
              "      <td>1237.2</td>\n",
              "      <td>156.0</td>\n",
              "    </tr>\n",
              "    <tr>\n",
              "      <th>21</th>\n",
              "      <td>2000.0</td>\n",
              "      <td>8008278.0</td>\n",
              "      <td>1240.4</td>\n",
              "      <td>155.0</td>\n",
              "    </tr>\n",
              "    <tr>\n",
              "      <th>22</th>\n",
              "      <td>2001.0</td>\n",
              "      <td>8024963.5</td>\n",
              "      <td>1184.0</td>\n",
              "      <td>148.0</td>\n",
              "    </tr>\n",
              "    <tr>\n",
              "      <th>23</th>\n",
              "      <td>2002.0</td>\n",
              "      <td>8041649.0</td>\n",
              "      <td>1135.6</td>\n",
              "      <td>141.0</td>\n",
              "    </tr>\n",
              "    <tr>\n",
              "      <th>24</th>\n",
              "      <td>2003.0</td>\n",
              "      <td>8058334.5</td>\n",
              "      <td>1093.7</td>\n",
              "      <td>136.0</td>\n",
              "    </tr>\n",
              "    <tr>\n",
              "      <th>25</th>\n",
              "      <td>2004.0</td>\n",
              "      <td>8075020.0</td>\n",
              "      <td>1099.5</td>\n",
              "      <td>136.0</td>\n",
              "    </tr>\n",
              "    <tr>\n",
              "      <th>26</th>\n",
              "      <td>2005.0</td>\n",
              "      <td>8091705.5</td>\n",
              "      <td>1138.0</td>\n",
              "      <td>141.0</td>\n",
              "    </tr>\n",
              "    <tr>\n",
              "      <th>27</th>\n",
              "      <td>2006.0</td>\n",
              "      <td>8108391.0</td>\n",
              "      <td>1069.0</td>\n",
              "      <td>132.0</td>\n",
              "    </tr>\n",
              "    <tr>\n",
              "      <th>28</th>\n",
              "      <td>2007.0</td>\n",
              "      <td>8125076.5</td>\n",
              "      <td>1114.0</td>\n",
              "      <td>137.0</td>\n",
              "    </tr>\n",
              "    <tr>\n",
              "      <th>29</th>\n",
              "      <td>2008.0</td>\n",
              "      <td>8141762.0</td>\n",
              "      <td>1098.0</td>\n",
              "      <td>135.0</td>\n",
              "    </tr>\n",
              "    <tr>\n",
              "      <th>30</th>\n",
              "      <td>2009.0</td>\n",
              "      <td>8158447.5</td>\n",
              "      <td>1007.5</td>\n",
              "      <td>123.0</td>\n",
              "    </tr>\n",
              "    <tr>\n",
              "      <th>31</th>\n",
              "      <td>2010.0</td>\n",
              "      <td>8175133.0</td>\n",
              "      <td>1039.0</td>\n",
              "      <td>127.0</td>\n",
              "    </tr>\n",
              "    <tr>\n",
              "      <th>32</th>\n",
              "      <td>2011.0</td>\n",
              "      <td>8284098.0</td>\n",
              "      <td>1021.0</td>\n",
              "      <td>123.0</td>\n",
              "    </tr>\n",
              "    <tr>\n",
              "      <th>33</th>\n",
              "      <td>2012.0</td>\n",
              "      <td>8361179.0</td>\n",
              "      <td>1009.1</td>\n",
              "      <td>121.0</td>\n",
              "    </tr>\n",
              "    <tr>\n",
              "      <th>34</th>\n",
              "      <td>2013.0</td>\n",
              "      <td>8422460.0</td>\n",
              "      <td>1006.1</td>\n",
              "      <td>119.0</td>\n",
              "    </tr>\n",
              "    <tr>\n",
              "      <th>35</th>\n",
              "      <td>2014.0</td>\n",
              "      <td>8471990.0</td>\n",
              "      <td>996.0</td>\n",
              "      <td>118.0</td>\n",
              "    </tr>\n",
              "    <tr>\n",
              "      <th>36</th>\n",
              "      <td>2015.0</td>\n",
              "      <td>8516502.0</td>\n",
              "      <td>1009.0</td>\n",
              "      <td>118.0</td>\n",
              "    </tr>\n",
              "    <tr>\n",
              "      <th>37</th>\n",
              "      <td>2016.0</td>\n",
              "      <td>8537673.0</td>\n",
              "      <td>1002.0</td>\n",
              "      <td>117.0</td>\n",
              "    </tr>\n",
              "    <tr>\n",
              "      <th>38</th>\n",
              "      <td>2017.0</td>\n",
              "      <td>8622698.0</td>\n",
              "      <td>990.2</td>\n",
              "      <td>115.0</td>\n",
              "    </tr>\n",
              "  </tbody>\n",
              "</table>\n",
              "</div>\n",
              "      <button class=\"colab-df-convert\" onclick=\"convertToInteractive('df-bf370e4e-6625-4b6b-b37e-0c31adbbf0f0')\"\n",
              "              title=\"Convert this dataframe to an interactive table.\"\n",
              "              style=\"display:none;\">\n",
              "        \n",
              "  <svg xmlns=\"http://www.w3.org/2000/svg\" height=\"24px\"viewBox=\"0 0 24 24\"\n",
              "       width=\"24px\">\n",
              "    <path d=\"M0 0h24v24H0V0z\" fill=\"none\"/>\n",
              "    <path d=\"M18.56 5.44l.94 2.06.94-2.06 2.06-.94-2.06-.94-.94-2.06-.94 2.06-2.06.94zm-11 1L8.5 8.5l.94-2.06 2.06-.94-2.06-.94L8.5 2.5l-.94 2.06-2.06.94zm10 10l.94 2.06.94-2.06 2.06-.94-2.06-.94-.94-2.06-.94 2.06-2.06.94z\"/><path d=\"M17.41 7.96l-1.37-1.37c-.4-.4-.92-.59-1.43-.59-.52 0-1.04.2-1.43.59L10.3 9.45l-7.72 7.72c-.78.78-.78 2.05 0 2.83L4 21.41c.39.39.9.59 1.41.59.51 0 1.02-.2 1.41-.59l7.78-7.78 2.81-2.81c.8-.78.8-2.07 0-2.86zM5.41 20L4 18.59l7.72-7.72 1.47 1.35L5.41 20z\"/>\n",
              "  </svg>\n",
              "      </button>\n",
              "      \n",
              "  <style>\n",
              "    .colab-df-container {\n",
              "      display:flex;\n",
              "      flex-wrap:wrap;\n",
              "      gap: 12px;\n",
              "    }\n",
              "\n",
              "    .colab-df-convert {\n",
              "      background-color: #E8F0FE;\n",
              "      border: none;\n",
              "      border-radius: 50%;\n",
              "      cursor: pointer;\n",
              "      display: none;\n",
              "      fill: #1967D2;\n",
              "      height: 32px;\n",
              "      padding: 0 0 0 0;\n",
              "      width: 32px;\n",
              "    }\n",
              "\n",
              "    .colab-df-convert:hover {\n",
              "      background-color: #E2EBFA;\n",
              "      box-shadow: 0px 1px 2px rgba(60, 64, 67, 0.3), 0px 1px 3px 1px rgba(60, 64, 67, 0.15);\n",
              "      fill: #174EA6;\n",
              "    }\n",
              "\n",
              "    [theme=dark] .colab-df-convert {\n",
              "      background-color: #3B4455;\n",
              "      fill: #D2E3FC;\n",
              "    }\n",
              "\n",
              "    [theme=dark] .colab-df-convert:hover {\n",
              "      background-color: #434B5C;\n",
              "      box-shadow: 0px 1px 3px 1px rgba(0, 0, 0, 0.15);\n",
              "      filter: drop-shadow(0px 1px 2px rgba(0, 0, 0, 0.3));\n",
              "      fill: #FFFFFF;\n",
              "    }\n",
              "  </style>\n",
              "\n",
              "      <script>\n",
              "        const buttonEl =\n",
              "          document.querySelector('#df-bf370e4e-6625-4b6b-b37e-0c31adbbf0f0 button.colab-df-convert');\n",
              "        buttonEl.style.display =\n",
              "          google.colab.kernel.accessAllowed ? 'block' : 'none';\n",
              "\n",
              "        async function convertToInteractive(key) {\n",
              "          const element = document.querySelector('#df-bf370e4e-6625-4b6b-b37e-0c31adbbf0f0');\n",
              "          const dataTable =\n",
              "            await google.colab.kernel.invokeFunction('convertToInteractive',\n",
              "                                                     [key], {});\n",
              "          if (!dataTable) return;\n",
              "\n",
              "          const docLinkHtml = 'Like what you see? Visit the ' +\n",
              "            '<a target=\"_blank\" href=https://colab.research.google.com/notebooks/data_table.ipynb>data table notebook</a>'\n",
              "            + ' to learn more about interactive tables.';\n",
              "          element.innerHTML = '';\n",
              "          dataTable['output_type'] = 'display_data';\n",
              "          await google.colab.output.renderOutput(dataTable, element);\n",
              "          const docLink = document.createElement('div');\n",
              "          docLink.innerHTML = docLinkHtml;\n",
              "          element.appendChild(docLink);\n",
              "        }\n",
              "      </script>\n",
              "    </div>\n",
              "  </div>\n",
              "  "
            ]
          },
          "metadata": {},
          "execution_count": 11
        }
      ]
    },
    {
      "cell_type": "markdown",
      "source": [
        "1. What is the maximum yearly NYC consumption of water in millions of gallons per day?\n"
      ],
      "metadata": {
        "id": "sfC8DIf3awB2"
      }
    },
    {
      "cell_type": "code",
      "source": [
        "max_consumption = 0\n",
        "for i in df[\"NYC Consumption(Million gallons per day)\"]:\n",
        "  if i > max_consumption:\n",
        "    max_consumption = i\n",
        "\n",
        "print(max_consumption)"
      ],
      "metadata": {
        "colab": {
          "base_uri": "https://localhost:8080/"
        },
        "id": "enrEZu44bHEj",
        "outputId": "b2b15b8c-874a-40d4-aa72-62b0ce7da4e7"
      },
      "execution_count": 4,
      "outputs": [
        {
          "output_type": "stream",
          "name": "stdout",
          "text": [
            "1512.0\n"
          ]
        }
      ]
    },
    {
      "cell_type": "markdown",
      "source": [
        "2. How many calendar years are represented within this data set? NumPy's shape command is one way to find out"
      ],
      "metadata": {
        "id": "CbKnsJGZawN4"
      }
    },
    {
      "cell_type": "code",
      "source": [
        "np.shape(df)"
      ],
      "metadata": {
        "colab": {
          "base_uri": "https://localhost:8080/"
        },
        "id": "LwxLHnDibHjB",
        "outputId": "6a34a4d9-c714-413e-c32f-e15323b393a4"
      },
      "execution_count": 10,
      "outputs": [
        {
          "output_type": "execute_result",
          "data": {
            "text/plain": [
              "(39, 4)"
            ]
          },
          "metadata": {},
          "execution_count": 10
        }
      ]
    },
    {
      "cell_type": "markdown",
      "source": [
        "3. What is the mean and the standard deviation of the per capita daily water consumption?\n"
      ],
      "metadata": {
        "id": "cmjOpH5CawVR"
      }
    },
    {
      "cell_type": "code",
      "source": [
        "statistics.mean(df[\"Per Capita(Gallons per person per day)\"])"
      ],
      "metadata": {
        "colab": {
          "base_uri": "https://localhost:8080/"
        },
        "id": "GK29c6phbIST",
        "outputId": "9ab61160-f73a-416a-877b-29da78f872fb"
      },
      "execution_count": 12,
      "outputs": [
        {
          "output_type": "execute_result",
          "data": {
            "text/plain": [
              "160.30769230769232"
            ]
          },
          "metadata": {},
          "execution_count": 12
        }
      ]
    },
    {
      "cell_type": "code",
      "source": [
        "statistics.stdev(df[\"Per Capita(Gallons per person per day)\"])"
      ],
      "metadata": {
        "colab": {
          "base_uri": "https://localhost:8080/"
        },
        "id": "fZb5tlvnj_xh",
        "outputId": "066f93e6-7108-4878-f592-4ec7d812c018"
      },
      "execution_count": 13,
      "outputs": [
        {
          "output_type": "execute_result",
          "data": {
            "text/plain": [
              "31.930973122258784"
            ]
          },
          "metadata": {},
          "execution_count": 13
        }
      ]
    },
    {
      "cell_type": "markdown",
      "source": [
        "4. What is the increase or decrease in population from year to year? Use NumPy's `diff` function to create an array of differences and save that to a variable called \"pop_diff\", then print that variable to the screen.\n"
      ],
      "metadata": {
        "id": "KbzCr63bawc1"
      }
    },
    {
      "cell_type": "code",
      "source": [
        "pop_diff = np.diff(df[\"New York City Population\"])\n",
        "\n",
        "print(pop_diff)"
      ],
      "metadata": {
        "colab": {
          "base_uri": "https://localhost:8080/"
        },
        "id": "mIItEdSAaMKe",
        "outputId": "742badee-518e-4a02-ea13-de2b72c80896"
      },
      "execution_count": 15,
      "outputs": [
        {
          "output_type": "stream",
          "name": "stdout",
          "text": [
            "[-30461.   17602.   19864.   72119.   53290.   39540.   45192.   23230.\n",
            "  11243.   -9544.   -8525.   38851.   54443.   77222.   64292.   62582.\n",
            "  64772.   75631.   84816.   89401.   60618.   16685.5  16685.5  16685.5\n",
            "  16685.5  16685.5  16685.5  16685.5  16685.5  16685.5  16685.5 108965.\n",
            "  77081.   61281.   49530.   44512.   21171.   85025. ]\n"
          ]
        }
      ]
    }
  ]
}
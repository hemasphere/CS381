{
  "nbformat": 4,
  "nbformat_minor": 0,
  "metadata": {
    "colab": {
      "name": "H_Muni_Quiz2.ipynb",
      "provenance": [],
      "collapsed_sections": [],
      "authorship_tag": "ABX9TyN+PUBnU4PkV7s2oLHeHRo6",
      "include_colab_link": true
    },
    "kernelspec": {
      "name": "python3",
      "display_name": "Python 3"
    },
    "language_info": {
      "name": "python"
    }
  },
  "cells": [
    {
      "cell_type": "markdown",
      "metadata": {
        "id": "view-in-github",
        "colab_type": "text"
      },
      "source": [
        "<a href=\"https://colab.research.google.com/github/hemasphere/CS381/blob/main/H_Muni_Quiz2.ipynb\" target=\"_parent\"><img src=\"https://colab.research.google.com/assets/colab-badge.svg\" alt=\"Open In Colab\"/></a>"
      ]
    },
    {
      "cell_type": "markdown",
      "source": [
        "Hema Muni\n",
        "\n",
        "CS 381\n",
        "\n",
        "Quiz 2"
      ],
      "metadata": {
        "id": "YLrHt3JpfRXh"
      }
    },
    {
      "cell_type": "markdown",
      "source": [
        "#**Data Loading**"
      ],
      "metadata": {
        "id": "v10goI4FkUO-"
      }
    },
    {
      "cell_type": "code",
      "source": [
        "import pandas as pd \n",
        "import numpy as np\n",
        "import matplotlib.pyplot as plt\n",
        "import missingno as msno\n",
        "import seaborn as sns\n",
        "\n",
        "df = pd.read_csv(\"https://raw.githubusercontent.com/hemasphere/CS381/main/imports-85.data\", \n",
        "                 names = [\"symboling\", \"normalized-losses\", \"make\", \"fuel-type\", \"aspiration\", \"num-of-doors\",\n",
        "              \"body-style\", \"drive-wheels\", \"engine-location\", \"wheel-base\", \"length\", \"width\", \"height\", \n",
        "              \"curb-weight\", \"engine-type\", \"num-of-cylinders\", \"engine-size\", \"fuel-system\", \"bore\",\n",
        "              \"stroke\", \"compression-ratio\", \"horsepower\", \"peak-rpm\", \"city-mpg\", \"highway-mpg\", \"price\"])\n",
        "df"
      ],
      "metadata": {
        "id": "rj4f2Z1yfUmC",
        "colab": {
          "base_uri": "https://localhost:8080/",
          "height": 574
        },
        "outputId": "f0a3fe26-c0c7-4cef-8dcc-4ab310dcc8c6"
      },
      "execution_count": 1,
      "outputs": [
        {
          "output_type": "execute_result",
          "data": {
            "text/plain": [
              "     symboling normalized-losses         make fuel-type aspiration  \\\n",
              "0            3                 ?  alfa-romero       gas        std   \n",
              "1            3                 ?  alfa-romero       gas        std   \n",
              "2            1                 ?  alfa-romero       gas        std   \n",
              "3            2               164         audi       gas        std   \n",
              "4            2               164         audi       gas        std   \n",
              "..         ...               ...          ...       ...        ...   \n",
              "200         -1                95        volvo       gas        std   \n",
              "201         -1                95        volvo       gas      turbo   \n",
              "202         -1                95        volvo       gas        std   \n",
              "203         -1                95        volvo    diesel      turbo   \n",
              "204         -1                95        volvo       gas      turbo   \n",
              "\n",
              "    num-of-doors   body-style drive-wheels engine-location  wheel-base  ...  \\\n",
              "0            two  convertible          rwd           front        88.6  ...   \n",
              "1            two  convertible          rwd           front        88.6  ...   \n",
              "2            two    hatchback          rwd           front        94.5  ...   \n",
              "3           four        sedan          fwd           front        99.8  ...   \n",
              "4           four        sedan          4wd           front        99.4  ...   \n",
              "..           ...          ...          ...             ...         ...  ...   \n",
              "200         four        sedan          rwd           front       109.1  ...   \n",
              "201         four        sedan          rwd           front       109.1  ...   \n",
              "202         four        sedan          rwd           front       109.1  ...   \n",
              "203         four        sedan          rwd           front       109.1  ...   \n",
              "204         four        sedan          rwd           front       109.1  ...   \n",
              "\n",
              "     engine-size  fuel-system  bore  stroke compression-ratio horsepower  \\\n",
              "0            130         mpfi  3.47    2.68               9.0        111   \n",
              "1            130         mpfi  3.47    2.68               9.0        111   \n",
              "2            152         mpfi  2.68    3.47               9.0        154   \n",
              "3            109         mpfi  3.19    3.40              10.0        102   \n",
              "4            136         mpfi  3.19    3.40               8.0        115   \n",
              "..           ...          ...   ...     ...               ...        ...   \n",
              "200          141         mpfi  3.78    3.15               9.5        114   \n",
              "201          141         mpfi  3.78    3.15               8.7        160   \n",
              "202          173         mpfi  3.58    2.87               8.8        134   \n",
              "203          145          idi  3.01    3.40              23.0        106   \n",
              "204          141         mpfi  3.78    3.15               9.5        114   \n",
              "\n",
              "     peak-rpm city-mpg highway-mpg  price  \n",
              "0        5000       21          27  13495  \n",
              "1        5000       21          27  16500  \n",
              "2        5000       19          26  16500  \n",
              "3        5500       24          30  13950  \n",
              "4        5500       18          22  17450  \n",
              "..        ...      ...         ...    ...  \n",
              "200      5400       23          28  16845  \n",
              "201      5300       19          25  19045  \n",
              "202      5500       18          23  21485  \n",
              "203      4800       26          27  22470  \n",
              "204      5400       19          25  22625  \n",
              "\n",
              "[205 rows x 26 columns]"
            ],
            "text/html": [
              "\n",
              "  <div id=\"df-5ac8968c-6623-4e84-a36a-729adf7536a0\">\n",
              "    <div class=\"colab-df-container\">\n",
              "      <div>\n",
              "<style scoped>\n",
              "    .dataframe tbody tr th:only-of-type {\n",
              "        vertical-align: middle;\n",
              "    }\n",
              "\n",
              "    .dataframe tbody tr th {\n",
              "        vertical-align: top;\n",
              "    }\n",
              "\n",
              "    .dataframe thead th {\n",
              "        text-align: right;\n",
              "    }\n",
              "</style>\n",
              "<table border=\"1\" class=\"dataframe\">\n",
              "  <thead>\n",
              "    <tr style=\"text-align: right;\">\n",
              "      <th></th>\n",
              "      <th>symboling</th>\n",
              "      <th>normalized-losses</th>\n",
              "      <th>make</th>\n",
              "      <th>fuel-type</th>\n",
              "      <th>aspiration</th>\n",
              "      <th>num-of-doors</th>\n",
              "      <th>body-style</th>\n",
              "      <th>drive-wheels</th>\n",
              "      <th>engine-location</th>\n",
              "      <th>wheel-base</th>\n",
              "      <th>...</th>\n",
              "      <th>engine-size</th>\n",
              "      <th>fuel-system</th>\n",
              "      <th>bore</th>\n",
              "      <th>stroke</th>\n",
              "      <th>compression-ratio</th>\n",
              "      <th>horsepower</th>\n",
              "      <th>peak-rpm</th>\n",
              "      <th>city-mpg</th>\n",
              "      <th>highway-mpg</th>\n",
              "      <th>price</th>\n",
              "    </tr>\n",
              "  </thead>\n",
              "  <tbody>\n",
              "    <tr>\n",
              "      <th>0</th>\n",
              "      <td>3</td>\n",
              "      <td>?</td>\n",
              "      <td>alfa-romero</td>\n",
              "      <td>gas</td>\n",
              "      <td>std</td>\n",
              "      <td>two</td>\n",
              "      <td>convertible</td>\n",
              "      <td>rwd</td>\n",
              "      <td>front</td>\n",
              "      <td>88.6</td>\n",
              "      <td>...</td>\n",
              "      <td>130</td>\n",
              "      <td>mpfi</td>\n",
              "      <td>3.47</td>\n",
              "      <td>2.68</td>\n",
              "      <td>9.0</td>\n",
              "      <td>111</td>\n",
              "      <td>5000</td>\n",
              "      <td>21</td>\n",
              "      <td>27</td>\n",
              "      <td>13495</td>\n",
              "    </tr>\n",
              "    <tr>\n",
              "      <th>1</th>\n",
              "      <td>3</td>\n",
              "      <td>?</td>\n",
              "      <td>alfa-romero</td>\n",
              "      <td>gas</td>\n",
              "      <td>std</td>\n",
              "      <td>two</td>\n",
              "      <td>convertible</td>\n",
              "      <td>rwd</td>\n",
              "      <td>front</td>\n",
              "      <td>88.6</td>\n",
              "      <td>...</td>\n",
              "      <td>130</td>\n",
              "      <td>mpfi</td>\n",
              "      <td>3.47</td>\n",
              "      <td>2.68</td>\n",
              "      <td>9.0</td>\n",
              "      <td>111</td>\n",
              "      <td>5000</td>\n",
              "      <td>21</td>\n",
              "      <td>27</td>\n",
              "      <td>16500</td>\n",
              "    </tr>\n",
              "    <tr>\n",
              "      <th>2</th>\n",
              "      <td>1</td>\n",
              "      <td>?</td>\n",
              "      <td>alfa-romero</td>\n",
              "      <td>gas</td>\n",
              "      <td>std</td>\n",
              "      <td>two</td>\n",
              "      <td>hatchback</td>\n",
              "      <td>rwd</td>\n",
              "      <td>front</td>\n",
              "      <td>94.5</td>\n",
              "      <td>...</td>\n",
              "      <td>152</td>\n",
              "      <td>mpfi</td>\n",
              "      <td>2.68</td>\n",
              "      <td>3.47</td>\n",
              "      <td>9.0</td>\n",
              "      <td>154</td>\n",
              "      <td>5000</td>\n",
              "      <td>19</td>\n",
              "      <td>26</td>\n",
              "      <td>16500</td>\n",
              "    </tr>\n",
              "    <tr>\n",
              "      <th>3</th>\n",
              "      <td>2</td>\n",
              "      <td>164</td>\n",
              "      <td>audi</td>\n",
              "      <td>gas</td>\n",
              "      <td>std</td>\n",
              "      <td>four</td>\n",
              "      <td>sedan</td>\n",
              "      <td>fwd</td>\n",
              "      <td>front</td>\n",
              "      <td>99.8</td>\n",
              "      <td>...</td>\n",
              "      <td>109</td>\n",
              "      <td>mpfi</td>\n",
              "      <td>3.19</td>\n",
              "      <td>3.40</td>\n",
              "      <td>10.0</td>\n",
              "      <td>102</td>\n",
              "      <td>5500</td>\n",
              "      <td>24</td>\n",
              "      <td>30</td>\n",
              "      <td>13950</td>\n",
              "    </tr>\n",
              "    <tr>\n",
              "      <th>4</th>\n",
              "      <td>2</td>\n",
              "      <td>164</td>\n",
              "      <td>audi</td>\n",
              "      <td>gas</td>\n",
              "      <td>std</td>\n",
              "      <td>four</td>\n",
              "      <td>sedan</td>\n",
              "      <td>4wd</td>\n",
              "      <td>front</td>\n",
              "      <td>99.4</td>\n",
              "      <td>...</td>\n",
              "      <td>136</td>\n",
              "      <td>mpfi</td>\n",
              "      <td>3.19</td>\n",
              "      <td>3.40</td>\n",
              "      <td>8.0</td>\n",
              "      <td>115</td>\n",
              "      <td>5500</td>\n",
              "      <td>18</td>\n",
              "      <td>22</td>\n",
              "      <td>17450</td>\n",
              "    </tr>\n",
              "    <tr>\n",
              "      <th>...</th>\n",
              "      <td>...</td>\n",
              "      <td>...</td>\n",
              "      <td>...</td>\n",
              "      <td>...</td>\n",
              "      <td>...</td>\n",
              "      <td>...</td>\n",
              "      <td>...</td>\n",
              "      <td>...</td>\n",
              "      <td>...</td>\n",
              "      <td>...</td>\n",
              "      <td>...</td>\n",
              "      <td>...</td>\n",
              "      <td>...</td>\n",
              "      <td>...</td>\n",
              "      <td>...</td>\n",
              "      <td>...</td>\n",
              "      <td>...</td>\n",
              "      <td>...</td>\n",
              "      <td>...</td>\n",
              "      <td>...</td>\n",
              "      <td>...</td>\n",
              "    </tr>\n",
              "    <tr>\n",
              "      <th>200</th>\n",
              "      <td>-1</td>\n",
              "      <td>95</td>\n",
              "      <td>volvo</td>\n",
              "      <td>gas</td>\n",
              "      <td>std</td>\n",
              "      <td>four</td>\n",
              "      <td>sedan</td>\n",
              "      <td>rwd</td>\n",
              "      <td>front</td>\n",
              "      <td>109.1</td>\n",
              "      <td>...</td>\n",
              "      <td>141</td>\n",
              "      <td>mpfi</td>\n",
              "      <td>3.78</td>\n",
              "      <td>3.15</td>\n",
              "      <td>9.5</td>\n",
              "      <td>114</td>\n",
              "      <td>5400</td>\n",
              "      <td>23</td>\n",
              "      <td>28</td>\n",
              "      <td>16845</td>\n",
              "    </tr>\n",
              "    <tr>\n",
              "      <th>201</th>\n",
              "      <td>-1</td>\n",
              "      <td>95</td>\n",
              "      <td>volvo</td>\n",
              "      <td>gas</td>\n",
              "      <td>turbo</td>\n",
              "      <td>four</td>\n",
              "      <td>sedan</td>\n",
              "      <td>rwd</td>\n",
              "      <td>front</td>\n",
              "      <td>109.1</td>\n",
              "      <td>...</td>\n",
              "      <td>141</td>\n",
              "      <td>mpfi</td>\n",
              "      <td>3.78</td>\n",
              "      <td>3.15</td>\n",
              "      <td>8.7</td>\n",
              "      <td>160</td>\n",
              "      <td>5300</td>\n",
              "      <td>19</td>\n",
              "      <td>25</td>\n",
              "      <td>19045</td>\n",
              "    </tr>\n",
              "    <tr>\n",
              "      <th>202</th>\n",
              "      <td>-1</td>\n",
              "      <td>95</td>\n",
              "      <td>volvo</td>\n",
              "      <td>gas</td>\n",
              "      <td>std</td>\n",
              "      <td>four</td>\n",
              "      <td>sedan</td>\n",
              "      <td>rwd</td>\n",
              "      <td>front</td>\n",
              "      <td>109.1</td>\n",
              "      <td>...</td>\n",
              "      <td>173</td>\n",
              "      <td>mpfi</td>\n",
              "      <td>3.58</td>\n",
              "      <td>2.87</td>\n",
              "      <td>8.8</td>\n",
              "      <td>134</td>\n",
              "      <td>5500</td>\n",
              "      <td>18</td>\n",
              "      <td>23</td>\n",
              "      <td>21485</td>\n",
              "    </tr>\n",
              "    <tr>\n",
              "      <th>203</th>\n",
              "      <td>-1</td>\n",
              "      <td>95</td>\n",
              "      <td>volvo</td>\n",
              "      <td>diesel</td>\n",
              "      <td>turbo</td>\n",
              "      <td>four</td>\n",
              "      <td>sedan</td>\n",
              "      <td>rwd</td>\n",
              "      <td>front</td>\n",
              "      <td>109.1</td>\n",
              "      <td>...</td>\n",
              "      <td>145</td>\n",
              "      <td>idi</td>\n",
              "      <td>3.01</td>\n",
              "      <td>3.40</td>\n",
              "      <td>23.0</td>\n",
              "      <td>106</td>\n",
              "      <td>4800</td>\n",
              "      <td>26</td>\n",
              "      <td>27</td>\n",
              "      <td>22470</td>\n",
              "    </tr>\n",
              "    <tr>\n",
              "      <th>204</th>\n",
              "      <td>-1</td>\n",
              "      <td>95</td>\n",
              "      <td>volvo</td>\n",
              "      <td>gas</td>\n",
              "      <td>turbo</td>\n",
              "      <td>four</td>\n",
              "      <td>sedan</td>\n",
              "      <td>rwd</td>\n",
              "      <td>front</td>\n",
              "      <td>109.1</td>\n",
              "      <td>...</td>\n",
              "      <td>141</td>\n",
              "      <td>mpfi</td>\n",
              "      <td>3.78</td>\n",
              "      <td>3.15</td>\n",
              "      <td>9.5</td>\n",
              "      <td>114</td>\n",
              "      <td>5400</td>\n",
              "      <td>19</td>\n",
              "      <td>25</td>\n",
              "      <td>22625</td>\n",
              "    </tr>\n",
              "  </tbody>\n",
              "</table>\n",
              "<p>205 rows × 26 columns</p>\n",
              "</div>\n",
              "      <button class=\"colab-df-convert\" onclick=\"convertToInteractive('df-5ac8968c-6623-4e84-a36a-729adf7536a0')\"\n",
              "              title=\"Convert this dataframe to an interactive table.\"\n",
              "              style=\"display:none;\">\n",
              "        \n",
              "  <svg xmlns=\"http://www.w3.org/2000/svg\" height=\"24px\"viewBox=\"0 0 24 24\"\n",
              "       width=\"24px\">\n",
              "    <path d=\"M0 0h24v24H0V0z\" fill=\"none\"/>\n",
              "    <path d=\"M18.56 5.44l.94 2.06.94-2.06 2.06-.94-2.06-.94-.94-2.06-.94 2.06-2.06.94zm-11 1L8.5 8.5l.94-2.06 2.06-.94-2.06-.94L8.5 2.5l-.94 2.06-2.06.94zm10 10l.94 2.06.94-2.06 2.06-.94-2.06-.94-.94-2.06-.94 2.06-2.06.94z\"/><path d=\"M17.41 7.96l-1.37-1.37c-.4-.4-.92-.59-1.43-.59-.52 0-1.04.2-1.43.59L10.3 9.45l-7.72 7.72c-.78.78-.78 2.05 0 2.83L4 21.41c.39.39.9.59 1.41.59.51 0 1.02-.2 1.41-.59l7.78-7.78 2.81-2.81c.8-.78.8-2.07 0-2.86zM5.41 20L4 18.59l7.72-7.72 1.47 1.35L5.41 20z\"/>\n",
              "  </svg>\n",
              "      </button>\n",
              "      \n",
              "  <style>\n",
              "    .colab-df-container {\n",
              "      display:flex;\n",
              "      flex-wrap:wrap;\n",
              "      gap: 12px;\n",
              "    }\n",
              "\n",
              "    .colab-df-convert {\n",
              "      background-color: #E8F0FE;\n",
              "      border: none;\n",
              "      border-radius: 50%;\n",
              "      cursor: pointer;\n",
              "      display: none;\n",
              "      fill: #1967D2;\n",
              "      height: 32px;\n",
              "      padding: 0 0 0 0;\n",
              "      width: 32px;\n",
              "    }\n",
              "\n",
              "    .colab-df-convert:hover {\n",
              "      background-color: #E2EBFA;\n",
              "      box-shadow: 0px 1px 2px rgba(60, 64, 67, 0.3), 0px 1px 3px 1px rgba(60, 64, 67, 0.15);\n",
              "      fill: #174EA6;\n",
              "    }\n",
              "\n",
              "    [theme=dark] .colab-df-convert {\n",
              "      background-color: #3B4455;\n",
              "      fill: #D2E3FC;\n",
              "    }\n",
              "\n",
              "    [theme=dark] .colab-df-convert:hover {\n",
              "      background-color: #434B5C;\n",
              "      box-shadow: 0px 1px 3px 1px rgba(0, 0, 0, 0.15);\n",
              "      filter: drop-shadow(0px 1px 2px rgba(0, 0, 0, 0.3));\n",
              "      fill: #FFFFFF;\n",
              "    }\n",
              "  </style>\n",
              "\n",
              "      <script>\n",
              "        const buttonEl =\n",
              "          document.querySelector('#df-5ac8968c-6623-4e84-a36a-729adf7536a0 button.colab-df-convert');\n",
              "        buttonEl.style.display =\n",
              "          google.colab.kernel.accessAllowed ? 'block' : 'none';\n",
              "\n",
              "        async function convertToInteractive(key) {\n",
              "          const element = document.querySelector('#df-5ac8968c-6623-4e84-a36a-729adf7536a0');\n",
              "          const dataTable =\n",
              "            await google.colab.kernel.invokeFunction('convertToInteractive',\n",
              "                                                     [key], {});\n",
              "          if (!dataTable) return;\n",
              "\n",
              "          const docLinkHtml = 'Like what you see? Visit the ' +\n",
              "            '<a target=\"_blank\" href=https://colab.research.google.com/notebooks/data_table.ipynb>data table notebook</a>'\n",
              "            + ' to learn more about interactive tables.';\n",
              "          element.innerHTML = '';\n",
              "          dataTable['output_type'] = 'display_data';\n",
              "          await google.colab.output.renderOutput(dataTable, element);\n",
              "          const docLink = document.createElement('div');\n",
              "          docLink.innerHTML = docLinkHtml;\n",
              "          element.appendChild(docLink);\n",
              "        }\n",
              "      </script>\n",
              "    </div>\n",
              "  </div>\n",
              "  "
            ]
          },
          "metadata": {},
          "execution_count": 1
        }
      ]
    },
    {
      "cell_type": "markdown",
      "source": [
        "#**Exploratory Data Analysis**\n",
        "\n"
      ],
      "metadata": {
        "id": "I2UZ1tzGkWMq"
      }
    },
    {
      "cell_type": "markdown",
      "source": [
        "Question: \n",
        "\n",
        "1.   Does the horsepower affect the price?"
      ],
      "metadata": {
        "id": "pzwOJ2_YlMzW"
      }
    },
    {
      "cell_type": "markdown",
      "source": [
        "**Attributes**\n",
        "1. symboling: this is the insurance risk level of a car. It ranges from -3 to 3, -3 means the car is most likely safe and 3 means it may be most risky. \n",
        "2. normalized-losses: this is the relative average loss payment per insured vehicle year. It ranges from 65 to 256.\n",
        "3. make: the car make, and in the dataset there are:\n",
        "alfa-romero, audi, bmw, chevrolet, dodge, honda,\n",
        "isuzu, jaguar, mazda, mercedes-benz, mercury,\n",
        "mitsubishi, nissan, peugot, plymouth, porsche,\n",
        "renault, saab, subaru, toyota, volkswagen, volvo\n",
        "4. fuel-type: diesel, gas.\n",
        "5. aspiration: std, turbo.\n",
        "6. num-of-doors: four, two.\n",
        "7. body-style: hardtop, wagon, sedan, hatchback, convertible.\n",
        "\n",
        "![Screen Shot 2022-06-16 at 4.56.50 PM.png](data:image/png;base64,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)\n",
        "\n",
        "\n",
        "8. drive-wheels: 4wd, fwd, rwd.\n",
        "\n",
        "\n",
        "*   4wd: 4 wheel drive (good for snowy areas) and all 4 wheels have power\n",
        "*   fwd: Front wheels have power\n",
        "*   rwd: Rear wheels have power\n",
        "\n",
        "9. engine-location: front, rear.\n",
        "10. wheel-base: continuous from 86.6 120.9.\n",
        "11. length: continuous from 141.1 to 208.1.\n",
        "12. width: continuous from 60.3 to 72.3.\n",
        "13. height: continuous from 47.8 to 59.8.\n",
        "14. curb-weight: continuous from 1488 to 4066.\n",
        "15. engine-type: dohc, dohcv, l, ohc, ohcf, ohcv, rotor.\n",
        "\n",
        "*   dohc = Dual overhead cam engines\n",
        "*   l = Toyota engine\n",
        "*   ohc = Over Head Cam\n",
        "*   I can't find any information on rotor.\n",
        "\n",
        "16. num-of-cylinders: eight, five, four, six, three, twelve, two.\n",
        "17. engine-size: continuous from 61 to 326.\n",
        "18. fuel-system: 1bbl, 2bbl, 4bbl, idi, mfi, mpfi, spdi, spfi.\n",
        "19. bore: continuous from 2.54 to 3.94.\n",
        "*   the diameter of the circular opening at its end\n",
        "\n",
        "20. stroke: continuous from 2.07 to 4.17.\n",
        "*   the depth of the hole\n",
        "\n",
        "21. compression-ratio: continuous from 7 to 23.\n",
        "*   how much air has been compressed in engine\n",
        "22. horsepower: continuous from 48 to 288.\n",
        "*   the power an engine produces\n",
        "*   It's calculated through the power needed to move 550 pounds one foot in one second or by the power needs to move 33,000 pounds one foot in one minute. \n",
        "23. peak-rpm: continuous from 4150 to 6600.\n",
        "*   top revolutions per minute you can hit\n",
        "24. city-mpg: continuous from 13 to 49.\n",
        "*   the score a car will get on average in city conditions, with stopping and starting at lower speeds\n",
        "25. highway-mpg: continuous from 16 to 54.\n",
        "*   the average a car will get while driving on an open stretch of road without stopping or starting, typically at a higher speed.\n",
        "26. price: continuous from 5118 to 45400.\n",
        "*   price for the car\n",
        "\n"
      ],
      "metadata": {
        "id": "hDsOCHMHmMcG"
      }
    },
    {
      "cell_type": "code",
      "source": [
        "df.dtypes"
      ],
      "metadata": {
        "id": "wborWorCmJgO"
      },
      "execution_count": null,
      "outputs": []
    },
    {
      "cell_type": "code",
      "source": [
        "df.isnull().sum()"
      ],
      "metadata": {
        "id": "1Of6J3elmJjG"
      },
      "execution_count": null,
      "outputs": []
    },
    {
      "cell_type": "markdown",
      "source": [
        "Filter that data out because we don't want any unknowns"
      ],
      "metadata": {
        "id": "_cafzAcfFzsH"
      }
    },
    {
      "cell_type": "code",
      "source": [
        "#get mean and mode of each attribute so we can replace bad values with the meam and mode\n",
        "symbol_mean=df[\"symboling\"].mean()\n",
        "#get second mode because 1st is a question mark\n",
        "normalized_losses_mode=df[\"normalized-losses\"].value_counts().index.tolist()[1] \n",
        "make_mode=df[\"make\"].mode()\n",
        "fuel_type_mode=df[\"fuel-type\"].mode()\n",
        "aspiration_mode=df[\"aspiration\"].mode()\n",
        "num_of_doors_mode=df[\"num-of-doors\"].mode()\n",
        "body_style_mode=df[\"body-style\"].mode()\n",
        "drive_wheels_mode=df[\"drive-wheels\"].mode()\n",
        "engine_location_mode=df[\"engine-location\"].mode()\n",
        "wheel_base_mean=df[\"wheel-base\"].mean()\n",
        "length_mean=df[\"length\"].mean()\n",
        "weight_mean=df[\"width\"].mean()\n",
        "height_mean=df[\"height\"].mean()\n",
        "curb_weight_mean=df[\"curb-weight\"].mean()\n",
        "engine_type_mode=df[\"engine-type\"].mode()\n",
        "num_of_cylinders_mode=df[\"num-of-cylinders\"].mode()\n",
        "engine_size_mean=df[\"engine-size\"].mean()\n",
        "fuel_system_mode=df[\"fuel-system\"].mode()\n",
        "bore_mode=df[\"bore\"].mode()\n",
        "stroke_mode=df[\"stroke\"].mode()\n",
        "compression_ratio_mode=df[\"compression-ratio\"].mean()\n",
        "horsepower_mode=df[\"horsepower\"].mode()\n",
        "peak_rpm_mode=df[\"peak-rpm\"].mode()\n",
        "city_mpg_mean=df[\"city-mpg\"].mean()\n",
        "highway_mpg_mean=df[\"highway-mpg\"].mean()\n",
        "#get second mode because 1st is a question mark\n",
        "price_mode=df[\"price\"].value_counts().index.tolist()[1] \n"
      ],
      "metadata": {
        "id": "Eg3EuJtFmJly"
      },
      "execution_count": 4,
      "outputs": []
    },
    {
      "cell_type": "code",
      "source": [
        "df[\"symboling\"] = df[\"symboling\"].replace([np.nan, \"?\"], symbol_mean)\n",
        "df[\"normalized-losses\"] = df[\"normalized-losses\"].replace([np.nan, \"?\"], normalized_losses_mode)\n",
        "df[\"make\"] = df[\"make\"].replace([np.nan, \"?\"], [make_mode, make_mode])\n",
        "df[\"fuel-type\"] = df[\"fuel-type\"].replace([np.nan, \"?\"], [fuel_type_mode, fuel_type_mode])\n",
        "df[\"aspiration\"] = df[\"aspiration\"].replace([np.nan, \"?\"], [aspiration_mode, aspiration_mode])\n",
        "df[\"num-of-doors\"] = df[\"num-of-doors\"].replace([np.nan, \"?\"], [num_of_doors_mode, num_of_doors_mode])\n",
        "df[\"body-style\"] = df[\"body-style\"].replace([np.nan, \"?\"], [body_style_mode, body_style_mode])\n",
        "df[\"drive-wheels\"] = df[\"drive-wheels\"].replace([np.nan, \"?\"], [drive_wheels_mode, drive_wheels_mode])\n",
        "df[\"engine-location\"] = df[\"engine-location\"].replace([np.nan, \"?\"], [engine_location_mode, engine_location_mode])\n",
        "df[\"wheel-base\"] = df[\"wheel-base\"].replace([np.nan, \"?\"], [wheel_base_mean, wheel_base_mean])\n",
        "df[\"length\"] = df[\"length\"].replace([np.nan, \"?\"], [length_mean, length_mean])\n",
        "df[\"width\"] = df[\"width\"].replace([np.nan, \"?\"], [weight_mean, weight_mean])\n",
        "df[\"height\"] = df[\"height\"].replace([np.nan, \"?\"], [height_mean, height_mean])\n",
        "df[\"curb-weight\"] = df[\"curb-weight\"].replace([np.nan, \"?\"], [curb_weight_mean, curb_weight_mean])\n",
        "df[\"engine-type\"] = df[\"engine-type\"].replace([np.nan, \"?\"], [engine_type_mode, engine_type_mode])\n",
        "df[\"num-of-cylinders\"] = df[\"num-of-cylinders\"].replace([np.nan, \"?\"], [num_of_cylinders_mode, num_of_cylinders_mode])\n",
        "df[\"engine-size\"] = df[\"engine-size\"].replace([np.nan, \"?\"], [engine_size_mean, engine_size_mean])\n",
        "df[\"fuel-system\"] = df[\"fuel-system\"].replace([np.nan, \"?\"], [fuel_system_mode, fuel_system_mode])\n",
        "df[\"bore\"] = df[\"bore\"].replace([np.nan, \"?\"], [bore_mode, bore_mode])\n",
        "df[\"stroke\"] = df[\"stroke\"].replace([np.nan, \"?\"], [stroke_mode, stroke_mode])\n",
        "df[\"compression-ratio\"] = df[\"compression-ratio\"].replace([np.nan, \"?\"], [compression_ratio_mode, compression_ratio_mode])\n",
        "df[\"horsepower\"] = df[\"horsepower\"].replace([np.nan, \"?\"], [horsepower_mode, horsepower_mode])\n",
        "df[\"peak-rpm\"] = df[\"peak-rpm\"].replace([np.nan, \"?\"], [peak_rpm_mode, peak_rpm_mode])\n",
        "df[\"city-mpg\"] = df[\"city-mpg\"].replace([np.nan, \"?\"], [city_mpg_mean, city_mpg_mean])\n",
        "df[\"highway-mpg\"] = df[\"highway-mpg\"].replace([np.nan, \"?\"], [highway_mpg_mean, highway_mpg_mean])\n",
        "df[\"price\"] = df[\"price\"].replace([np.nan, \"?\"], [price_mode, price_mode])\n",
        "\n",
        "df"
      ],
      "metadata": {
        "id": "NqzGgrwAALp5"
      },
      "execution_count": null,
      "outputs": []
    },
    {
      "cell_type": "code",
      "source": [
        "df[\"normalized-losses\"] = pd.to_numeric(df[\"normalized-losses\"])\n",
        "df[[\"bore\"]] = df[[\"bore\"]].astype('float64')\n",
        "df[[\"stroke\"]] = df[[\"stroke\"]].astype('float64')\n",
        "df[\"horsepower\"] = pd.to_numeric(df[\"horsepower\"])\n",
        "df[[\"peak-rpm\"]] = df[[\"peak-rpm\"]].astype('float64')\n",
        "df[[\"price\"]] = df[[\"price\"]].astype('float64')"
      ],
      "metadata": {
        "id": "FaNiUl0zrfsF"
      },
      "execution_count": 6,
      "outputs": []
    },
    {
      "cell_type": "code",
      "source": [
        "df.nunique()"
      ],
      "metadata": {
        "id": "6gRtD_u7_A71"
      },
      "execution_count": null,
      "outputs": []
    },
    {
      "cell_type": "code",
      "source": [
        "df.dtypes"
      ],
      "metadata": {
        "id": "DZ80g6_q00QX"
      },
      "execution_count": null,
      "outputs": []
    },
    {
      "cell_type": "code",
      "source": [
        "cat_vals = df[['make', 'fuel-type', 'aspiration', 'num-of-doors', 'body-style', 'drive-wheels',\n",
        "                    'engine-location', 'engine-type', 'num-of-cylinders', 'fuel-system']].copy()\n",
        "for x in range(len(cat_vals.columns)):\n",
        "    print(cat_vals.columns[x] + \":\")\n",
        "    print(cat_vals[cat_vals.columns[x]].unique(), \"\\n\")"
      ],
      "metadata": {
        "id": "YvZZktcS0vom"
      },
      "execution_count": null,
      "outputs": []
    },
    {
      "cell_type": "code",
      "source": [
        "df.describe()"
      ],
      "metadata": {
        "id": "NbqbnwP_mJrJ",
        "colab": {
          "base_uri": "https://localhost:8080/",
          "height": 382
        },
        "outputId": "862d8742-f282-4017-b4fd-f35124218ff1"
      },
      "execution_count": 8,
      "outputs": [
        {
          "output_type": "execute_result",
          "data": {
            "text/plain": [
              "        symboling  normalized-losses  wheel-base      length       width  \\\n",
              "count  205.000000         205.000000  205.000000  205.000000  205.000000   \n",
              "mean     0.834146         129.800000   98.756585  174.049268   65.907805   \n",
              "std      1.245307          35.330429    6.021776   12.337289    2.145204   \n",
              "min     -2.000000          65.000000   86.600000  141.100000   60.300000   \n",
              "25%      0.000000         101.000000   94.500000  166.300000   64.100000   \n",
              "50%      1.000000         128.000000   97.000000  173.200000   65.500000   \n",
              "75%      2.000000         161.000000  102.400000  183.100000   66.900000   \n",
              "max      3.000000         256.000000  120.900000  208.100000   72.300000   \n",
              "\n",
              "           height  curb-weight  engine-size        bore      stroke  \\\n",
              "count  205.000000   205.000000   205.000000  205.000000  205.000000   \n",
              "mean    53.724878  2555.565854   126.907317    3.335415    3.258244   \n",
              "std      2.443522   520.680204    41.642693    0.273817    0.314237   \n",
              "min     47.800000  1488.000000    61.000000    2.540000    2.070000   \n",
              "25%     52.000000  2145.000000    97.000000    3.150000    3.110000   \n",
              "50%     54.100000  2414.000000   120.000000    3.310000    3.290000   \n",
              "75%     55.500000  2935.000000   141.000000    3.600000    3.410000   \n",
              "max     59.800000  4066.000000   326.000000    3.940000    4.170000   \n",
              "\n",
              "       compression-ratio  horsepower    peak-rpm    city-mpg  highway-mpg  \\\n",
              "count         205.000000  205.000000   205.00000  205.000000   205.000000   \n",
              "mean           10.142537  103.902439  5129.02439   25.219512    30.751220   \n",
              "std             3.972040   39.680343   478.40526    6.542142     6.886443   \n",
              "min             7.000000   48.000000  4150.00000   13.000000    16.000000   \n",
              "25%             8.600000   70.000000  4800.00000   19.000000    25.000000   \n",
              "50%             9.000000   95.000000  5200.00000   24.000000    30.000000   \n",
              "75%             9.400000  116.000000  5500.00000   30.000000    34.000000   \n",
              "max            23.000000  288.000000  6600.00000   49.000000    54.000000   \n",
              "\n",
              "              price  \n",
              "count    205.000000  \n",
              "mean   13123.497561  \n",
              "std     7891.178520  \n",
              "min     5118.000000  \n",
              "25%     7788.000000  \n",
              "50%    10198.000000  \n",
              "75%    16500.000000  \n",
              "max    45400.000000  "
            ],
            "text/html": [
              "\n",
              "  <div id=\"df-ec039f84-24e2-4b71-944f-aaeb260cf204\">\n",
              "    <div class=\"colab-df-container\">\n",
              "      <div>\n",
              "<style scoped>\n",
              "    .dataframe tbody tr th:only-of-type {\n",
              "        vertical-align: middle;\n",
              "    }\n",
              "\n",
              "    .dataframe tbody tr th {\n",
              "        vertical-align: top;\n",
              "    }\n",
              "\n",
              "    .dataframe thead th {\n",
              "        text-align: right;\n",
              "    }\n",
              "</style>\n",
              "<table border=\"1\" class=\"dataframe\">\n",
              "  <thead>\n",
              "    <tr style=\"text-align: right;\">\n",
              "      <th></th>\n",
              "      <th>symboling</th>\n",
              "      <th>normalized-losses</th>\n",
              "      <th>wheel-base</th>\n",
              "      <th>length</th>\n",
              "      <th>width</th>\n",
              "      <th>height</th>\n",
              "      <th>curb-weight</th>\n",
              "      <th>engine-size</th>\n",
              "      <th>bore</th>\n",
              "      <th>stroke</th>\n",
              "      <th>compression-ratio</th>\n",
              "      <th>horsepower</th>\n",
              "      <th>peak-rpm</th>\n",
              "      <th>city-mpg</th>\n",
              "      <th>highway-mpg</th>\n",
              "      <th>price</th>\n",
              "    </tr>\n",
              "  </thead>\n",
              "  <tbody>\n",
              "    <tr>\n",
              "      <th>count</th>\n",
              "      <td>205.000000</td>\n",
              "      <td>205.000000</td>\n",
              "      <td>205.000000</td>\n",
              "      <td>205.000000</td>\n",
              "      <td>205.000000</td>\n",
              "      <td>205.000000</td>\n",
              "      <td>205.000000</td>\n",
              "      <td>205.000000</td>\n",
              "      <td>205.000000</td>\n",
              "      <td>205.000000</td>\n",
              "      <td>205.000000</td>\n",
              "      <td>205.000000</td>\n",
              "      <td>205.00000</td>\n",
              "      <td>205.000000</td>\n",
              "      <td>205.000000</td>\n",
              "      <td>205.000000</td>\n",
              "    </tr>\n",
              "    <tr>\n",
              "      <th>mean</th>\n",
              "      <td>0.834146</td>\n",
              "      <td>129.800000</td>\n",
              "      <td>98.756585</td>\n",
              "      <td>174.049268</td>\n",
              "      <td>65.907805</td>\n",
              "      <td>53.724878</td>\n",
              "      <td>2555.565854</td>\n",
              "      <td>126.907317</td>\n",
              "      <td>3.335415</td>\n",
              "      <td>3.258244</td>\n",
              "      <td>10.142537</td>\n",
              "      <td>103.902439</td>\n",
              "      <td>5129.02439</td>\n",
              "      <td>25.219512</td>\n",
              "      <td>30.751220</td>\n",
              "      <td>13123.497561</td>\n",
              "    </tr>\n",
              "    <tr>\n",
              "      <th>std</th>\n",
              "      <td>1.245307</td>\n",
              "      <td>35.330429</td>\n",
              "      <td>6.021776</td>\n",
              "      <td>12.337289</td>\n",
              "      <td>2.145204</td>\n",
              "      <td>2.443522</td>\n",
              "      <td>520.680204</td>\n",
              "      <td>41.642693</td>\n",
              "      <td>0.273817</td>\n",
              "      <td>0.314237</td>\n",
              "      <td>3.972040</td>\n",
              "      <td>39.680343</td>\n",
              "      <td>478.40526</td>\n",
              "      <td>6.542142</td>\n",
              "      <td>6.886443</td>\n",
              "      <td>7891.178520</td>\n",
              "    </tr>\n",
              "    <tr>\n",
              "      <th>min</th>\n",
              "      <td>-2.000000</td>\n",
              "      <td>65.000000</td>\n",
              "      <td>86.600000</td>\n",
              "      <td>141.100000</td>\n",
              "      <td>60.300000</td>\n",
              "      <td>47.800000</td>\n",
              "      <td>1488.000000</td>\n",
              "      <td>61.000000</td>\n",
              "      <td>2.540000</td>\n",
              "      <td>2.070000</td>\n",
              "      <td>7.000000</td>\n",
              "      <td>48.000000</td>\n",
              "      <td>4150.00000</td>\n",
              "      <td>13.000000</td>\n",
              "      <td>16.000000</td>\n",
              "      <td>5118.000000</td>\n",
              "    </tr>\n",
              "    <tr>\n",
              "      <th>25%</th>\n",
              "      <td>0.000000</td>\n",
              "      <td>101.000000</td>\n",
              "      <td>94.500000</td>\n",
              "      <td>166.300000</td>\n",
              "      <td>64.100000</td>\n",
              "      <td>52.000000</td>\n",
              "      <td>2145.000000</td>\n",
              "      <td>97.000000</td>\n",
              "      <td>3.150000</td>\n",
              "      <td>3.110000</td>\n",
              "      <td>8.600000</td>\n",
              "      <td>70.000000</td>\n",
              "      <td>4800.00000</td>\n",
              "      <td>19.000000</td>\n",
              "      <td>25.000000</td>\n",
              "      <td>7788.000000</td>\n",
              "    </tr>\n",
              "    <tr>\n",
              "      <th>50%</th>\n",
              "      <td>1.000000</td>\n",
              "      <td>128.000000</td>\n",
              "      <td>97.000000</td>\n",
              "      <td>173.200000</td>\n",
              "      <td>65.500000</td>\n",
              "      <td>54.100000</td>\n",
              "      <td>2414.000000</td>\n",
              "      <td>120.000000</td>\n",
              "      <td>3.310000</td>\n",
              "      <td>3.290000</td>\n",
              "      <td>9.000000</td>\n",
              "      <td>95.000000</td>\n",
              "      <td>5200.00000</td>\n",
              "      <td>24.000000</td>\n",
              "      <td>30.000000</td>\n",
              "      <td>10198.000000</td>\n",
              "    </tr>\n",
              "    <tr>\n",
              "      <th>75%</th>\n",
              "      <td>2.000000</td>\n",
              "      <td>161.000000</td>\n",
              "      <td>102.400000</td>\n",
              "      <td>183.100000</td>\n",
              "      <td>66.900000</td>\n",
              "      <td>55.500000</td>\n",
              "      <td>2935.000000</td>\n",
              "      <td>141.000000</td>\n",
              "      <td>3.600000</td>\n",
              "      <td>3.410000</td>\n",
              "      <td>9.400000</td>\n",
              "      <td>116.000000</td>\n",
              "      <td>5500.00000</td>\n",
              "      <td>30.000000</td>\n",
              "      <td>34.000000</td>\n",
              "      <td>16500.000000</td>\n",
              "    </tr>\n",
              "    <tr>\n",
              "      <th>max</th>\n",
              "      <td>3.000000</td>\n",
              "      <td>256.000000</td>\n",
              "      <td>120.900000</td>\n",
              "      <td>208.100000</td>\n",
              "      <td>72.300000</td>\n",
              "      <td>59.800000</td>\n",
              "      <td>4066.000000</td>\n",
              "      <td>326.000000</td>\n",
              "      <td>3.940000</td>\n",
              "      <td>4.170000</td>\n",
              "      <td>23.000000</td>\n",
              "      <td>288.000000</td>\n",
              "      <td>6600.00000</td>\n",
              "      <td>49.000000</td>\n",
              "      <td>54.000000</td>\n",
              "      <td>45400.000000</td>\n",
              "    </tr>\n",
              "  </tbody>\n",
              "</table>\n",
              "</div>\n",
              "      <button class=\"colab-df-convert\" onclick=\"convertToInteractive('df-ec039f84-24e2-4b71-944f-aaeb260cf204')\"\n",
              "              title=\"Convert this dataframe to an interactive table.\"\n",
              "              style=\"display:none;\">\n",
              "        \n",
              "  <svg xmlns=\"http://www.w3.org/2000/svg\" height=\"24px\"viewBox=\"0 0 24 24\"\n",
              "       width=\"24px\">\n",
              "    <path d=\"M0 0h24v24H0V0z\" fill=\"none\"/>\n",
              "    <path d=\"M18.56 5.44l.94 2.06.94-2.06 2.06-.94-2.06-.94-.94-2.06-.94 2.06-2.06.94zm-11 1L8.5 8.5l.94-2.06 2.06-.94-2.06-.94L8.5 2.5l-.94 2.06-2.06.94zm10 10l.94 2.06.94-2.06 2.06-.94-2.06-.94-.94-2.06-.94 2.06-2.06.94z\"/><path d=\"M17.41 7.96l-1.37-1.37c-.4-.4-.92-.59-1.43-.59-.52 0-1.04.2-1.43.59L10.3 9.45l-7.72 7.72c-.78.78-.78 2.05 0 2.83L4 21.41c.39.39.9.59 1.41.59.51 0 1.02-.2 1.41-.59l7.78-7.78 2.81-2.81c.8-.78.8-2.07 0-2.86zM5.41 20L4 18.59l7.72-7.72 1.47 1.35L5.41 20z\"/>\n",
              "  </svg>\n",
              "      </button>\n",
              "      \n",
              "  <style>\n",
              "    .colab-df-container {\n",
              "      display:flex;\n",
              "      flex-wrap:wrap;\n",
              "      gap: 12px;\n",
              "    }\n",
              "\n",
              "    .colab-df-convert {\n",
              "      background-color: #E8F0FE;\n",
              "      border: none;\n",
              "      border-radius: 50%;\n",
              "      cursor: pointer;\n",
              "      display: none;\n",
              "      fill: #1967D2;\n",
              "      height: 32px;\n",
              "      padding: 0 0 0 0;\n",
              "      width: 32px;\n",
              "    }\n",
              "\n",
              "    .colab-df-convert:hover {\n",
              "      background-color: #E2EBFA;\n",
              "      box-shadow: 0px 1px 2px rgba(60, 64, 67, 0.3), 0px 1px 3px 1px rgba(60, 64, 67, 0.15);\n",
              "      fill: #174EA6;\n",
              "    }\n",
              "\n",
              "    [theme=dark] .colab-df-convert {\n",
              "      background-color: #3B4455;\n",
              "      fill: #D2E3FC;\n",
              "    }\n",
              "\n",
              "    [theme=dark] .colab-df-convert:hover {\n",
              "      background-color: #434B5C;\n",
              "      box-shadow: 0px 1px 3px 1px rgba(0, 0, 0, 0.15);\n",
              "      filter: drop-shadow(0px 1px 2px rgba(0, 0, 0, 0.3));\n",
              "      fill: #FFFFFF;\n",
              "    }\n",
              "  </style>\n",
              "\n",
              "      <script>\n",
              "        const buttonEl =\n",
              "          document.querySelector('#df-ec039f84-24e2-4b71-944f-aaeb260cf204 button.colab-df-convert');\n",
              "        buttonEl.style.display =\n",
              "          google.colab.kernel.accessAllowed ? 'block' : 'none';\n",
              "\n",
              "        async function convertToInteractive(key) {\n",
              "          const element = document.querySelector('#df-ec039f84-24e2-4b71-944f-aaeb260cf204');\n",
              "          const dataTable =\n",
              "            await google.colab.kernel.invokeFunction('convertToInteractive',\n",
              "                                                     [key], {});\n",
              "          if (!dataTable) return;\n",
              "\n",
              "          const docLinkHtml = 'Like what you see? Visit the ' +\n",
              "            '<a target=\"_blank\" href=https://colab.research.google.com/notebooks/data_table.ipynb>data table notebook</a>'\n",
              "            + ' to learn more about interactive tables.';\n",
              "          element.innerHTML = '';\n",
              "          dataTable['output_type'] = 'display_data';\n",
              "          await google.colab.output.renderOutput(dataTable, element);\n",
              "          const docLink = document.createElement('div');\n",
              "          docLink.innerHTML = docLinkHtml;\n",
              "          element.appendChild(docLink);\n",
              "        }\n",
              "      </script>\n",
              "    </div>\n",
              "  </div>\n",
              "  "
            ]
          },
          "metadata": {},
          "execution_count": 8
        }
      ]
    },
    {
      "cell_type": "markdown",
      "source": [
        "##Categorial Data"
      ],
      "metadata": {
        "id": "XId4ZKY69GOM"
      }
    },
    {
      "cell_type": "code",
      "source": [
        "#count values of all categorial data\n",
        "print('\\033[1m'+\"Make:\\n\"+'\\033[0m', df[\"make\"].value_counts())\n",
        "print('\\033[1m'+\"\\nFuel-Type:\\n\"+'\\033[0m', df[\"fuel-type\"].value_counts())\n",
        "print('\\033[1m'+\"\\nAspiration:\\n\"+'\\033[0m', df[\"aspiration\"].value_counts())\n",
        "print('\\033[1m'+\"\\nNum-of-Doors:\\n\"+'\\033[0m', df[\"num-of-doors\"].value_counts())\n",
        "print('\\033[1m'+\"\\nBody-Style:\\n\"+'\\033[0m', df[\"body-style\"].value_counts())\n",
        "print('\\033[1m'+\"\\nDrive-Wheels:\\n\"+'\\033[0m', df[\"drive-wheels\"].value_counts())\n",
        "print('\\033[1m'+\"\\nEngine-Location:\\n\"+'\\033[0m', df[\"engine-location\"].value_counts())\n",
        "print('\\033[1m'+\"\\nEngine-Type:\\n\"+'\\033[0m', df[\"engine-type\"].value_counts())\n",
        "print('\\033[1m'+\"\\nNum-of_Cylinders:\\n\"+'\\033[0m', df[\"num-of-cylinders\"].value_counts())\n",
        "print('\\033[1m'+\"\\nFuel-System:\\n\"+'\\033[0m', df[\"fuel-system\"].value_counts())"
      ],
      "metadata": {
        "id": "uWyJ12Q4mJuC"
      },
      "execution_count": null,
      "outputs": []
    },
    {
      "cell_type": "code",
      "source": [
        "#matplotlib\n",
        "df['make'].value_counts().plot.bar(title = \"Freq Dist of Make\", color = \"plum\");"
      ],
      "metadata": {
        "id": "gtWORQjke6jW"
      },
      "execution_count": null,
      "outputs": []
    },
    {
      "cell_type": "code",
      "source": [
        "df[\"fuel-type\"].value_counts().plot.bar(title = \"Freq Dist of Fuel Type\", color = \"pink\");"
      ],
      "metadata": {
        "id": "wwn35zUBiA7H"
      },
      "execution_count": null,
      "outputs": []
    },
    {
      "cell_type": "code",
      "source": [
        "df[\"aspiration\"].value_counts().plot.bar(title = \"Freq Dist of Aspiration\", color = \"powderblue\");"
      ],
      "metadata": {
        "id": "xyRrwmfWiB51"
      },
      "execution_count": null,
      "outputs": []
    },
    {
      "cell_type": "code",
      "source": [
        "df[\"num-of-doors\"].value_counts().plot.bar(title = \"Freq Dist of Number of Doors\", color = \"palevioletred\");"
      ],
      "metadata": {
        "id": "3CiuklyxiB8u"
      },
      "execution_count": null,
      "outputs": []
    },
    {
      "cell_type": "code",
      "source": [
        "df[\"body-style\"].value_counts().plot.bar(title = \"Freq Dist of Body Style\", color = \"mediumturquoise\");"
      ],
      "metadata": {
        "id": "vPzn2v79iB_r"
      },
      "execution_count": null,
      "outputs": []
    },
    {
      "cell_type": "code",
      "source": [
        "df[\"drive-wheels\"].value_counts().plot.bar(title = \"Freq Dist of Drive Wheels\", color = \"salmon\");"
      ],
      "metadata": {
        "id": "RyNtmZAOiCC0"
      },
      "execution_count": null,
      "outputs": []
    },
    {
      "cell_type": "code",
      "source": [
        "df[\"engine-location\"].value_counts().plot.bar(title = \"Freq Dist of Engine Location\", color = \"mediumseagreen\");"
      ],
      "metadata": {
        "id": "kM2yeK12iCFR"
      },
      "execution_count": null,
      "outputs": []
    },
    {
      "cell_type": "code",
      "source": [
        "df[\"engine-type\"].value_counts().plot.bar(title = \"Freq Dist of Engine Type\", color = \"sandybrown\");"
      ],
      "metadata": {
        "id": "ysWECv4qiCH2"
      },
      "execution_count": null,
      "outputs": []
    },
    {
      "cell_type": "code",
      "source": [
        "df[\"num-of-cylinders\"].value_counts().plot.bar(title = \"Freq Dist of Number of Cylinders\", color = \"teal\");"
      ],
      "metadata": {
        "id": "VefHhenkiCKd"
      },
      "execution_count": null,
      "outputs": []
    },
    {
      "cell_type": "code",
      "source": [
        "df[\"fuel-system\"].value_counts().plot.bar(title = \"Freq Dist of Fuel System\", color = \"navajowhite\");"
      ],
      "metadata": {
        "id": "EFlIlRnliCND"
      },
      "execution_count": null,
      "outputs": []
    },
    {
      "cell_type": "code",
      "source": [
        "#seaborn\n",
        "sns.catplot(x=\"make\", kind=\"count\", data=df)\n",
        "#since the words keep mushing together, this is so they don't on the x axis\n",
        "plt.xticks(rotation=90)\n",
        "sns.catplot(x=\"fuel-type\", kind=\"count\", data=df, palette=\"pastel\")\n",
        "sns.catplot(x=\"aspiration\", kind=\"count\", data=df, palette=\"Paired\")\n",
        "sns.catplot(x=\"num-of-doors\", kind=\"count\", data=df, palette=\"RdPu\")\n",
        "sns.catplot(x=\"body-style\", kind=\"count\", data=df, palette=\"pastel\")\n",
        "sns.catplot(x=\"drive-wheels\", kind=\"count\", data=df, palette=\"Paired\")\n",
        "sns.catplot(x=\"engine-location\", kind=\"count\", data=df, palette=\"RdPu\")\n",
        "sns.catplot(x=\"engine-type\", kind=\"count\", data=df, palette=\"ch:.25\")\n",
        "sns.catplot(x=\"num-of-cylinders\", kind=\"count\", data=df, palette=\"Paired\")\n",
        "sns.catplot(x=\"fuel-system\", kind=\"count\", data=df, palette=\"RdPu\")\n"
      ],
      "metadata": {
        "id": "80ulfTdiBkk1"
      },
      "execution_count": null,
      "outputs": []
    },
    {
      "cell_type": "markdown",
      "source": [
        "All of these graphs look good to me and I chose to do a bar graph so it's easier to see the modes between each category"
      ],
      "metadata": {
        "id": "Kx_ItkA4FZPF"
      }
    },
    {
      "cell_type": "markdown",
      "source": [
        "##Numerical Data"
      ],
      "metadata": {
        "id": "WUaNK_1D_H1T"
      }
    },
    {
      "cell_type": "code",
      "source": [
        "#count values of all numerical data\n",
        "print('\\033[1m'+\"Symboling:\\n\"+'\\033[0m', df[\"symboling\"].value_counts())\n",
        "print('\\033[1m'+\"\\nNormalized-Losses:\\n\"+'\\033[0m', df[\"normalized-losses\"].value_counts())\n",
        "print('\\033[1m'+\"\\nWheel-Base:\\n\"+'\\033[0m', df[\"wheel-base\"].value_counts())\n",
        "print('\\033[1m'+\"\\nLength:\\n\"+'\\033[0m', df[\"length\"].value_counts())\n",
        "print('\\033[1m'+\"\\nWidth:\\n\"+'\\033[0m', df[\"width\"].value_counts())\n",
        "print('\\033[1m'+\"\\nHeight:\\n\"+'\\033[0m', df[\"height\"].value_counts())\n",
        "print('\\033[1m'+\"\\nCurb-Weight:\\n\"+'\\033[0m', df[\"curb-weight\"].value_counts())\n",
        "print('\\033[1m'+\"\\nEngine-Type:\\n\"+'\\033[0m', df[\"engine-type\"].value_counts())\n",
        "print('\\033[1m'+\"\\nEngine-Size:\\n\"+'\\033[0m', df[\"engine-size\"].value_counts())\n",
        "print('\\033[1m'+\"\\nBore:\\n\"+'\\033[0m', df[\"bore\"].value_counts())\n",
        "print('\\033[1m'+\"\\nStroke:\\n\"+'\\033[0m', df[\"stroke\"].value_counts())\n",
        "print('\\033[1m'+\"\\nCompression-Ratio:\\n\"+'\\033[0m', df[\"compression-ratio\"].value_counts())\n",
        "print('\\033[1m'+\"\\nHorsepower:\\n\"+'\\033[0m', df[\"horsepower\"].value_counts())\n",
        "print('\\033[1m'+\"\\nPeak-RPM\t:\\n\"+'\\033[0m', df[\"peak-rpm\"].value_counts())\n",
        "print('\\033[1m'+\"\\nCity-MPG\t:\\n\"+'\\033[0m', df[\"city-mpg\"].value_counts())\n",
        "print('\\033[1m'+\"\\nHighway-MPG:\\n\"+'\\033[0m', df[\"highway-mpg\"].value_counts())\n",
        "print('\\033[1m'+\"\\nPrice:\\n\"+'\\033[0m', df[\"price\"].value_counts())"
      ],
      "metadata": {
        "id": "eZSiNhgOmJwv"
      },
      "execution_count": null,
      "outputs": []
    },
    {
      "cell_type": "code",
      "source": [
        "#histograms matplot\n",
        "numericDataColumns = ['symboling', 'normalized-losses', 'wheel-base', 'length', 'width', 'height', 'curb-weight',\n",
        "                      'engine-type', 'engine-size', 'bore', 'stroke', 'compression-ratio', 'horsepower', \n",
        "                      'peak-rpm', 'city-mpg', 'highway-mpg', 'price']\n",
        "num_vals = df[numericDataColumns].copy()\n",
        "num_vals.hist(bins=50, figsize=(15,10))\n",
        "plt.show()"
      ],
      "metadata": {
        "id": "eGxuTQr5HO33",
        "colab": {
          "base_uri": "https://localhost:8080/",
          "height": 607
        },
        "outputId": "4861c120-61e6-432d-9f2a-b24383e45cbd"
      },
      "execution_count": null,
      "outputs": [
        {
          "output_type": "display_data",
          "data": {
            "text/plain": [
              "<Figure size 1080x720 with 16 Axes>"
            ],
            "image/png": "[encoded data removed]"
          },
          "metadata": {
            "needs_background": "light"
          }
        }
      ]
    },
    {
      "cell_type": "markdown",
      "source": [
        "These graphs look good but I think for me it seems that for compression-ratio, from a range of 11-20, there is barely any activity there and I'm unsure of why. I don't get what the reason would be that between these numbers, there is no data being found/collected"
      ],
      "metadata": {
        "id": "1aBb9ki-FkU1"
      }
    },
    {
      "cell_type": "code",
      "source": [
        "#histograms seaborn\n",
        "sns.histplot(df['symboling'], color=\"mediumseagreen\");"
      ],
      "metadata": {
        "id": "CxahFZg6dVFn"
      },
      "execution_count": null,
      "outputs": []
    },
    {
      "cell_type": "code",
      "source": [
        "sns.histplot(df['normalized-losses'] , color=\"mediumturquoise\");"
      ],
      "metadata": {
        "id": "oPmyZiqDmJzh"
      },
      "execution_count": null,
      "outputs": []
    },
    {
      "cell_type": "code",
      "source": [
        "sns.histplot(df['wheel-base'], color=\"navajowhite\");"
      ],
      "metadata": {
        "id": "H9UWMSCymJ2B"
      },
      "execution_count": null,
      "outputs": []
    },
    {
      "cell_type": "code",
      "source": [
        "sns.histplot(df['length'], color=\"tan\");"
      ],
      "metadata": {
        "id": "v8WTVNzWmJ4e"
      },
      "execution_count": null,
      "outputs": []
    },
    {
      "cell_type": "code",
      "source": [
        "sns.histplot(df['width'], color=\"springgreen\");"
      ],
      "metadata": {
        "id": "ghXG8vugeJwv"
      },
      "execution_count": null,
      "outputs": []
    },
    {
      "cell_type": "code",
      "source": [
        "sns.histplot(df['height'], color=\"powderblue\");"
      ],
      "metadata": {
        "id": "7LvWIZXCeJz6"
      },
      "execution_count": null,
      "outputs": []
    },
    {
      "cell_type": "code",
      "source": [
        "sns.histplot(df['curb-weight'], color=\"pink\");"
      ],
      "metadata": {
        "id": "iMP6aGeDeJ2x"
      },
      "execution_count": null,
      "outputs": []
    },
    {
      "cell_type": "code",
      "source": [
        "sns.histplot(df['engine-type'], color=\"palevioletred\");"
      ],
      "metadata": {
        "id": "vTc5R0ageJ5Z"
      },
      "execution_count": null,
      "outputs": []
    },
    {
      "cell_type": "code",
      "source": [
        "sns.histplot(df['engine-size'], color=\"mediumpurple\");"
      ],
      "metadata": {
        "id": "jWPr0lv8eJ8A",
        "colab": {
          "base_uri": "https://localhost:8080/",
          "height": 279
        },
        "outputId": "4661f110-9c5f-4731-cda3-5852b082b5d5"
      },
      "execution_count": null,
      "outputs": [
        {
          "output_type": "display_data",
          "data": {
            "text/plain": [
              "<Figure size 432x288 with 1 Axes>"
            ],
            "image/png": "[encoded data removed]"
          },
          "metadata": {
            "needs_background": "light"
          }
        }
      ]
    },
    {
      "cell_type": "code",
      "source": [
        "sns.histplot(df['bore'], color=\"plum\");"
      ],
      "metadata": {
        "id": "6ISJ067eeJ-p"
      },
      "execution_count": null,
      "outputs": []
    },
    {
      "cell_type": "code",
      "source": [
        "sns.histplot(df['stroke'], color=\"sandybrown\");"
      ],
      "metadata": {
        "id": "_9ZDwGC2eKA3",
        "colab": {
          "base_uri": "https://localhost:8080/",
          "height": 279
        },
        "outputId": "8a007f06-7501-4223-a1df-c37a2794d100"
      },
      "execution_count": null,
      "outputs": [
        {
          "output_type": "display_data",
          "data": {
            "text/plain": [
              "<Figure size 432x288 with 1 Axes>"
            ],
            "image/png": "[encoded data removed]"
          },
          "metadata": {
            "needs_background": "light"
          }
        }
      ]
    },
    {
      "cell_type": "code",
      "source": [
        "sns.histplot(df['compression-ratio'], color=\"teal\");"
      ],
      "metadata": {
        "id": "-z1AC9DreV2a"
      },
      "execution_count": null,
      "outputs": []
    },
    {
      "cell_type": "code",
      "source": [
        "sns.histplot(df['horsepower'], color=\"cornflowerblue\");"
      ],
      "metadata": {
        "id": "HrY8qMSNeZk2"
      },
      "execution_count": null,
      "outputs": []
    },
    {
      "cell_type": "code",
      "source": [
        "sns.histplot(df['peak-rpm'], color=\"lavenderblush\");"
      ],
      "metadata": {
        "id": "F0gFqMZEebXP"
      },
      "execution_count": null,
      "outputs": []
    },
    {
      "cell_type": "code",
      "source": [
        "sns.histplot(df['city-mpg'], color=\"rosybrown\");"
      ],
      "metadata": {
        "id": "sATpUiq5eZpp"
      },
      "execution_count": null,
      "outputs": []
    },
    {
      "cell_type": "code",
      "source": [
        "sns.histplot(df['highway-mpg'], color=\"salmon\");"
      ],
      "metadata": {
        "id": "zhgK4qTteKC6"
      },
      "execution_count": null,
      "outputs": []
    },
    {
      "cell_type": "code",
      "source": [
        "sns.histplot(df['price'], color=\"lightskyblue\");"
      ],
      "metadata": {
        "id": "0iKNVFBwmJ66"
      },
      "execution_count": null,
      "outputs": []
    },
    {
      "cell_type": "code",
      "source": [
        "df.corr()"
      ],
      "metadata": {
        "colab": {
          "base_uri": "https://localhost:8080/",
          "height": 685
        },
        "id": "yk-4nzPuKKVf",
        "outputId": "e82f4b23-115e-41f9-9e6e-302bf96fb6e1"
      },
      "execution_count": 9,
      "outputs": [
        {
          "output_type": "execute_result",
          "data": {
            "text/plain": [
              "                   symboling  normalized-losses  wheel-base    length  \\\n",
              "symboling           1.000000           0.446686   -0.531954 -0.357612   \n",
              "normalized-losses   0.446686           1.000000    0.036644  0.147479   \n",
              "wheel-base         -0.531954           0.036644    1.000000  0.874587   \n",
              "length             -0.357612           0.147479    0.874587  1.000000   \n",
              "width              -0.232919           0.203334    0.795144  0.841118   \n",
              "height             -0.541038          -0.350396    0.589435  0.491029   \n",
              "curb-weight        -0.227691           0.253503    0.776386  0.877728   \n",
              "engine-size        -0.105790           0.290259    0.569329  0.683360   \n",
              "bore               -0.092521           0.084936    0.471522  0.591369   \n",
              "stroke              0.007019           0.104210    0.155438  0.125566   \n",
              "compression-ratio  -0.178515          -0.099213    0.249786  0.158414   \n",
              "horsepower          0.069906           0.353775    0.354480  0.548479   \n",
              "peak-rpm            0.273886           0.196267   -0.363015 -0.283001   \n",
              "city-mpg           -0.035823          -0.338417   -0.470414 -0.670909   \n",
              "highway-mpg         0.034606          -0.301092   -0.544082 -0.704662   \n",
              "price              -0.079110           0.306156    0.585105  0.687628   \n",
              "\n",
              "                      width    height  curb-weight  engine-size      bore  \\\n",
              "symboling         -0.232919 -0.541038    -0.227691    -0.105790 -0.092521   \n",
              "normalized-losses  0.203334 -0.350396     0.253503     0.290259  0.084936   \n",
              "wheel-base         0.795144  0.589435     0.776386     0.569329  0.471522   \n",
              "length             0.841118  0.491029     0.877728     0.683360  0.591369   \n",
              "width              1.000000  0.279210     0.867032     0.735433  0.551066   \n",
              "height             0.279210  1.000000     0.295572     0.067149  0.134157   \n",
              "curb-weight        0.867032  0.295572     1.000000     0.850594  0.635681   \n",
              "engine-size        0.735433  0.067149     0.850594     1.000000  0.550302   \n",
              "bore               0.551066  0.134157     0.635681     0.550302  1.000000   \n",
              "stroke             0.181693 -0.070467     0.165938     0.190894 -0.045813   \n",
              "compression-ratio  0.181129  0.261214     0.151362     0.028971  0.001259   \n",
              "horsepower         0.636906 -0.106483     0.748539     0.806325  0.565843   \n",
              "peak-rpm          -0.216906 -0.322395    -0.266021    -0.242931 -0.209752   \n",
              "city-mpg          -0.642704 -0.048640    -0.757414    -0.653658 -0.605068   \n",
              "highway-mpg       -0.677218 -0.107358    -0.797465    -0.677470 -0.604011   \n",
              "price              0.721952  0.143158     0.818597     0.858898  0.526589   \n",
              "\n",
              "                     stroke  compression-ratio  horsepower  peak-rpm  \\\n",
              "symboling          0.007019          -0.178515    0.069906  0.273886   \n",
              "normalized-losses  0.104210          -0.099213    0.353775  0.196267   \n",
              "wheel-base         0.155438           0.249786    0.354480 -0.363015   \n",
              "length             0.125566           0.158414    0.548479 -0.283001   \n",
              "width              0.181693           0.181129    0.636906 -0.216906   \n",
              "height            -0.070467           0.261214   -0.106483 -0.322395   \n",
              "curb-weight        0.165938           0.151362    0.748539 -0.266021   \n",
              "engine-size        0.190894           0.028971    0.806325 -0.242931   \n",
              "bore              -0.045813           0.001259    0.565843 -0.209752   \n",
              "stroke             1.000000           0.184040    0.070624 -0.034337   \n",
              "compression-ratio  0.184040           1.000000   -0.201651 -0.437424   \n",
              "horsepower         0.070624          -0.201651    1.000000  0.123104   \n",
              "peak-rpm          -0.034337          -0.437424    0.123104  1.000000   \n",
              "city-mpg          -0.053772           0.324701   -0.796862 -0.115988   \n",
              "highway-mpg       -0.054025           0.265201   -0.768096 -0.053818   \n",
              "price              0.084049           0.073718    0.745229 -0.112319   \n",
              "\n",
              "                   city-mpg  highway-mpg     price  \n",
              "symboling         -0.035823     0.034606 -0.079110  \n",
              "normalized-losses -0.338417    -0.301092  0.306156  \n",
              "wheel-base        -0.470414    -0.544082  0.585105  \n",
              "length            -0.670909    -0.704662  0.687628  \n",
              "width             -0.642704    -0.677218  0.721952  \n",
              "height            -0.048640    -0.107358  0.143158  \n",
              "curb-weight       -0.757414    -0.797465  0.818597  \n",
              "engine-size       -0.653658    -0.677470  0.858898  \n",
              "bore              -0.605068    -0.604011  0.526589  \n",
              "stroke            -0.053772    -0.054025  0.084049  \n",
              "compression-ratio  0.324701     0.265201  0.073718  \n",
              "horsepower        -0.796862    -0.768096  0.745229  \n",
              "peak-rpm          -0.115988    -0.053818 -0.112319  \n",
              "city-mpg           1.000000     0.971337 -0.668859  \n",
              "highway-mpg        0.971337     1.000000 -0.693589  \n",
              "price             -0.668859    -0.693589  1.000000  "
            ],
            "text/html": [
              "\n",
              "  <div id=\"df-ef854c20-630a-4e65-8043-ca913a8ce7eb\">\n",
              "    <div class=\"colab-df-container\">\n",
              "      <div>\n",
              "<style scoped>\n",
              "    .dataframe tbody tr th:only-of-type {\n",
              "        vertical-align: middle;\n",
              "    }\n",
              "\n",
              "    .dataframe tbody tr th {\n",
              "        vertical-align: top;\n",
              "    }\n",
              "\n",
              "    .dataframe thead th {\n",
              "        text-align: right;\n",
              "    }\n",
              "</style>\n",
              "<table border=\"1\" class=\"dataframe\">\n",
              "  <thead>\n",
              "    <tr style=\"text-align: right;\">\n",
              "      <th></th>\n",
              "      <th>symboling</th>\n",
              "      <th>normalized-losses</th>\n",
              "      <th>wheel-base</th>\n",
              "      <th>length</th>\n",
              "      <th>width</th>\n",
              "      <th>height</th>\n",
              "      <th>curb-weight</th>\n",
              "      <th>engine-size</th>\n",
              "      <th>bore</th>\n",
              "      <th>stroke</th>\n",
              "      <th>compression-ratio</th>\n",
              "      <th>horsepower</th>\n",
              "      <th>peak-rpm</th>\n",
              "      <th>city-mpg</th>\n",
              "      <th>highway-mpg</th>\n",
              "      <th>price</th>\n",
              "    </tr>\n",
              "  </thead>\n",
              "  <tbody>\n",
              "    <tr>\n",
              "      <th>symboling</th>\n",
              "      <td>1.000000</td>\n",
              "      <td>0.446686</td>\n",
              "      <td>-0.531954</td>\n",
              "      <td>-0.357612</td>\n",
              "      <td>-0.232919</td>\n",
              "      <td>-0.541038</td>\n",
              "      <td>-0.227691</td>\n",
              "      <td>-0.105790</td>\n",
              "      <td>-0.092521</td>\n",
              "      <td>0.007019</td>\n",
              "      <td>-0.178515</td>\n",
              "      <td>0.069906</td>\n",
              "      <td>0.273886</td>\n",
              "      <td>-0.035823</td>\n",
              "      <td>0.034606</td>\n",
              "      <td>-0.079110</td>\n",
              "    </tr>\n",
              "    <tr>\n",
              "      <th>normalized-losses</th>\n",
              "      <td>0.446686</td>\n",
              "      <td>1.000000</td>\n",
              "      <td>0.036644</td>\n",
              "      <td>0.147479</td>\n",
              "      <td>0.203334</td>\n",
              "      <td>-0.350396</td>\n",
              "      <td>0.253503</td>\n",
              "      <td>0.290259</td>\n",
              "      <td>0.084936</td>\n",
              "      <td>0.104210</td>\n",
              "      <td>-0.099213</td>\n",
              "      <td>0.353775</td>\n",
              "      <td>0.196267</td>\n",
              "      <td>-0.338417</td>\n",
              "      <td>-0.301092</td>\n",
              "      <td>0.306156</td>\n",
              "    </tr>\n",
              "    <tr>\n",
              "      <th>wheel-base</th>\n",
              "      <td>-0.531954</td>\n",
              "      <td>0.036644</td>\n",
              "      <td>1.000000</td>\n",
              "      <td>0.874587</td>\n",
              "      <td>0.795144</td>\n",
              "      <td>0.589435</td>\n",
              "      <td>0.776386</td>\n",
              "      <td>0.569329</td>\n",
              "      <td>0.471522</td>\n",
              "      <td>0.155438</td>\n",
              "      <td>0.249786</td>\n",
              "      <td>0.354480</td>\n",
              "      <td>-0.363015</td>\n",
              "      <td>-0.470414</td>\n",
              "      <td>-0.544082</td>\n",
              "      <td>0.585105</td>\n",
              "    </tr>\n",
              "    <tr>\n",
              "      <th>length</th>\n",
              "      <td>-0.357612</td>\n",
              "      <td>0.147479</td>\n",
              "      <td>0.874587</td>\n",
              "      <td>1.000000</td>\n",
              "      <td>0.841118</td>\n",
              "      <td>0.491029</td>\n",
              "      <td>0.877728</td>\n",
              "      <td>0.683360</td>\n",
              "      <td>0.591369</td>\n",
              "      <td>0.125566</td>\n",
              "      <td>0.158414</td>\n",
              "      <td>0.548479</td>\n",
              "      <td>-0.283001</td>\n",
              "      <td>-0.670909</td>\n",
              "      <td>-0.704662</td>\n",
              "      <td>0.687628</td>\n",
              "    </tr>\n",
              "    <tr>\n",
              "      <th>width</th>\n",
              "      <td>-0.232919</td>\n",
              "      <td>0.203334</td>\n",
              "      <td>0.795144</td>\n",
              "      <td>0.841118</td>\n",
              "      <td>1.000000</td>\n",
              "      <td>0.279210</td>\n",
              "      <td>0.867032</td>\n",
              "      <td>0.735433</td>\n",
              "      <td>0.551066</td>\n",
              "      <td>0.181693</td>\n",
              "      <td>0.181129</td>\n",
              "      <td>0.636906</td>\n",
              "      <td>-0.216906</td>\n",
              "      <td>-0.642704</td>\n",
              "      <td>-0.677218</td>\n",
              "      <td>0.721952</td>\n",
              "    </tr>\n",
              "    <tr>\n",
              "      <th>height</th>\n",
              "      <td>-0.541038</td>\n",
              "      <td>-0.350396</td>\n",
              "      <td>0.589435</td>\n",
              "      <td>0.491029</td>\n",
              "      <td>0.279210</td>\n",
              "      <td>1.000000</td>\n",
              "      <td>0.295572</td>\n",
              "      <td>0.067149</td>\n",
              "      <td>0.134157</td>\n",
              "      <td>-0.070467</td>\n",
              "      <td>0.261214</td>\n",
              "      <td>-0.106483</td>\n",
              "      <td>-0.322395</td>\n",
              "      <td>-0.048640</td>\n",
              "      <td>-0.107358</td>\n",
              "      <td>0.143158</td>\n",
              "    </tr>\n",
              "    <tr>\n",
              "      <th>curb-weight</th>\n",
              "      <td>-0.227691</td>\n",
              "      <td>0.253503</td>\n",
              "      <td>0.776386</td>\n",
              "      <td>0.877728</td>\n",
              "      <td>0.867032</td>\n",
              "      <td>0.295572</td>\n",
              "      <td>1.000000</td>\n",
              "      <td>0.850594</td>\n",
              "      <td>0.635681</td>\n",
              "      <td>0.165938</td>\n",
              "      <td>0.151362</td>\n",
              "      <td>0.748539</td>\n",
              "      <td>-0.266021</td>\n",
              "      <td>-0.757414</td>\n",
              "      <td>-0.797465</td>\n",
              "      <td>0.818597</td>\n",
              "    </tr>\n",
              "    <tr>\n",
              "      <th>engine-size</th>\n",
              "      <td>-0.105790</td>\n",
              "      <td>0.290259</td>\n",
              "      <td>0.569329</td>\n",
              "      <td>0.683360</td>\n",
              "      <td>0.735433</td>\n",
              "      <td>0.067149</td>\n",
              "      <td>0.850594</td>\n",
              "      <td>1.000000</td>\n",
              "      <td>0.550302</td>\n",
              "      <td>0.190894</td>\n",
              "      <td>0.028971</td>\n",
              "      <td>0.806325</td>\n",
              "      <td>-0.242931</td>\n",
              "      <td>-0.653658</td>\n",
              "      <td>-0.677470</td>\n",
              "      <td>0.858898</td>\n",
              "    </tr>\n",
              "    <tr>\n",
              "      <th>bore</th>\n",
              "      <td>-0.092521</td>\n",
              "      <td>0.084936</td>\n",
              "      <td>0.471522</td>\n",
              "      <td>0.591369</td>\n",
              "      <td>0.551066</td>\n",
              "      <td>0.134157</td>\n",
              "      <td>0.635681</td>\n",
              "      <td>0.550302</td>\n",
              "      <td>1.000000</td>\n",
              "      <td>-0.045813</td>\n",
              "      <td>0.001259</td>\n",
              "      <td>0.565843</td>\n",
              "      <td>-0.209752</td>\n",
              "      <td>-0.605068</td>\n",
              "      <td>-0.604011</td>\n",
              "      <td>0.526589</td>\n",
              "    </tr>\n",
              "    <tr>\n",
              "      <th>stroke</th>\n",
              "      <td>0.007019</td>\n",
              "      <td>0.104210</td>\n",
              "      <td>0.155438</td>\n",
              "      <td>0.125566</td>\n",
              "      <td>0.181693</td>\n",
              "      <td>-0.070467</td>\n",
              "      <td>0.165938</td>\n",
              "      <td>0.190894</td>\n",
              "      <td>-0.045813</td>\n",
              "      <td>1.000000</td>\n",
              "      <td>0.184040</td>\n",
              "      <td>0.070624</td>\n",
              "      <td>-0.034337</td>\n",
              "      <td>-0.053772</td>\n",
              "      <td>-0.054025</td>\n",
              "      <td>0.084049</td>\n",
              "    </tr>\n",
              "    <tr>\n",
              "      <th>compression-ratio</th>\n",
              "      <td>-0.178515</td>\n",
              "      <td>-0.099213</td>\n",
              "      <td>0.249786</td>\n",
              "      <td>0.158414</td>\n",
              "      <td>0.181129</td>\n",
              "      <td>0.261214</td>\n",
              "      <td>0.151362</td>\n",
              "      <td>0.028971</td>\n",
              "      <td>0.001259</td>\n",
              "      <td>0.184040</td>\n",
              "      <td>1.000000</td>\n",
              "      <td>-0.201651</td>\n",
              "      <td>-0.437424</td>\n",
              "      <td>0.324701</td>\n",
              "      <td>0.265201</td>\n",
              "      <td>0.073718</td>\n",
              "    </tr>\n",
              "    <tr>\n",
              "      <th>horsepower</th>\n",
              "      <td>0.069906</td>\n",
              "      <td>0.353775</td>\n",
              "      <td>0.354480</td>\n",
              "      <td>0.548479</td>\n",
              "      <td>0.636906</td>\n",
              "      <td>-0.106483</td>\n",
              "      <td>0.748539</td>\n",
              "      <td>0.806325</td>\n",
              "      <td>0.565843</td>\n",
              "      <td>0.070624</td>\n",
              "      <td>-0.201651</td>\n",
              "      <td>1.000000</td>\n",
              "      <td>0.123104</td>\n",
              "      <td>-0.796862</td>\n",
              "      <td>-0.768096</td>\n",
              "      <td>0.745229</td>\n",
              "    </tr>\n",
              "    <tr>\n",
              "      <th>peak-rpm</th>\n",
              "      <td>0.273886</td>\n",
              "      <td>0.196267</td>\n",
              "      <td>-0.363015</td>\n",
              "      <td>-0.283001</td>\n",
              "      <td>-0.216906</td>\n",
              "      <td>-0.322395</td>\n",
              "      <td>-0.266021</td>\n",
              "      <td>-0.242931</td>\n",
              "      <td>-0.209752</td>\n",
              "      <td>-0.034337</td>\n",
              "      <td>-0.437424</td>\n",
              "      <td>0.123104</td>\n",
              "      <td>1.000000</td>\n",
              "      <td>-0.115988</td>\n",
              "      <td>-0.053818</td>\n",
              "      <td>-0.112319</td>\n",
              "    </tr>\n",
              "    <tr>\n",
              "      <th>city-mpg</th>\n",
              "      <td>-0.035823</td>\n",
              "      <td>-0.338417</td>\n",
              "      <td>-0.470414</td>\n",
              "      <td>-0.670909</td>\n",
              "      <td>-0.642704</td>\n",
              "      <td>-0.048640</td>\n",
              "      <td>-0.757414</td>\n",
              "      <td>-0.653658</td>\n",
              "      <td>-0.605068</td>\n",
              "      <td>-0.053772</td>\n",
              "      <td>0.324701</td>\n",
              "      <td>-0.796862</td>\n",
              "      <td>-0.115988</td>\n",
              "      <td>1.000000</td>\n",
              "      <td>0.971337</td>\n",
              "      <td>-0.668859</td>\n",
              "    </tr>\n",
              "    <tr>\n",
              "      <th>highway-mpg</th>\n",
              "      <td>0.034606</td>\n",
              "      <td>-0.301092</td>\n",
              "      <td>-0.544082</td>\n",
              "      <td>-0.704662</td>\n",
              "      <td>-0.677218</td>\n",
              "      <td>-0.107358</td>\n",
              "      <td>-0.797465</td>\n",
              "      <td>-0.677470</td>\n",
              "      <td>-0.604011</td>\n",
              "      <td>-0.054025</td>\n",
              "      <td>0.265201</td>\n",
              "      <td>-0.768096</td>\n",
              "      <td>-0.053818</td>\n",
              "      <td>0.971337</td>\n",
              "      <td>1.000000</td>\n",
              "      <td>-0.693589</td>\n",
              "    </tr>\n",
              "    <tr>\n",
              "      <th>price</th>\n",
              "      <td>-0.079110</td>\n",
              "      <td>0.306156</td>\n",
              "      <td>0.585105</td>\n",
              "      <td>0.687628</td>\n",
              "      <td>0.721952</td>\n",
              "      <td>0.143158</td>\n",
              "      <td>0.818597</td>\n",
              "      <td>0.858898</td>\n",
              "      <td>0.526589</td>\n",
              "      <td>0.084049</td>\n",
              "      <td>0.073718</td>\n",
              "      <td>0.745229</td>\n",
              "      <td>-0.112319</td>\n",
              "      <td>-0.668859</td>\n",
              "      <td>-0.693589</td>\n",
              "      <td>1.000000</td>\n",
              "    </tr>\n",
              "  </tbody>\n",
              "</table>\n",
              "</div>\n",
              "      <button class=\"colab-df-convert\" onclick=\"convertToInteractive('df-ef854c20-630a-4e65-8043-ca913a8ce7eb')\"\n",
              "              title=\"Convert this dataframe to an interactive table.\"\n",
              "              style=\"display:none;\">\n",
              "        \n",
              "  <svg xmlns=\"http://www.w3.org/2000/svg\" height=\"24px\"viewBox=\"0 0 24 24\"\n",
              "       width=\"24px\">\n",
              "    <path d=\"M0 0h24v24H0V0z\" fill=\"none\"/>\n",
              "    <path d=\"M18.56 5.44l.94 2.06.94-2.06 2.06-.94-2.06-.94-.94-2.06-.94 2.06-2.06.94zm-11 1L8.5 8.5l.94-2.06 2.06-.94-2.06-.94L8.5 2.5l-.94 2.06-2.06.94zm10 10l.94 2.06.94-2.06 2.06-.94-2.06-.94-.94-2.06-.94 2.06-2.06.94z\"/><path d=\"M17.41 7.96l-1.37-1.37c-.4-.4-.92-.59-1.43-.59-.52 0-1.04.2-1.43.59L10.3 9.45l-7.72 7.72c-.78.78-.78 2.05 0 2.83L4 21.41c.39.39.9.59 1.41.59.51 0 1.02-.2 1.41-.59l7.78-7.78 2.81-2.81c.8-.78.8-2.07 0-2.86zM5.41 20L4 18.59l7.72-7.72 1.47 1.35L5.41 20z\"/>\n",
              "  </svg>\n",
              "      </button>\n",
              "      \n",
              "  <style>\n",
              "    .colab-df-container {\n",
              "      display:flex;\n",
              "      flex-wrap:wrap;\n",
              "      gap: 12px;\n",
              "    }\n",
              "\n",
              "    .colab-df-convert {\n",
              "      background-color: #E8F0FE;\n",
              "      border: none;\n",
              "      border-radius: 50%;\n",
              "      cursor: pointer;\n",
              "      display: none;\n",
              "      fill: #1967D2;\n",
              "      height: 32px;\n",
              "      padding: 0 0 0 0;\n",
              "      width: 32px;\n",
              "    }\n",
              "\n",
              "    .colab-df-convert:hover {\n",
              "      background-color: #E2EBFA;\n",
              "      box-shadow: 0px 1px 2px rgba(60, 64, 67, 0.3), 0px 1px 3px 1px rgba(60, 64, 67, 0.15);\n",
              "      fill: #174EA6;\n",
              "    }\n",
              "\n",
              "    [theme=dark] .colab-df-convert {\n",
              "      background-color: #3B4455;\n",
              "      fill: #D2E3FC;\n",
              "    }\n",
              "\n",
              "    [theme=dark] .colab-df-convert:hover {\n",
              "      background-color: #434B5C;\n",
              "      box-shadow: 0px 1px 3px 1px rgba(0, 0, 0, 0.15);\n",
              "      filter: drop-shadow(0px 1px 2px rgba(0, 0, 0, 0.3));\n",
              "      fill: #FFFFFF;\n",
              "    }\n",
              "  </style>\n",
              "\n",
              "      <script>\n",
              "        const buttonEl =\n",
              "          document.querySelector('#df-ef854c20-630a-4e65-8043-ca913a8ce7eb button.colab-df-convert');\n",
              "        buttonEl.style.display =\n",
              "          google.colab.kernel.accessAllowed ? 'block' : 'none';\n",
              "\n",
              "        async function convertToInteractive(key) {\n",
              "          const element = document.querySelector('#df-ef854c20-630a-4e65-8043-ca913a8ce7eb');\n",
              "          const dataTable =\n",
              "            await google.colab.kernel.invokeFunction('convertToInteractive',\n",
              "                                                     [key], {});\n",
              "          if (!dataTable) return;\n",
              "\n",
              "          const docLinkHtml = 'Like what you see? Visit the ' +\n",
              "            '<a target=\"_blank\" href=https://colab.research.google.com/notebooks/data_table.ipynb>data table notebook</a>'\n",
              "            + ' to learn more about interactive tables.';\n",
              "          element.innerHTML = '';\n",
              "          dataTable['output_type'] = 'display_data';\n",
              "          await google.colab.output.renderOutput(dataTable, element);\n",
              "          const docLink = document.createElement('div');\n",
              "          docLink.innerHTML = docLinkHtml;\n",
              "          element.appendChild(docLink);\n",
              "        }\n",
              "      </script>\n",
              "    </div>\n",
              "  </div>\n",
              "  "
            ]
          },
          "metadata": {},
          "execution_count": 9
        }
      ]
    },
    {
      "cell_type": "markdown",
      "source": [
        "To answer my question, it does seem that horsepower and price are highly correlated to each other and do have an affect on one or another"
      ],
      "metadata": {
        "id": "DFi0pNprKiHq"
      }
    },
    {
      "cell_type": "markdown",
      "source": [
        "#**Data Preparation & Feature Engineering**"
      ],
      "metadata": {
        "id": "-B924a_ckWUT"
      }
    },
    {
      "cell_type": "markdown",
      "source": [
        "1.  (10 Points) Which numeric variables contained within the data set appear to require the use of a feature scaling method for purposes of preparing them for use within a machine learning algorithm? Be sure to list each relevant variable and explain why you believe each variable that you’ve identified requires the use of some sort of feature scaling method.\n"
      ],
      "metadata": {
        "id": "mC0NCuIhQMyb"
      }
    },
    {
      "cell_type": "markdown",
      "source": [
        "I would say for the scaling method it would have to be standardization for a lot of the numeric variables. One example would be price because it would be a lot easier to see if there are any outliers and see why the price would be either very low or very high and what correlates with it. "
      ],
      "metadata": {
        "id": "-L2Z0Ss8A9yB"
      }
    },
    {
      "cell_type": "markdown",
      "source": [
        "2. (15 Points) Consider the number-of-doors and price variables: Based on your EDA work, how many missing data values occur within each of these attributes? As we’ve learned, missing data values can impede the proper functioning of many machine learning algorithms. To address the missing the number-of-doors and price values, you have been instructed to formulate what you believe will be an effective data imputation approach for purposes of estimating reasonable proxies for the missing data values. Your supervisor tells you that the affected data observations MUST be retained within the data set, and that it would be inappropriate to use either a mean, median, or mode value for any of the missing values since doing so would increase the likelihood of introducing unwarranted bias within the data set. Describe the imputation method you would employ for each variable. Then, using your Python skills, apply your prescribed imputation methods to the variables. Be sure to include graphics and commentary that explain your approach as well as the results of your efforts.\n"
      ],
      "metadata": {
        "id": "wEKR-7ufQN-T"
      }
    },
    {
      "cell_type": "code",
      "source": [
        "num_of_doors_missing_question_mark = df[df['num-of-doors']==\"?\"].count()['num-of-doors']\n",
        "num_of_doors_missing_question_mark"
      ],
      "metadata": {
        "colab": {
          "base_uri": "https://localhost:8080/"
        },
        "id": "rId8oMSHTEN2",
        "outputId": "f448100c-6bba-448f-fc1d-15e94de0817b"
      },
      "execution_count": null,
      "outputs": [
        {
          "output_type": "execute_result",
          "data": {
            "text/plain": [
              "2"
            ]
          },
          "metadata": {},
          "execution_count": 401
        }
      ]
    },
    {
      "cell_type": "code",
      "source": [
        "price_missing_question_mark = df[df['price']==\"?\"].count()['price']\n",
        "price_missing_question_mark"
      ],
      "metadata": {
        "colab": {
          "base_uri": "https://localhost:8080/"
        },
        "id": "rlXgeqYEU7i-",
        "outputId": "3d29e683-0cbe-46f5-9f6f-36d9505ed1d2"
      },
      "execution_count": null,
      "outputs": [
        {
          "output_type": "execute_result",
          "data": {
            "text/plain": [
              "4"
            ]
          },
          "metadata": {},
          "execution_count": 405
        }
      ]
    },
    {
      "cell_type": "code",
      "source": [
        "from sklearn.impute import KNNImputer\n",
        "# define imputer\n",
        "imputer = KNNImputer()\n",
        "# fit on the dataset\n",
        "#imputer.fit(df)\n",
        "# transform the dataset\n",
        "#dftrans = imputer.transform(price_missing_question_mark)\n",
        "# print total missing"
      ],
      "metadata": {
        "id": "Wu2tPAg6U7mI"
      },
      "execution_count": null,
      "outputs": []
    },
    {
      "cell_type": "code",
      "source": [
        ""
      ],
      "metadata": {
        "id": "BQrNruovU7o3"
      },
      "execution_count": null,
      "outputs": []
    },
    {
      "cell_type": "markdown",
      "source": [
        "3. (15 Points) Consider the engine-size and stroke variables: Describe the specific feature scaling method you would apply to each of them. Then, using Python, generate both a histogram and a boxplot for the original content of these two variables. Next, apply your prescribed feature scaling methods to the two variables and create histograms and boxplots that show the results of your feature scaling efforts. Compare your newly created plots against the plots you created for the original content of the variables. Comment on whether your feature scaling efforts improved the distribution of the data. If your feature scaling efforts did not improve the distribution of the data, explain why you believe your efforts were not effective."
      ],
      "metadata": {
        "id": "RjGjVKbyQOEf"
      }
    },
    {
      "cell_type": "code",
      "source": [
        "#before scaling\n",
        "sns.histplot(df['stroke'], color=\"sandybrown\");"
      ],
      "metadata": {
        "id": "YZw8vhWnTE8u"
      },
      "execution_count": null,
      "outputs": []
    },
    {
      "cell_type": "code",
      "source": [
        "sns.boxplot(df['stroke'], color=\"sandybrown\");"
      ],
      "metadata": {
        "id": "qumZ9jS_YO5U"
      },
      "execution_count": null,
      "outputs": []
    },
    {
      "cell_type": "code",
      "source": [
        "sns.histplot(df['engine-size'], color=\"mediumpurple\");"
      ],
      "metadata": {
        "id": "foDljAPvYO2g"
      },
      "execution_count": null,
      "outputs": []
    },
    {
      "cell_type": "code",
      "source": [
        "sns.boxplot(df['engine-size'], color=\"mediumpurple\");"
      ],
      "metadata": {
        "id": "9My_hlSHpsg7"
      },
      "execution_count": null,
      "outputs": []
    },
    {
      "cell_type": "code",
      "source": [
        "#Normalize it \n",
        "normalized_df = (df-df.mean())/df.std()\n",
        "normalized_df"
      ],
      "metadata": {
        "id": "LJWtlH-VqIwv"
      },
      "execution_count": null,
      "outputs": []
    },
    {
      "cell_type": "code",
      "source": [
        "sns.histplot(normalized_df['stroke'], color=\"sandybrown\");"
      ],
      "metadata": {
        "id": "EUHA7z8ZqIzX"
      },
      "execution_count": null,
      "outputs": []
    },
    {
      "cell_type": "code",
      "source": [
        "sns.boxplot(normalized_df['stroke'], color=\"sandybrown\");"
      ],
      "metadata": {
        "id": "VS3A2LKUsSnJ"
      },
      "execution_count": null,
      "outputs": []
    },
    {
      "cell_type": "code",
      "source": [
        "sns.histplot(normalized_df['engine-size'], color=\"mediumpurple\");"
      ],
      "metadata": {
        "id": "xTaDSwbLqI1t"
      },
      "execution_count": null,
      "outputs": []
    },
    {
      "cell_type": "code",
      "source": [
        "sns.boxplot(normalized_df['engine-size'], color=\"mediumpurple\");"
      ],
      "metadata": {
        "id": "FANAcJepqI4W"
      },
      "execution_count": null,
      "outputs": []
    },
    {
      "cell_type": "markdown",
      "source": [
        "It seemed that the results did change, the ranges have changed but not for the better. The engine size range is starting at -1, and we can't have a -1 size. Stroke has also started in the negative values, but we can't start at a negative value, so these graphs do not make sense for me to do standardization. I chose standardization because I wanted to see how the data would chance, and it did not change for the better"
      ],
      "metadata": {
        "id": "GCn6JXp3sjG7"
      }
    },
    {
      "cell_type": "markdown",
      "source": [
        "4. (15 Points) Consider the symboling, make, and engine-type variables:\n",
        "\n",
        "A) For each variable, specify whether its content is numeric/continuous, numeric/discrete,\n",
        "categorical/nominal, or categorical/ordinal\n",
        "\n",
        "B) For each variable, describe the methodology you would employ for purposes of preparing its data values for use within a machine learning algorithm.\n",
        "\n",
        "C) Using your Python skills, apply your prescribed data preparation methodologies to the three variables. Be sure to show a sample of your results within your Notebook."
      ],
      "metadata": {
        "id": "i74JNCwoQOK_"
      }
    },
    {
      "cell_type": "markdown",
      "source": [
        "Part A)\n",
        "\n",
        "Symboling: numeric/discrete because we are dealing with whole numbers and not floats\n",
        "\n",
        "Make: categorical/nomial because there is no order for this\n",
        "\n",
        "Engine-Type: categorical/nomial because there is no order for this"
      ],
      "metadata": {
        "id": "-oxP6RKat27m"
      }
    },
    {
      "cell_type": "markdown",
      "source": [
        "Part B) For symboling I would do regression because it would be easier to see the outliers and what may have caused the outlier, whether it was the make of the car, the normalized-losses or something else. \n",
        "\n",
        "For make I would do Forward Selection because it continues to add a new feauture to improve the model and will stop when it can't be improved the performance no more. \n",
        "\n",
        "For engine-type I would do Backward Elimination because it removes least significant feature to improve the model and will stop when it can't be improved anymore. \n"
      ],
      "metadata": {
        "id": "P5DcnSkO2u1E"
      }
    },
    {
      "cell_type": "code",
      "source": [
        "#Part C\n",
        "from sklearn.linear_model import LinearRegression\n",
        "from sklearn.model_selection import train_test_split\n",
        "from sklearn.metrics import r2_score\n",
        "#couldn't figure this part out"
      ],
      "metadata": {
        "id": "-GfzLyfAYRtc"
      },
      "execution_count": 12,
      "outputs": []
    },
    {
      "cell_type": "markdown",
      "source": [
        "5. (15 Points) Consider the wheel-base, length, width, height, curb-weight, engine-size, compression ratio, horsepower, peak-rpm, and city-mpg variables. Using your dimensionality reduction expertise, use Python to reduce the dimensionality of this group of variables to a set of new orthogonal features. Be sure to include appropriate commentary explaining the dimensionality reduction method you have elected to implement and discuss the results of your efforts. For example, you should explain how many orthogonal features your approach has generated as well as how much variability is explained by each of your new features.\n"
      ],
      "metadata": {
        "id": "Kr1gG09QQOQt"
      }
    },
    {
      "cell_type": "code",
      "source": [
        ""
      ],
      "metadata": {
        "id": "7GYm2FW15n6D"
      },
      "execution_count": null,
      "outputs": []
    },
    {
      "cell_type": "code",
      "source": [
        ""
      ],
      "metadata": {
        "id": "iH0A4R97QMPn"
      },
      "execution_count": null,
      "outputs": []
    }
  ]
}